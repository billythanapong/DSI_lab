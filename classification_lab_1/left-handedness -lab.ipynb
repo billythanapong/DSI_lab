{
 "cells": [
  {
   "cell_type": "markdown",
   "id": "e5e043b2",
   "metadata": {},
   "source": [
    "## Week 4, Lab 1: Predicting Left-Handedness from Psychological Factors\n",
    "> Author: Matt Brems\n",
    "\n",
    "One way to define the data science process is as follows:\n",
    "\n",
    "1. Define the problem.\n",
    "2. Obtain the data.\n",
    "3. Explore the data.\n",
    "4. Model the data.\n",
    "5. Evaluate the model.\n",
    "6. Answer the problem.\n",
    "\n",
    "We'll walk through a full data science problem in this lab. \n",
    "\n",
    "---\n",
    "## Define The Problem.\n",
    "\n",
    "You're currently a data scientist working at a university. A professor of psychology is attempting to study the relationship between personalities and left-handedness. They have tasked you with gathering evidence so that they may publish.\n",
    "\n",
    "As a data scientist, you know that any real data science problem must be **specific** and **conclusively answerable**. For example:\n",
    "- Bad data science problem: \"What is the link between obesity and blood pressure?\"\n",
    "    - This is vague and is not conclusively answerable. That is, two people might look at the conclusion and one may say \"Sure, the problem has been answered!\" and the other may say \"The problem has not yet been answered.\"\n",
    "- Good data science problem: \"Does an association exist between obesity and blood pressure?\"\n",
    "    - This is more specific and is conclusively answerable. The problem specifically is asking for a \"Yes\" or \"No\" answer. Based on that, two independent people should both be able to say either \"Yes, the problem has been answered\" or \"No, the problem has not yet been answered.\"\n",
    "- Excellent data science problem: \"As obesity increases, how does blood pressure change?\"\n",
    "    - This is very specific and is conclusively answerable. The problem specifically seeks to understand the effect of one variable on the other.\n",
    "\n",
    "### In the context of the left-handedness and personality example, what are three specific and conclusively answerable problems that you could answer using data science? \n",
    "\n",
    "> You might find it helpful to check out the codebook in the repo for some inspiration."
   ]
  },
  {
   "cell_type": "markdown",
   "id": "7b85a516",
   "metadata": {},
   "source": [
    "**1. Do mostly of left-handedness people, being an introvert?**\n",
    "\n",
    "**2. Do people with left-handedness are male or female the most?**  \n",
    "\n",
    "**3. Do female with heterosexual tend to be right handedness?**"
   ]
  },
  {
   "cell_type": "markdown",
   "id": "32144652",
   "metadata": {},
   "source": [
    "---\n",
    "## Step 2: Obtain the data.\n",
    "\n",
    "### Read in the file titled \"data.csv\":\n",
    "> Hint: Despite being saved as a .csv file, you won't be able to simply `pd.read_csv()` this data!"
   ]
  },
  {
   "cell_type": "code",
   "execution_count": 1,
   "id": "2a154e91",
   "metadata": {},
   "outputs": [],
   "source": [
    "# library imports\n",
    "import pandas as pd\n",
    "import matplotlib.pyplot as plt\n",
    "import seaborn as sns\n",
    "import numpy as np    \n",
    "import warnings\n",
    "warnings.filterwarnings(action='ignore')\n",
    "\n",
    "from sklearn.neighbors import KNeighborsClassifier\n",
    "from sklearn.linear_model import LogisticRegression\n",
    "from sklearn.model_selection import train_test_split,cross_val_score\n",
    "from sklearn.preprocessing import StandardScaler\n",
    "from sklearn.metrics import confusion_matrix,plot_confusion_matrix,classification_report\n",
    "from sklearn import metrics"
   ]
  },
  {
   "cell_type": "code",
   "execution_count": 2,
   "id": "1e730059",
   "metadata": {},
   "outputs": [],
   "source": [
    "df = pd.read_csv('./data.csv',sep='\\t')"
   ]
  },
  {
   "cell_type": "code",
   "execution_count": 3,
   "id": "e5167b54",
   "metadata": {
    "scrolled": false
   },
   "outputs": [
    {
     "data": {
      "text/html": [
       "<div>\n",
       "<style scoped>\n",
       "    .dataframe tbody tr th:only-of-type {\n",
       "        vertical-align: middle;\n",
       "    }\n",
       "\n",
       "    .dataframe tbody tr th {\n",
       "        vertical-align: top;\n",
       "    }\n",
       "\n",
       "    .dataframe thead th {\n",
       "        text-align: right;\n",
       "    }\n",
       "</style>\n",
       "<table border=\"1\" class=\"dataframe\">\n",
       "  <thead>\n",
       "    <tr style=\"text-align: right;\">\n",
       "      <th></th>\n",
       "      <th>Q1</th>\n",
       "      <th>Q2</th>\n",
       "      <th>Q3</th>\n",
       "      <th>Q4</th>\n",
       "      <th>Q5</th>\n",
       "      <th>Q6</th>\n",
       "      <th>Q7</th>\n",
       "      <th>Q8</th>\n",
       "      <th>Q9</th>\n",
       "      <th>Q10</th>\n",
       "      <th>...</th>\n",
       "      <th>country</th>\n",
       "      <th>fromgoogle</th>\n",
       "      <th>engnat</th>\n",
       "      <th>age</th>\n",
       "      <th>education</th>\n",
       "      <th>gender</th>\n",
       "      <th>orientation</th>\n",
       "      <th>race</th>\n",
       "      <th>religion</th>\n",
       "      <th>hand</th>\n",
       "    </tr>\n",
       "  </thead>\n",
       "  <tbody>\n",
       "    <tr>\n",
       "      <th>0</th>\n",
       "      <td>4</td>\n",
       "      <td>1</td>\n",
       "      <td>5</td>\n",
       "      <td>1</td>\n",
       "      <td>5</td>\n",
       "      <td>1</td>\n",
       "      <td>5</td>\n",
       "      <td>1</td>\n",
       "      <td>4</td>\n",
       "      <td>1</td>\n",
       "      <td>...</td>\n",
       "      <td>US</td>\n",
       "      <td>2</td>\n",
       "      <td>1</td>\n",
       "      <td>22</td>\n",
       "      <td>3</td>\n",
       "      <td>1</td>\n",
       "      <td>1</td>\n",
       "      <td>3</td>\n",
       "      <td>2</td>\n",
       "      <td>3</td>\n",
       "    </tr>\n",
       "    <tr>\n",
       "      <th>1</th>\n",
       "      <td>1</td>\n",
       "      <td>5</td>\n",
       "      <td>1</td>\n",
       "      <td>4</td>\n",
       "      <td>2</td>\n",
       "      <td>5</td>\n",
       "      <td>5</td>\n",
       "      <td>4</td>\n",
       "      <td>1</td>\n",
       "      <td>5</td>\n",
       "      <td>...</td>\n",
       "      <td>CA</td>\n",
       "      <td>2</td>\n",
       "      <td>1</td>\n",
       "      <td>14</td>\n",
       "      <td>1</td>\n",
       "      <td>2</td>\n",
       "      <td>2</td>\n",
       "      <td>6</td>\n",
       "      <td>1</td>\n",
       "      <td>1</td>\n",
       "    </tr>\n",
       "    <tr>\n",
       "      <th>2</th>\n",
       "      <td>1</td>\n",
       "      <td>2</td>\n",
       "      <td>1</td>\n",
       "      <td>1</td>\n",
       "      <td>5</td>\n",
       "      <td>4</td>\n",
       "      <td>3</td>\n",
       "      <td>2</td>\n",
       "      <td>1</td>\n",
       "      <td>4</td>\n",
       "      <td>...</td>\n",
       "      <td>NL</td>\n",
       "      <td>2</td>\n",
       "      <td>2</td>\n",
       "      <td>30</td>\n",
       "      <td>4</td>\n",
       "      <td>1</td>\n",
       "      <td>1</td>\n",
       "      <td>1</td>\n",
       "      <td>1</td>\n",
       "      <td>2</td>\n",
       "    </tr>\n",
       "    <tr>\n",
       "      <th>3</th>\n",
       "      <td>1</td>\n",
       "      <td>4</td>\n",
       "      <td>1</td>\n",
       "      <td>5</td>\n",
       "      <td>1</td>\n",
       "      <td>4</td>\n",
       "      <td>5</td>\n",
       "      <td>4</td>\n",
       "      <td>3</td>\n",
       "      <td>5</td>\n",
       "      <td>...</td>\n",
       "      <td>US</td>\n",
       "      <td>2</td>\n",
       "      <td>1</td>\n",
       "      <td>18</td>\n",
       "      <td>2</td>\n",
       "      <td>2</td>\n",
       "      <td>5</td>\n",
       "      <td>3</td>\n",
       "      <td>2</td>\n",
       "      <td>2</td>\n",
       "    </tr>\n",
       "    <tr>\n",
       "      <th>4</th>\n",
       "      <td>5</td>\n",
       "      <td>1</td>\n",
       "      <td>5</td>\n",
       "      <td>1</td>\n",
       "      <td>5</td>\n",
       "      <td>1</td>\n",
       "      <td>5</td>\n",
       "      <td>1</td>\n",
       "      <td>3</td>\n",
       "      <td>1</td>\n",
       "      <td>...</td>\n",
       "      <td>US</td>\n",
       "      <td>2</td>\n",
       "      <td>1</td>\n",
       "      <td>22</td>\n",
       "      <td>3</td>\n",
       "      <td>1</td>\n",
       "      <td>1</td>\n",
       "      <td>3</td>\n",
       "      <td>2</td>\n",
       "      <td>3</td>\n",
       "    </tr>\n",
       "  </tbody>\n",
       "</table>\n",
       "<p>5 rows × 56 columns</p>\n",
       "</div>"
      ],
      "text/plain": [
       "   Q1  Q2  Q3  Q4  Q5  Q6  Q7  Q8  Q9  Q10  ...  country  fromgoogle  engnat  \\\n",
       "0   4   1   5   1   5   1   5   1   4    1  ...       US           2       1   \n",
       "1   1   5   1   4   2   5   5   4   1    5  ...       CA           2       1   \n",
       "2   1   2   1   1   5   4   3   2   1    4  ...       NL           2       2   \n",
       "3   1   4   1   5   1   4   5   4   3    5  ...       US           2       1   \n",
       "4   5   1   5   1   5   1   5   1   3    1  ...       US           2       1   \n",
       "\n",
       "   age  education  gender  orientation  race  religion  hand  \n",
       "0   22          3       1            1     3         2     3  \n",
       "1   14          1       2            2     6         1     1  \n",
       "2   30          4       1            1     1         1     2  \n",
       "3   18          2       2            5     3         2     2  \n",
       "4   22          3       1            1     3         2     3  \n",
       "\n",
       "[5 rows x 56 columns]"
      ]
     },
     "execution_count": 3,
     "metadata": {},
     "output_type": "execute_result"
    }
   ],
   "source": [
    "df.head()"
   ]
  },
  {
   "cell_type": "markdown",
   "id": "50b55b21",
   "metadata": {},
   "source": [
    "---\n",
    "\n",
    "## Step 3: Explore the data.\n",
    "\n",
    "### Conduct background research:\n",
    "\n",
    "Domain knowledge is irreplaceable. Figuring out what information is relevant to a problem, or what data would be useful to gather, is a major part of any end-to-end data science project! For this lab, you'll be using a dataset that someone else has put together, rather than collecting the data yourself.\n",
    "\n",
    "Do some background research about personality and handedness. What features, if any, are likely to help you make good predictions? How well do you think you'll be able to model this? Write a few bullet points summarizing what you believe, and remember to cite external sources.\n",
    "\n",
    "You don't have to be exhaustive here. Do enough research to form an opinion, and then move on.\n",
    "\n",
    "> You'll be using the answers to Q1-Q44 for modeling; you can disregard other features, e.g. country, age, internet browser."
   ]
  },
  {
   "cell_type": "markdown",
   "id": "9ef1a692",
   "metadata": {},
   "source": [
    "- From the research paper, I decided to use gender, orientation, liveliness(the quality of being outgoing, energetic, and enthusiastic.), and the activities related with brain control."
   ]
  },
  {
   "cell_type": "markdown",
   "id": "5711934f",
   "metadata": {},
   "source": [
    "citation : \n",
    "\n",
    "1. SEX - handedness : Bobrova EV, Reshetnikova VV, Vershinina EA, Grishin AA, Bobrov PD, Frolov AA, Gerasimenko YP. Success of Hand Movement Imagination Depends on Personality Traits, Brain Asymmetry, and Degree of Handedness. Brain Sciences. 2021; 11(7):853. https://doi.org/10.3390/brainsci11070853\n",
    "2. Orientation - handedness : https://en.wikipedia.org/wiki/Handedness_and_sexual_orientation#:~:text=Although%20a%20significantly%20higher%20proportion,with%20respect%20to%20hand%20preference."
   ]
  },
  {
   "cell_type": "markdown",
   "id": "3adf0649",
   "metadata": {},
   "source": [
    "### Conduct exploratory data analysis on this dataset:\n",
    "\n",
    "If you haven't already, be sure to check out the codebook in the repo, as that will help in your EDA process.\n",
    "\n",
    "You might use this section to perform data cleaning if you find it to be necessary."
   ]
  },
  {
   "cell_type": "code",
   "execution_count": 7,
   "id": "a21127dc",
   "metadata": {},
   "outputs": [
    {
     "name": "stdout",
     "output_type": "stream",
     "text": [
      "<class 'pandas.core.frame.DataFrame'>\n",
      "Int64Index: 3994 entries, 1 to 4183\n",
      "Data columns (total 56 columns):\n",
      " #   Column       Non-Null Count  Dtype \n",
      "---  ------       --------------  ----- \n",
      " 0   Q1           3994 non-null   int64 \n",
      " 1   Q2           3994 non-null   int64 \n",
      " 2   Q3           3994 non-null   int64 \n",
      " 3   Q4           3994 non-null   int64 \n",
      " 4   Q5           3994 non-null   int64 \n",
      " 5   Q6           3994 non-null   int64 \n",
      " 6   Q7           3994 non-null   int64 \n",
      " 7   Q8           3994 non-null   int64 \n",
      " 8   Q9           3994 non-null   int64 \n",
      " 9   Q10          3994 non-null   int64 \n",
      " 10  Q11          3994 non-null   int64 \n",
      " 11  Q12          3994 non-null   int64 \n",
      " 12  Q13          3994 non-null   int64 \n",
      " 13  Q14          3994 non-null   int64 \n",
      " 14  Q15          3994 non-null   int64 \n",
      " 15  Q16          3994 non-null   int64 \n",
      " 16  Q17          3994 non-null   int64 \n",
      " 17  Q18          3994 non-null   int64 \n",
      " 18  Q19          3994 non-null   int64 \n",
      " 19  Q20          3994 non-null   int64 \n",
      " 20  Q21          3994 non-null   int64 \n",
      " 21  Q22          3994 non-null   int64 \n",
      " 22  Q23          3994 non-null   int64 \n",
      " 23  Q24          3994 non-null   int64 \n",
      " 24  Q25          3994 non-null   int64 \n",
      " 25  Q26          3994 non-null   int64 \n",
      " 26  Q27          3994 non-null   int64 \n",
      " 27  Q28          3994 non-null   int64 \n",
      " 28  Q29          3994 non-null   int64 \n",
      " 29  Q30          3994 non-null   int64 \n",
      " 30  Q31          3994 non-null   int64 \n",
      " 31  Q32          3994 non-null   int64 \n",
      " 32  Q33          3994 non-null   int64 \n",
      " 33  Q34          3994 non-null   int64 \n",
      " 34  Q35          3994 non-null   int64 \n",
      " 35  Q36          3994 non-null   int64 \n",
      " 36  Q37          3994 non-null   int64 \n",
      " 37  Q38          3994 non-null   int64 \n",
      " 38  Q39          3994 non-null   int64 \n",
      " 39  Q40          3994 non-null   int64 \n",
      " 40  Q41          3994 non-null   int64 \n",
      " 41  Q42          3994 non-null   int64 \n",
      " 42  Q43          3994 non-null   int64 \n",
      " 43  Q44          3994 non-null   int64 \n",
      " 44  introelapse  3994 non-null   int64 \n",
      " 45  testelapse   3994 non-null   int64 \n",
      " 46  country      3994 non-null   object\n",
      " 47  fromgoogle   3994 non-null   int64 \n",
      " 48  engnat       3994 non-null   int64 \n",
      " 49  age          3994 non-null   int64 \n",
      " 50  education    3994 non-null   int64 \n",
      " 51  gender       3994 non-null   int64 \n",
      " 52  orientation  3994 non-null   int64 \n",
      " 53  race         3994 non-null   int64 \n",
      " 54  religion     3994 non-null   int64 \n",
      " 55  hand         3994 non-null   int64 \n",
      "dtypes: int64(55), object(1)\n",
      "memory usage: 1.7+ MB\n"
     ]
    }
   ],
   "source": [
    "df.info()\n",
    "# only 1 feature is object type but it is not necessary, so we could drop it."
   ]
  },
  {
   "cell_type": "code",
   "execution_count": 4,
   "id": "42ae402c",
   "metadata": {},
   "outputs": [],
   "source": [
    "# Clean up target variables\n",
    "\n",
    "# Why would drop zero value?\n",
    "# A: small % of values and we're clear on what 0 means. But we think it's likely a missing value stand-in\n",
    "\n",
    "# Why do we do about value of 3?\n",
    "# We're unable to differentiate between dominant hand.\n",
    "# Also, larger % of 'hand' values but not overwhelming in terms of row or information loss.\n",
    "\n",
    "df = df[(df['hand'] != 0) & (df['hand'] != 3)]"
   ]
  },
  {
   "cell_type": "code",
   "execution_count": 5,
   "id": "c00c152e",
   "metadata": {},
   "outputs": [
    {
     "data": {
      "text/plain": [
       "(3994, 56)"
      ]
     },
     "execution_count": 5,
     "metadata": {},
     "output_type": "execute_result"
    }
   ],
   "source": [
    "df.shape"
   ]
  },
  {
   "cell_type": "code",
   "execution_count": 6,
   "id": "277974df",
   "metadata": {},
   "outputs": [
    {
     "data": {
      "text/plain": [
       "Series([], dtype: int64)"
      ]
     },
     "execution_count": 6,
     "metadata": {},
     "output_type": "execute_result"
    }
   ],
   "source": [
    "# There is no NaN values in any columns\n",
    "df.isnull().sum()[df.isnull().sum() != 0] "
   ]
  },
  {
   "cell_type": "code",
   "execution_count": 8,
   "id": "c6c54e65",
   "metadata": {},
   "outputs": [],
   "source": [
    "# Select specific features\n",
    "data = df[['Q1','Q6','Q26','Q14','Q13','Q29','Q2','gender','orientation','hand']]\n",
    "\n",
    "\n",
    "# data = data[ (data['Q6'] != 0) & (data['Q13'] != 0) &(data['Q29'] != 0)&(data['Q1'] != 0) \\\n",
    "#      & (data['Q14'] != 0) & (data['Q26'] != 0) & (data['gender'] != 0)  &(data['Q2'] != 0)\\\n",
    "#           &  (data['gender'] != 3) & (data['orientation'] != 0)\\\n",
    "#      & (data['hand'] != 0) & (data['hand'] != 3)]"
   ]
  },
  {
   "cell_type": "code",
   "execution_count": 9,
   "id": "d7569d90",
   "metadata": {},
   "outputs": [],
   "source": [
    "#  loop through every column and filter out zero value\n",
    "for i in data:\n",
    "    data = data[data[i] != 0]"
   ]
  },
  {
   "cell_type": "code",
   "execution_count": 14,
   "id": "546cf5b9",
   "metadata": {},
   "outputs": [],
   "source": [
    "# We could find 3 as an option, so we drop it cause of low proportion of rows.\n",
    "data = data[data['gender'] != 3]"
   ]
  },
  {
   "cell_type": "code",
   "execution_count": 16,
   "id": "906ebb1a",
   "metadata": {},
   "outputs": [
    {
     "data": {
      "text/plain": [
       "5    1256\n",
       "4     939\n",
       "3     597\n",
       "1     381\n",
       "2     334\n",
       "Name: Q6, dtype: int64"
      ]
     },
     "execution_count": 16,
     "metadata": {},
     "output_type": "execute_result"
    }
   ],
   "source": [
    "# Check whether there is zero or not. No more zero.\n",
    "data['Q6'].value_counts()"
   ]
  },
  {
   "cell_type": "code",
   "execution_count": 17,
   "id": "cc52636a",
   "metadata": {},
   "outputs": [],
   "source": [
    "# make left hand = 1, right hand = 0\n",
    "\n",
    "data['hand'] = data['hand'].map({1:0,2:1})"
   ]
  },
  {
   "cell_type": "code",
   "execution_count": 19,
   "id": "c984f23d",
   "metadata": {
    "scrolled": false
   },
   "outputs": [
    {
     "data": {
      "image/png": "[encoded data removed]",
      "text/plain": [
       "<Figure size 1440x720 with 9 Axes>"
      ]
     },
     "metadata": {
      "needs_background": "light"
     },
     "output_type": "display_data"
    }
   ],
   "source": [
    "# Plot of median of value in each features selected\n",
    "fig,ax = plt.subplots(figsize=(20,10))\n",
    "data.boxplot(by='hand',ax=ax);\n",
    "# There is no significant difference in any features."
   ]
  },
  {
   "cell_type": "markdown",
   "id": "50d77858",
   "metadata": {},
   "source": [
    "- ##### The selected features have no differences between right-handedness & left-handedness"
   ]
  },
  {
   "cell_type": "markdown",
   "id": "bb26e657",
   "metadata": {},
   "source": [
    "### Calculate and interpret the baseline accuracy rate:"
   ]
  },
  {
   "cell_type": "code",
   "execution_count": null,
   "id": "51b8332f",
   "metadata": {},
   "outputs": [],
   "source": [
    "# Options...\n",
    "\n",
    "# Addressing the class label imbalance switching k at 90/10 split\n",
    "# made no significant difference in models predictive accuracy\n",
    "\n",
    "# Find left-handed people to survey\n",
    "# Oversampling the majority class\n",
    "# Undersampling the majority class\n",
    "# A bit both (SMOTE) --> Synthetic minority over-sampling technique.\n",
    "# Algorithmically increase the number of your cases in your dataset in a more balanced key.\n"
   ]
  },
  {
   "cell_type": "code",
   "execution_count": 20,
   "id": "89ecc3c6",
   "metadata": {},
   "outputs": [
    {
     "data": {
      "text/plain": [
       "0    0.889364\n",
       "1    0.110636\n",
       "Name: hand, dtype: float64"
      ]
     },
     "execution_count": 20,
     "metadata": {},
     "output_type": "execute_result"
    }
   ],
   "source": [
    "data['hand'].value_counts(normalize=True)\n",
    "\n",
    "# We are interested in 1, which is number of people who being left-handedness.\n",
    "# So the baseline score of left-handed is the majority class which is right-handedness at 88.9%\n",
    "\n",
    "\n",
    "# If the algorithm just selected the majority of its predictions of y\n",
    "# Algorithmic equivalent --> Dummyclassifier set to'most_frequent'"
   ]
  },
  {
   "cell_type": "markdown",
   "id": "2016bb4e",
   "metadata": {},
   "source": [
    "### Short answer questions:\n",
    "\n",
    "In this lab you'll use K-nearest neighbors and logistic regression to model handedness based off of psychological factors. Answer the following related questions; your answers may be in bullet points.\n",
    "\n",
    "#### Describe the difference between regression and classification problems:"
   ]
  },
  {
   "cell_type": "markdown",
   "id": "e9a781b5",
   "metadata": {},
   "source": [
    "- the regression based on: numerics answers \n",
    "- the classifications based on : binary or multiclass answers like 0,1 or categorical values."
   ]
  },
  {
   "cell_type": "markdown",
   "id": "b7469aee",
   "metadata": {},
   "source": [
    "#### Considering $k$-nearest neighbors, describe the relationship between $k$ and the bias-variance tradeoff:"
   ]
  },
  {
   "cell_type": "markdown",
   "id": "78324577",
   "metadata": {},
   "source": [
    "- the smaller in k may lead --> the higher in variance (overfitted)\n",
    "- optimal k --> 'the sweet spot' --> neither underfitting or overfitting\n",
    "- the bigger in k may lead --> the higher in bias (underfitted)"
   ]
  },
  {
   "cell_type": "markdown",
   "id": "7bdc66d6",
   "metadata": {},
   "source": [
    "#### Why do we often standardize predictor variables when using $k$-nearest neighbors?"
   ]
  },
  {
   "cell_type": "markdown",
   "id": "ef388dc0",
   "metadata": {},
   "source": [
    "- predictor variables --> features\n",
    "\n",
    "- KNN is distance based algorithm and scale/magnitude of features impacts perfomance and output like the unit of categorical variables are varies , e.g. different in magnitude--> so wee need to scaled to doing a comparison.\n",
    "\n",
    "- Standardization --> rescales values in the features columns to have each column possess a **mean of zero and std of 1**"
   ]
  },
  {
   "attachments": {
    "J5r01.png": {
     "image/png": "[encoded data removed]"
    }
   },
   "cell_type": "markdown",
   "id": "29c867ff",
   "metadata": {},
   "source": [
    "![J5r01.png](attachment:J5r01.png)"
   ]
  },
  {
   "cell_type": "markdown",
   "id": "4ad52536",
   "metadata": {},
   "source": [
    "#### Do you think we should standardize the explanatory variables for this problem? Why or why not?"
   ]
  },
  {
   "cell_type": "markdown",
   "id": "fad1babf",
   "metadata": {},
   "source": [
    "- Possibly not this time as all our features to be used are ranged from 1-5. Already on the same or very similar scale.\n",
    "\n"
   ]
  },
  {
   "cell_type": "markdown",
   "id": "1cf6e09f",
   "metadata": {},
   "source": [
    "#### How do we settle on $k$ for a $k$-nearest neighbors model?"
   ]
  },
  {
   "cell_type": "markdown",
   "id": "e3fedf32",
   "metadata": {},
   "source": [
    "- Use the default\n",
    "- Guess\n",
    "- Loop/iterate through a range of k options and select the optimal one based on score."
   ]
  },
  {
   "cell_type": "markdown",
   "id": "958fe4a8",
   "metadata": {},
   "source": [
    "#### What is the default type of regularization for logistic regression as implemented in scikit-learn? (You might [check the documentation](https://scikit-learn.org/stable/modules/generated/sklearn.linear_model.LogisticRegression.html).)"
   ]
  },
  {
   "cell_type": "markdown",
   "id": "fc1edfce",
   "metadata": {},
   "source": [
    "- default is 'L2', which is Ridge regularization"
   ]
  },
  {
   "cell_type": "markdown",
   "id": "f4b117e3",
   "metadata": {},
   "source": [
    "#### Describe the relationship between the scikit-learn `LogisticRegression` argument `C` and regularization strength:"
   ]
  },
  {
   "cell_type": "markdown",
   "id": "d4ece606",
   "metadata": {},
   "source": [
    "- C is the inverse of regularization strength, which regularization strength of regularization is alpha.\n",
    "- So, C is inversely related to alpha.\n",
    "\n",
    "\n",
    "\n",
    "- Higher C --> lower alpha\n"
   ]
  },
  {
   "cell_type": "markdown",
   "id": "4f19a574",
   "metadata": {},
   "source": [
    "#### Describe the relationship between regularization strength and the bias-variance tradeoff:"
   ]
  },
  {
   "cell_type": "markdown",
   "id": "db0a94cd",
   "metadata": {},
   "source": [
    "- Why ? Avoid error due to high variance (overfitting)\n",
    "- When? high model complexity which is leading to overfitting.\n",
    "\n",
    "\n",
    "- the higher in alpha (regulrization strength) or the lower in C, the less on variance occurs, but if overdone the more on bias."
   ]
  },
  {
   "cell_type": "markdown",
   "id": "7089674d",
   "metadata": {},
   "source": [
    "#### Logistic regression is considered more interpretable than $k$-nearest neighbors. Explain why."
   ]
  },
  {
   "cell_type": "markdown",
   "id": "616d4ece",
   "metadata": {},
   "source": [
    "- Interpretable\n",
    "\n",
    "- KNN is a non-parametric model, where Logistic regression is a parametric model. Which mean, the logistic regression has parameters to explained the scenarios. \n",
    "\n",
    " Explaining to a  non-technical individual?\n",
    "- In terms of explaining conceptually to a non-technical audience though it could be that kNN is easier to explain at a high level than LogReg.\n",
    "\n",
    " Explaining relationship in a meaningful and actionable way?\n",
    "- KNN fails and logreg is better\n",
    "\n",
    "\n",
    "\n",
    "- Both are classifiers (LogReg and knn classifier) so they have some similarities like decision boundaries between the class labels but also have some core differences such as one being parametric and one not. So conceptually, some similarities but fairly different in the details."
   ]
  },
  {
   "cell_type": "markdown",
   "id": "00360fc0",
   "metadata": {},
   "source": [
    "---\n",
    "\n",
    "## Step 4 & 5 Modeling: $k$-nearest neighbors\n",
    "\n",
    "### Train-test split your data:\n",
    "\n",
    "Your explanatory variables should be "
   ]
  },
  {
   "cell_type": "code",
   "execution_count": 21,
   "id": "7239cca8",
   "metadata": {},
   "outputs": [],
   "source": [
    "X = data.drop(columns = 'hand')\n",
    "y = data['hand']"
   ]
  },
  {
   "cell_type": "code",
   "execution_count": 22,
   "id": "dd8d4fb7",
   "metadata": {},
   "outputs": [],
   "source": [
    "X_train, X_test, y_train, y_test = train_test_split(X,y,random_state=42)\n",
    "\n",
    "# No need to scale because the unit of X features are all the same"
   ]
  },
  {
   "cell_type": "code",
   "execution_count": 25,
   "id": "cb6feada",
   "metadata": {},
   "outputs": [
    {
     "data": {
      "text/plain": [
       "0    0.888213\n",
       "1    0.111787\n",
       "Name: hand, dtype: float64"
      ]
     },
     "execution_count": 25,
     "metadata": {},
     "output_type": "execute_result"
    }
   ],
   "source": [
    "# Checking the distribution of class labels in y_train & y_test\n",
    "y_train.value_counts(normalize = True)"
   ]
  },
  {
   "cell_type": "code",
   "execution_count": 26,
   "id": "f08b3f48",
   "metadata": {},
   "outputs": [
    {
     "data": {
      "text/plain": [
       "0    0.892816\n",
       "1    0.107184\n",
       "Name: hand, dtype: float64"
      ]
     },
     "execution_count": 26,
     "metadata": {},
     "output_type": "execute_result"
    }
   ],
   "source": [
    "y_test.value_counts(normalize = True)\n",
    "# no need to stratify \n"
   ]
  },
  {
   "cell_type": "markdown",
   "id": "772f7e27",
   "metadata": {},
   "source": [
    "#### Create and fit four separate $k$-nearest neighbors models: one with $k = 3$, one with $k = 5$, one with $k = 15$, and one with $k = 25$:"
   ]
  },
  {
   "cell_type": "code",
   "execution_count": 27,
   "id": "0eaa73e0",
   "metadata": {},
   "outputs": [],
   "source": [
    "# model 1\n",
    "knn_3 = KNeighborsClassifier(n_neighbors=3)\n",
    "knn_3.fit(X_train,y_train)\n",
    "y1 = knn_3.predict(X_test)"
   ]
  },
  {
   "cell_type": "code",
   "execution_count": 28,
   "id": "018cb538",
   "metadata": {},
   "outputs": [],
   "source": [
    "# model2\n",
    "knn_5 = KNeighborsClassifier(n_neighbors=5)\n",
    "knn_5.fit(X_train,y_train)\n",
    "y2 = knn_5.predict(X_test)"
   ]
  },
  {
   "cell_type": "code",
   "execution_count": 29,
   "id": "43f41cfe",
   "metadata": {},
   "outputs": [],
   "source": [
    "# model 3\n",
    "knn_15 = KNeighborsClassifier(n_neighbors=15)\n",
    "knn_15.fit(X_train,y_train)\n",
    "y3 = knn_15.predict(X_test)"
   ]
  },
  {
   "cell_type": "code",
   "execution_count": 30,
   "id": "9aa80ad3",
   "metadata": {},
   "outputs": [],
   "source": [
    "# model 4\n",
    "knn_25 = KNeighborsClassifier(n_neighbors=25)\n",
    "knn_25.fit(X_train,y_train)\n",
    "y4 = knn_25.predict(X_test)"
   ]
  },
  {
   "cell_type": "markdown",
   "id": "6ea6f202",
   "metadata": {},
   "source": [
    "### Evaluate your models:\n",
    "\n",
    "Evaluate each of your four models on the training and testing sets, and interpret the four scores. Are any of your models overfit or underfit? Do any of your models beat the baseline accuracy rate?"
   ]
  },
  {
   "cell_type": "code",
   "execution_count": 31,
   "id": "98d1633c",
   "metadata": {},
   "outputs": [
    {
     "data": {
      "text/plain": [
       "0    0.889364\n",
       "1    0.110636\n",
       "Name: hand, dtype: float64"
      ]
     },
     "execution_count": 31,
     "metadata": {},
     "output_type": "execute_result"
    }
   ],
   "source": [
    "data['hand'].value_counts(normalize=True)"
   ]
  },
  {
   "cell_type": "code",
   "execution_count": 52,
   "id": "ba61a84e",
   "metadata": {},
   "outputs": [
    {
     "data": {
      "text/plain": [
       "0    3119\n",
       "1     388\n",
       "Name: hand, dtype: int64"
      ]
     },
     "execution_count": 52,
     "metadata": {},
     "output_type": "execute_result"
    }
   ],
   "source": [
    "data['hand'].value_counts()"
   ]
  },
  {
   "cell_type": "code",
   "execution_count": null,
   "id": "b53c6bbd",
   "metadata": {},
   "outputs": [],
   "source": []
  },
  {
   "cell_type": "code",
   "execution_count": 33,
   "id": "a41192bf",
   "metadata": {},
   "outputs": [
    {
     "name": "stdout",
     "output_type": "stream",
     "text": [
      "Train score : 0.9026615969581749\n",
      "Test score : 0.8779931584948689\n",
      "              precision    recall  f1-score   support\n",
      "\n",
      "           0       0.89      0.98      0.93       783\n",
      "           1       0.16      0.03      0.05        94\n",
      "\n",
      "    accuracy                           0.88       877\n",
      "   macro avg       0.53      0.51      0.49       877\n",
      "weighted avg       0.82      0.88      0.84       877\n",
      "\n"
     ]
    },
    {
     "data": {
      "image/png": "[encoded data removed]",
      "text/plain": [
       "<Figure size 432x288 with 2 Axes>"
      ]
     },
     "metadata": {
      "needs_background": "light"
     },
     "output_type": "display_data"
    }
   ],
   "source": [
    "# model 1\n",
    "print(f'Train score : {knn_3.score(X_train,y_train)}')\n",
    "print(f'Test score : {knn_3.score(X_test,y_test)}')\n",
    "\n",
    "plot_confusion_matrix(knn_3,X_test,y_test,display_labels=['right-hand','left-hand'])\n",
    "print(metrics.classification_report(y_test,y1))\n",
    "\n",
    "\n",
    "# model 1 is in sweet spot!. Also, the accuray rate also beat the baseline score, \n",
    "# as you can see from the confusion matrix, The prediction of left-handedness that predicted correct is 13% \n",
    "\n",
    "\n",
    "# macro avg is use to compare how good our model is.."
   ]
  },
  {
   "cell_type": "code",
   "execution_count": 53,
   "id": "3dd3e39e",
   "metadata": {},
   "outputs": [
    {
     "data": {
      "text/plain": [
       "0    783\n",
       "1     94\n",
       "Name: hand, dtype: int64"
      ]
     },
     "execution_count": 53,
     "metadata": {},
     "output_type": "execute_result"
    }
   ],
   "source": [
    "y_test.value_counts()"
   ]
  },
  {
   "cell_type": "code",
   "execution_count": 34,
   "id": "c2426665",
   "metadata": {},
   "outputs": [
    {
     "name": "stdout",
     "output_type": "stream",
     "text": [
      "Train score : 0.8889733840304183\n",
      "Test score : 0.8905359179019384\n",
      "              precision    recall  f1-score   support\n",
      "\n",
      "           0       0.90      0.99      0.94       783\n",
      "           1       0.38      0.03      0.06        94\n",
      "\n",
      "    accuracy                           0.89       877\n",
      "   macro avg       0.64      0.51      0.50       877\n",
      "weighted avg       0.84      0.89      0.85       877\n",
      "\n"
     ]
    },
    {
     "data": {
      "image/png": "[encoded data removed]",
      "text/plain": [
       "<Figure size 432x288 with 2 Axes>"
      ]
     },
     "metadata": {
      "needs_background": "light"
     },
     "output_type": "display_data"
    }
   ],
   "source": [
    "# model 2\n",
    "print(f'Train score : {knn_5.score(X_train,y_train)}')\n",
    "print(f'Test score : {knn_5.score(X_test,y_test)}')\n",
    "plot_confusion_matrix(knn_5,X_test,y_test,display_labels=['right-hand','left-hand'])\n",
    "print(metrics.classification_report(y_test,y2))\n",
    "#  this model is unbias "
   ]
  },
  {
   "cell_type": "code",
   "execution_count": 39,
   "id": "1de73199",
   "metadata": {},
   "outputs": [
    {
     "name": "stdout",
     "output_type": "stream",
     "text": [
      "Train score : 0.888212927756654\n",
      "Test score : 0.8928164196123147\n",
      "              precision    recall  f1-score   support\n",
      "\n",
      "           0       0.89      1.00      0.94       783\n",
      "           1       0.00      0.00      0.00        94\n",
      "\n",
      "    accuracy                           0.89       877\n",
      "   macro avg       0.45      0.50      0.47       877\n",
      "weighted avg       0.80      0.89      0.84       877\n",
      "\n"
     ]
    },
    {
     "data": {
      "image/png": "[encoded data removed]",
      "text/plain": [
       "<Figure size 432x288 with 2 Axes>"
      ]
     },
     "metadata": {
      "needs_background": "light"
     },
     "output_type": "display_data"
    }
   ],
   "source": [
    "# model 3\n",
    "print(f'Train score : {knn_15.score(X_train,y_train)}')\n",
    "print(f'Test score : {knn_15.score(X_test,y_test)}')\n",
    "plot_confusion_matrix(knn_15,X_test,y_test,display_labels=['right-hand','left-hand'],normalize='true')\n",
    "print(metrics.classification_report(y_test,y3))\n",
    "#  this model is unbias "
   ]
  },
  {
   "cell_type": "code",
   "execution_count": 40,
   "id": "e70866c8",
   "metadata": {},
   "outputs": [
    {
     "name": "stdout",
     "output_type": "stream",
     "text": [
      "Train score : 0.888212927756654\n",
      "Test score : 0.8928164196123147\n",
      "              precision    recall  f1-score   support\n",
      "\n",
      "           0       0.89      1.00      0.94       783\n",
      "           1       0.00      0.00      0.00        94\n",
      "\n",
      "    accuracy                           0.89       877\n",
      "   macro avg       0.45      0.50      0.47       877\n",
      "weighted avg       0.80      0.89      0.84       877\n",
      "\n"
     ]
    },
    {
     "data": {
      "image/png": "[encoded data removed]",
      "text/plain": [
       "<Figure size 432x288 with 2 Axes>"
      ]
     },
     "metadata": {
      "needs_background": "light"
     },
     "output_type": "display_data"
    }
   ],
   "source": [
    "#  model 4\n",
    "print(f'Train score : {knn_25.score(X_train,y_train)}')\n",
    "print(f'Test score : {knn_25.score(X_test,y_test)}')\n",
    "plot_confusion_matrix(knn_25,X_test,y_test,display_labels=['right-hand','left-hand'],normalize='true')\n",
    "print(metrics.classification_report(y_test,y4))\n",
    "#  this model is unbias "
   ]
  },
  {
   "cell_type": "code",
   "execution_count": 36,
   "id": "669385c0",
   "metadata": {},
   "outputs": [],
   "source": [
    "k_scores = pd.DataFrame(columns=['k','train_score','test_score'])\n",
    "\n",
    "for n,k in enumerate([3,5,15,25]):\n",
    "    knn = KNeighborsClassifier(n_neighbors=k)\n",
    "    knn.fit(X_train,y_train)\n",
    "    y_preds = knn.predict(X_test)\n",
    "    train_score = knn.score(X_train,y_train)\n",
    "    test_score = knn.score(X_test,y_test)\n",
    "    k_scores.loc[n] = [k,train_score,test_score]"
   ]
  },
  {
   "cell_type": "code",
   "execution_count": 37,
   "id": "aa128d92",
   "metadata": {},
   "outputs": [
    {
     "data": {
      "text/html": [
       "<div>\n",
       "<style scoped>\n",
       "    .dataframe tbody tr th:only-of-type {\n",
       "        vertical-align: middle;\n",
       "    }\n",
       "\n",
       "    .dataframe tbody tr th {\n",
       "        vertical-align: top;\n",
       "    }\n",
       "\n",
       "    .dataframe thead th {\n",
       "        text-align: right;\n",
       "    }\n",
       "</style>\n",
       "<table border=\"1\" class=\"dataframe\">\n",
       "  <thead>\n",
       "    <tr style=\"text-align: right;\">\n",
       "      <th></th>\n",
       "      <th>k</th>\n",
       "      <th>train_score</th>\n",
       "      <th>test_score</th>\n",
       "    </tr>\n",
       "  </thead>\n",
       "  <tbody>\n",
       "    <tr>\n",
       "      <th>0</th>\n",
       "      <td>3.0</td>\n",
       "      <td>0.902662</td>\n",
       "      <td>0.877993</td>\n",
       "    </tr>\n",
       "    <tr>\n",
       "      <th>1</th>\n",
       "      <td>5.0</td>\n",
       "      <td>0.888973</td>\n",
       "      <td>0.890536</td>\n",
       "    </tr>\n",
       "    <tr>\n",
       "      <th>2</th>\n",
       "      <td>15.0</td>\n",
       "      <td>0.888213</td>\n",
       "      <td>0.892816</td>\n",
       "    </tr>\n",
       "    <tr>\n",
       "      <th>3</th>\n",
       "      <td>25.0</td>\n",
       "      <td>0.888213</td>\n",
       "      <td>0.892816</td>\n",
       "    </tr>\n",
       "  </tbody>\n",
       "</table>\n",
       "</div>"
      ],
      "text/plain": [
       "      k  train_score  test_score\n",
       "0   3.0     0.902662    0.877993\n",
       "1   5.0     0.888973    0.890536\n",
       "2  15.0     0.888213    0.892816\n",
       "3  25.0     0.888213    0.892816"
      ]
     },
     "execution_count": 37,
     "metadata": {},
     "output_type": "execute_result"
    }
   ],
   "source": [
    "k_scores"
   ]
  },
  {
   "cell_type": "markdown",
   "id": "8488dc25",
   "metadata": {},
   "source": [
    "---\n",
    "\n",
    "## Step 4 & 5 Modeling: logistic regression\n",
    "\n",
    "#### Create and fit four separate logistic regression models: one with LASSO and $\\alpha = 1$, one with LASSO and $\\alpha = 10$, one with Ridge and $\\alpha = 1$, and one with Ridge and $\\alpha = 10$. *(Hint: Be careful with how you specify $\\alpha$ in your model!)*\n",
    "\n",
    "Note: You can use the same train and test data as above."
   ]
  },
  {
   "cell_type": "code",
   "execution_count": 41,
   "id": "6176eb62",
   "metadata": {},
   "outputs": [],
   "source": [
    "# Scale the data\n",
    "sc = StandardScaler()\n",
    "Z_train = sc.fit_transform(X_train)\n",
    "Z_test = sc.transform(X_test)"
   ]
  },
  {
   "cell_type": "code",
   "execution_count": 42,
   "id": "fe96a2d4",
   "metadata": {},
   "outputs": [],
   "source": [
    "# Instantiate\n",
    "logreg_1 = LogisticRegression(penalty='l1',C=1,solver='saga')\n",
    "logreg_1.fit(Z_train,y_train) # use scaled data because we're using penalty term\n",
    "y1_log = logreg_1.predict(Z_test)"
   ]
  },
  {
   "cell_type": "code",
   "execution_count": 43,
   "id": "9f2187a6",
   "metadata": {},
   "outputs": [],
   "source": [
    "logreg_10 = LogisticRegression(penalty='l1',C=0.1,solver='saga')\n",
    "logreg_10.fit(Z_train,y_train)\n",
    "y2_log = logreg_10.predict(Z_test)"
   ]
  },
  {
   "cell_type": "code",
   "execution_count": 44,
   "id": "60ead122",
   "metadata": {},
   "outputs": [],
   "source": [
    "logreg_1_rd = LogisticRegression(C=1,solver='saga')\n",
    "logreg_1_rd.fit(Z_train,y_train)\n",
    "y3_log = logreg_1_rd.predict(Z_test)"
   ]
  },
  {
   "cell_type": "code",
   "execution_count": 45,
   "id": "8a9458c1",
   "metadata": {},
   "outputs": [],
   "source": [
    "logreg_10_rd = LogisticRegression(C=0.1,solver='saga')\n",
    "logreg_10_rd.fit(Z_train,y_train)\n",
    "y4_log = logreg_10_rd.predict(Z_test)"
   ]
  },
  {
   "cell_type": "markdown",
   "id": "703eecea",
   "metadata": {},
   "source": [
    "### Evaluate your models:\n",
    "\n",
    "Evaluate each of your four models on the training and testing sets, and interpret the four scores. Are any of your models overfit or underfit? Do any of your models beat the baseline accuracy rate?"
   ]
  },
  {
   "cell_type": "code",
   "execution_count": 46,
   "id": "d42c9ea7",
   "metadata": {},
   "outputs": [
    {
     "name": "stdout",
     "output_type": "stream",
     "text": [
      "Train score : 0.888212927756654\n",
      "Test score : 0.8928164196123147\n",
      "              precision    recall  f1-score   support\n",
      "\n",
      "           0       0.89      1.00      0.94       783\n",
      "           1       0.00      0.00      0.00        94\n",
      "\n",
      "    accuracy                           0.89       877\n",
      "   macro avg       0.45      0.50      0.47       877\n",
      "weighted avg       0.80      0.89      0.84       877\n",
      "\n"
     ]
    }
   ],
   "source": [
    "# model 1\n",
    "print(f'Train score : {logreg_1.score(Z_train,y_train)}')\n",
    "print(f'Test score : {logreg_1.score(Z_test,y_test)}')\n",
    "print(metrics.classification_report(y_test,y1_log))\n"
   ]
  },
  {
   "cell_type": "code",
   "execution_count": 47,
   "id": "ebd25622",
   "metadata": {},
   "outputs": [
    {
     "name": "stdout",
     "output_type": "stream",
     "text": [
      "Train score : 0.888212927756654\n",
      "Test score : 0.8928164196123147\n",
      "              precision    recall  f1-score   support\n",
      "\n",
      "           0       0.89      1.00      0.94       783\n",
      "           1       0.00      0.00      0.00        94\n",
      "\n",
      "    accuracy                           0.89       877\n",
      "   macro avg       0.45      0.50      0.47       877\n",
      "weighted avg       0.80      0.89      0.84       877\n",
      "\n"
     ]
    }
   ],
   "source": [
    "# model 2\n",
    "print(f'Train score : {logreg_10.score(Z_train,y_train)}')\n",
    "print(f'Test score : {logreg_10.score(Z_test,y_test)}')\n",
    "print(metrics.classification_report(y_test,y2_log))\n"
   ]
  },
  {
   "cell_type": "code",
   "execution_count": 50,
   "id": "4b025412",
   "metadata": {},
   "outputs": [
    {
     "name": "stdout",
     "output_type": "stream",
     "text": [
      "Train score : 0.888212927756654\n",
      "Test score : 0.8928164196123147\n",
      "              precision    recall  f1-score   support\n",
      "\n",
      "           0       0.89      1.00      0.94       783\n",
      "           1       0.00      0.00      0.00        94\n",
      "\n",
      "    accuracy                           0.89       877\n",
      "   macro avg       0.45      0.50      0.47       877\n",
      "weighted avg       0.80      0.89      0.84       877\n",
      "\n"
     ]
    }
   ],
   "source": [
    "# model 3\n",
    "print(f'Train score : {logreg_1_rd.score(Z_train,y_train)}')\n",
    "print(f'Test score : {logreg_1_rd.score(Z_test,y_test)}')\n",
    "print(metrics.classification_report(y_test,y3_log))\n"
   ]
  },
  {
   "cell_type": "code",
   "execution_count": 51,
   "id": "d641fe3a",
   "metadata": {},
   "outputs": [
    {
     "name": "stdout",
     "output_type": "stream",
     "text": [
      "Train score : 0.888212927756654\n",
      "Test score : 0.8928164196123147\n",
      "              precision    recall  f1-score   support\n",
      "\n",
      "           0       0.89      1.00      0.94       783\n",
      "           1       0.00      0.00      0.00        94\n",
      "\n",
      "    accuracy                           0.89       877\n",
      "   macro avg       0.45      0.50      0.47       877\n",
      "weighted avg       0.80      0.89      0.84       877\n",
      "\n"
     ]
    }
   ],
   "source": [
    "# model 4\n",
    "print(f'Train score : {logreg_10_rd.score(Z_train,y_train)}')\n",
    "print(f'Test score : {logreg_10_rd.score(Z_test,y_test)}')\n",
    "print(metrics.classification_report(y_test,y4_log))\n"
   ]
  },
  {
   "cell_type": "markdown",
   "id": "e36a746e",
   "metadata": {},
   "source": [
    "---\n",
    "\n",
    "## Step 6: Answer the problem.\n",
    "\n",
    "Are any of your models worth moving forward with? What are the \"best\" models?"
   ]
  },
  {
   "cell_type": "markdown",
   "id": "4a75d5ba",
   "metadata": {},
   "source": [
    "- recall values in the reports is the measurement on how many of the positive cases are predicted correctly. From all of the model the KNN model with k =3 and 5 in the recall predicting 1 (left-handedness) give that the model can predict left-handedness correctly only 3% of all left-handedness, which is around 3 person out of 94 left-handedness people .The rest of the models can't predict left-handedness at all. This is because of the improper of data acquation and the imbalance of classes. However the knn model with n_neighbors of 5 is the best, because it reduce the number of false positive (predicting left-handedness wrong) and increase in true negative."
   ]
  },
  {
   "cell_type": "code",
   "execution_count": null,
   "id": "57577c7c",
   "metadata": {},
   "outputs": [],
   "source": []
  }
 ],
 "metadata": {
  "kernelspec": {
   "display_name": "Python 3 (ipykernel)",
   "language": "python",
   "name": "python3"
  },
  "language_info": {
   "codemirror_mode": {
    "name": "ipython",
    "version": 3
   },
   "file_extension": ".py",
   "mimetype": "text/x-python",
   "name": "python",
   "nbconvert_exporter": "python",
   "pygments_lexer": "ipython3",
   "version": "3.9.12"
  }
 },
 "nbformat": 4,
 "nbformat_minor": 5
}
