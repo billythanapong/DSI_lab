{
 "cells": [
  {
   "cell_type": "markdown",
   "metadata": {},
   "source": [
    "<img src=\"http://imgur.com/1ZcRyrc.png\" style=\"float: left; margin: 20px; height: 55px\">\n",
    "\n",
    "# Supervised Learning Model Comparison\n",
    "\n",
    "_author The arbitrary and capricious heart of data science_\n",
    "\n",
    "---\n",
    "\n",
    "### Let us begin...\n",
    "\n",
    "Recall the \"data science process.\"\n",
    "   1. Define the problem.\n",
    "   2. Gather the data.\n",
    "   3. Explore the data.\n",
    "   4. Model the data.\n",
    "   5. Evaluate the model.\n",
    "   6. Answer the problem.\n",
    "\n",
    "In this lab, we're going to focus mostly on creating (and then comparing) many regression and classification models. Thus, we'll define the problem and gather the data for you.\n",
    "Most of the questions requiring a written response can be written in 2-3 sentences."
   ]
  },
  {
   "cell_type": "markdown",
   "metadata": {},
   "source": [
    "### Step 1: Define the problem.\n",
    "\n",
    "You are a data scientist with a financial services company. Specifically, you want to leverage data in order to identify potential customers.\n",
    "\n",
    "If you are unfamiliar with \"401(k)s\" or \"IRAs,\" these are two types of retirement accounts. Very broadly speaking:\n",
    "- You can put money for retirement into both of these accounts.\n",
    "- The money in these accounts gets invested and hopefully has a lot more money in it when you retire.\n",
    "- These are a little different from regular bank accounts in that there are certain tax benefits to these accounts. Also, employers frequently match money that you put into a 401k.\n",
    "- If you want to learn more about them, check out [this site](https://www.nerdwallet.com/article/ira-vs-401k-retirement-accounts).\n",
    "\n",
    "We will tackle one regression problem and one classification problem today.\n",
    "- **Regression: What features best predict one's income?**\n",
    "- **Classification: Predict whether or not one is eligible for a 401k.**\n",
    "\n",
    "Check out the data dictionary [here](http://fmwww.bc.edu/ec-p/data/wooldridge2k/401KSUBS.DES).\n",
    "\n",
    "### NOTE: When predicting `inc`, you should pretend as though you do not have access to the `e401k`, the `p401k` variable, and the `pira` variable. When predicting `e401k`, you may use the entire dataframe if you wish."
   ]
  },
  {
   "cell_type": "code",
   "execution_count": 1,
   "metadata": {},
   "outputs": [],
   "source": [
    "# Import libraries\n",
    "import pandas as pd\n",
    "import numpy as np\n",
    "import matplotlib.pyplot as plt\n",
    "import seaborn as sns\n",
    "import warnings\n",
    "warnings.filterwarnings('ignore')\n",
    "\n",
    "\n",
    "from sklearn import metrics\n",
    "from sklearn.metrics import confusion_matrix,plot_confusion_matrix\n",
    "from sklearn.model_selection import GridSearchCV,train_test_split,cross_val_score\n",
    "from sklearn.linear_model import LinearRegression,RidgeCV,LassoCV,LogisticRegression\n",
    "from sklearn.neighbors import KNeighborsRegressor,KNeighborsClassifier\n",
    "from sklearn.pipeline import Pipeline\n",
    "from sklearn.preprocessing import StandardScaler\n",
    "from sklearn.tree import DecisionTreeRegressor,DecisionTreeClassifier\n",
    "from sklearn.ensemble import RandomForestRegressor,AdaBoostRegressor,GradientBoostingRegressor,\\\n",
    "VotingRegressor,BaggingRegressor,RandomForestClassifier,AdaBoostClassifier,BaggingClassifier"
   ]
  },
  {
   "cell_type": "code",
   "execution_count": 2,
   "metadata": {},
   "outputs": [],
   "source": [
    "def grid_and_r_square(mod,X_train,X_test,y_train,y_test,gridsearch = False):\n",
    "    \"\"\"This function use to show the r-squared and best parameter (if use of gridsearch)\n",
    "        Parameters : X  = Dataframe (matrix) of X (train/test)\n",
    "                     y  = Series (vector) of y (train/tet)\n",
    "                     mod =  placeholder for the used model\n",
    "                     gridsearch = True for used of gridsearch\n",
    "        Return : R-squared, best parameters from gridsearch\"\"\"\n",
    "    print(f'Train score: {mod.score(X_train,y_train)}')\n",
    "    print(f'Test score: {mod.score(X_test,y_test)}')\n",
    "    if gridsearch == True:\n",
    "        print(f'best parameters:{mod.best_params_}')"
   ]
  },
  {
   "cell_type": "code",
   "execution_count": 41,
   "metadata": {},
   "outputs": [],
   "source": [
    "def regress_metric(y_test,y_pred):\n",
    "    \"\"\"This function use to show the regression metrics\n",
    "        Parameters : y_test  = real y values\n",
    "                     y_pred  = predicted y values\n",
    "        Return : RMSE, MAE \"\"\"\n",
    "    print(f'RMSE: {metrics.mean_squared_error(y_test,y_pred,squared=False)}')\n",
    "    print(f'The predicting value is differ from actual value by {metrics.mean_squared_error(y_test,y_pred,squared=False)}')\n",
    "    print(f'MAE: {metrics.mean_absolute_error(y_test,y_pred)}')\n",
    "    print(f'The average differences between predicting value and actual value is {metrics.mean_absolute_error(y_test,y_pred)}')"
   ]
  },
  {
   "cell_type": "code",
   "execution_count": 4,
   "metadata": {},
   "outputs": [],
   "source": [
    "def classifier_metrics(mod,X_test,y_test,prediction):\n",
    "    \"\"\"This function use to show the classification metrics\n",
    "        Parameters : mod = placeholder for the used model\n",
    "                     X_test = Dataframe (matrix) of X (train/test)\n",
    "                     y_test  = real y values\n",
    "                     prediction  = predicted y values\n",
    "        Return : confusion matrix, classification report \"\"\"\n",
    "    print(f'Confusion matrix: {plot_confusion_matrix(mod,X_test,y_test)}')\n",
    "    print(f'Classification report {metrics.classification_report(y_test,prediction)}')\n",
    "    "
   ]
  },
  {
   "cell_type": "markdown",
   "metadata": {},
   "source": [
    "### Step 2: Gather the data.\n",
    "\n",
    "##### 1. Read in the data from the repository."
   ]
  },
  {
   "cell_type": "code",
   "execution_count": 43,
   "metadata": {
    "jupyter": {
     "outputs_hidden": true
    }
   },
   "outputs": [],
   "source": [
    "df = pd.read_csv('./401ksubs.csv')"
   ]
  },
  {
   "cell_type": "code",
   "execution_count": 44,
   "metadata": {},
   "outputs": [
    {
     "data": {
      "text/html": [
       "<div>\n",
       "<style scoped>\n",
       "    .dataframe tbody tr th:only-of-type {\n",
       "        vertical-align: middle;\n",
       "    }\n",
       "\n",
       "    .dataframe tbody tr th {\n",
       "        vertical-align: top;\n",
       "    }\n",
       "\n",
       "    .dataframe thead th {\n",
       "        text-align: right;\n",
       "    }\n",
       "</style>\n",
       "<table border=\"1\" class=\"dataframe\">\n",
       "  <thead>\n",
       "    <tr style=\"text-align: right;\">\n",
       "      <th></th>\n",
       "      <th>e401k</th>\n",
       "      <th>inc</th>\n",
       "      <th>marr</th>\n",
       "      <th>male</th>\n",
       "      <th>age</th>\n",
       "      <th>fsize</th>\n",
       "      <th>nettfa</th>\n",
       "      <th>p401k</th>\n",
       "      <th>pira</th>\n",
       "      <th>incsq</th>\n",
       "      <th>agesq</th>\n",
       "    </tr>\n",
       "  </thead>\n",
       "  <tbody>\n",
       "    <tr>\n",
       "      <th>0</th>\n",
       "      <td>0</td>\n",
       "      <td>13.170</td>\n",
       "      <td>0</td>\n",
       "      <td>0</td>\n",
       "      <td>40</td>\n",
       "      <td>1</td>\n",
       "      <td>4.575</td>\n",
       "      <td>0</td>\n",
       "      <td>1</td>\n",
       "      <td>173.4489</td>\n",
       "      <td>1600</td>\n",
       "    </tr>\n",
       "    <tr>\n",
       "      <th>1</th>\n",
       "      <td>1</td>\n",
       "      <td>61.230</td>\n",
       "      <td>0</td>\n",
       "      <td>1</td>\n",
       "      <td>35</td>\n",
       "      <td>1</td>\n",
       "      <td>154.000</td>\n",
       "      <td>1</td>\n",
       "      <td>0</td>\n",
       "      <td>3749.1130</td>\n",
       "      <td>1225</td>\n",
       "    </tr>\n",
       "    <tr>\n",
       "      <th>2</th>\n",
       "      <td>0</td>\n",
       "      <td>12.858</td>\n",
       "      <td>1</td>\n",
       "      <td>0</td>\n",
       "      <td>44</td>\n",
       "      <td>2</td>\n",
       "      <td>0.000</td>\n",
       "      <td>0</td>\n",
       "      <td>0</td>\n",
       "      <td>165.3282</td>\n",
       "      <td>1936</td>\n",
       "    </tr>\n",
       "    <tr>\n",
       "      <th>3</th>\n",
       "      <td>0</td>\n",
       "      <td>98.880</td>\n",
       "      <td>1</td>\n",
       "      <td>1</td>\n",
       "      <td>44</td>\n",
       "      <td>2</td>\n",
       "      <td>21.800</td>\n",
       "      <td>0</td>\n",
       "      <td>0</td>\n",
       "      <td>9777.2540</td>\n",
       "      <td>1936</td>\n",
       "    </tr>\n",
       "    <tr>\n",
       "      <th>4</th>\n",
       "      <td>0</td>\n",
       "      <td>22.614</td>\n",
       "      <td>0</td>\n",
       "      <td>0</td>\n",
       "      <td>53</td>\n",
       "      <td>1</td>\n",
       "      <td>18.450</td>\n",
       "      <td>0</td>\n",
       "      <td>0</td>\n",
       "      <td>511.3930</td>\n",
       "      <td>2809</td>\n",
       "    </tr>\n",
       "  </tbody>\n",
       "</table>\n",
       "</div>"
      ],
      "text/plain": [
       "   e401k     inc  marr  male  age  fsize   nettfa  p401k  pira      incsq  \\\n",
       "0      0  13.170     0     0   40      1    4.575      0     1   173.4489   \n",
       "1      1  61.230     0     1   35      1  154.000      1     0  3749.1130   \n",
       "2      0  12.858     1     0   44      2    0.000      0     0   165.3282   \n",
       "3      0  98.880     1     1   44      2   21.800      0     0  9777.2540   \n",
       "4      0  22.614     0     0   53      1   18.450      0     0   511.3930   \n",
       "\n",
       "   agesq  \n",
       "0   1600  \n",
       "1   1225  \n",
       "2   1936  \n",
       "3   1936  \n",
       "4   2809  "
      ]
     },
     "execution_count": 44,
     "metadata": {},
     "output_type": "execute_result"
    }
   ],
   "source": [
    "df.head()"
   ]
  },
  {
   "cell_type": "markdown",
   "metadata": {},
   "source": [
    "##### 2. What are 2-3 other variables that, if available, would be helpful to have?"
   ]
  },
  {
   "cell_type": "code",
   "execution_count": 7,
   "metadata": {
    "jupyter": {
     "outputs_hidden": true
    }
   },
   "outputs": [],
   "source": [
    "# 1. experience or hours of work time.\n",
    "# 2. job list"
   ]
  },
  {
   "cell_type": "markdown",
   "metadata": {},
   "source": [
    "##### 3. Suppose a peer recommended putting `race` into your model in order to better predict who to target when advertising IRAs and 401(k)s. Why would this be an unethical decision?"
   ]
  },
  {
   "cell_type": "code",
   "execution_count": 8,
   "metadata": {
    "jupyter": {
     "outputs_hidden": true
    }
   },
   "outputs": [],
   "source": [
    "# Because if the race include to be considered whether to give IRA and 401 advertisement or not, mean that model treat\n",
    "# the person by their race and it shows the unequallity in the society."
   ]
  },
  {
   "cell_type": "markdown",
   "metadata": {},
   "source": [
    "## Step 3: Explore the data.\n",
    "\n",
    "##### 4. When attempting to predict income, which feature(s) would we reasonably not use? Why?"
   ]
  },
  {
   "cell_type": "code",
   "execution_count": 9,
   "metadata": {
    "jupyter": {
     "outputs_hidden": true
    }
   },
   "outputs": [],
   "source": [
    "# The 'incsq' and 'agesq' features. \n",
    "# These features are high collinearlity will violate the LINEM assumption and will cause the data leakage.\n",
    "\n",
    "# Also 'male'and 'fsize', in real life gender and family size should not be criteria for decision about individual income.\n"
   ]
  },
  {
   "cell_type": "code",
   "execution_count": 10,
   "metadata": {},
   "outputs": [
    {
     "data": {
      "image/png": "[encoded data removed]",
      "text/plain": [
       "<Figure size 144x144 with 2 Axes>"
      ]
     },
     "metadata": {
      "needs_background": "light"
     },
     "output_type": "display_data"
    }
   ],
   "source": [
    "plt.figure(figsize=(2,2))\n",
    "sns.heatmap(df[['incsq','agesq','inc','age']].corr()[['inc','age']].sort_values(by='inc'),annot=True)\n",
    "plt.yticks(rotation = 0);"
   ]
  },
  {
   "cell_type": "markdown",
   "metadata": {},
   "source": [
    "##### 5. What two variables have already been created for us through feature engineering? Come up with a hypothesis as to why subject-matter experts may have done this.\n",
    "> This need not be a \"statistical hypothesis.\" Just brainstorm why SMEs might have done this!"
   ]
  },
  {
   "cell_type": "code",
   "execution_count": null,
   "metadata": {
    "jupyter": {
     "outputs_hidden": true
    }
   },
   "outputs": [],
   "source": [
    "# income and age tend to be exponential relation with each other. In the real life, every year the income of person\n",
    "# growing up not linearly, maybe it increased by percent or the adding up of incentive. \n",
    "\n",
    "# Or age and fsize have been cleaned outliers."
   ]
  },
  {
   "cell_type": "code",
   "execution_count": 77,
   "metadata": {},
   "outputs": [
    {
     "data": {
      "image/png": "[encoded data removed]",
      "text/plain": [
       "<Figure size 1080x1440 with 12 Axes>"
      ]
     },
     "metadata": {
      "needs_background": "light"
     },
     "output_type": "display_data"
    }
   ],
   "source": [
    "fig = plt.figure(figsize = (15,20))\n",
    "ax = fig.gca()\n",
    "df.hist(ax = ax);"
   ]
  },
  {
   "cell_type": "markdown",
   "metadata": {},
   "source": [
    "##### 6. Looking at the data dictionary, one variable description appears to be an error. What is this error, and what do you think the correct value would be?"
   ]
  },
  {
   "cell_type": "code",
   "execution_count": null,
   "metadata": {
    "jupyter": {
     "outputs_hidden": true
    }
   },
   "outputs": [],
   "source": [
    "# age variable describe as equal to age^2 which is wrong, need to be age\n",
    "# inc variable describe as equal to inc^2 which is wrong, need to be income"
   ]
  },
  {
   "cell_type": "markdown",
   "metadata": {},
   "source": [
    "## Step 4: Model the data. (Part 1: Regression Problem)\n",
    "\n",
    "Recall:\n",
    "- Problem: What features best predict one's income?\n",
    "- When predicting `inc`, you should pretend as though you do not have access to the `e401k`, the `p401k` variable, and the `pira` variable.\n",
    "\n",
    "##### 7. List all modeling tactics we've learned that could be used to solve a regression problem (as of Wednesday afternoon of Week 6). For each tactic, identify whether it is or is not appropriate for solving this specific regression problem and explain why or why not."
   ]
  },
  {
   "cell_type": "markdown",
   "metadata": {
    "collapsed": true,
    "jupyter": {
     "outputs_hidden": true
    }
   },
   "source": [
    "- linear regression - an appropiate estimator, due to the simple to use as based method to do regression\n",
    "    - Lasso regularization - an appropiate estimator, that can reduce the cons from OLS by reduce the variance.\n",
    "    - Ridge regularization - an appropiate estimator, that can reduce the cons from OLS by reduce the variance.\n",
    "    \n",
    "- Other regressor that more powerful and could be use.\n",
    "    - KNeighborsRegressor\n",
    "    - DecisiontreeRegressor\n",
    "    - RandomForestRegressor\n",
    "    -Ensemble method\n",
    "       - Adaboost regressor\n",
    "       - GradientBoosting regressor\n",
    "       - Stacking regressor\n"
   ]
  },
  {
   "cell_type": "markdown",
   "metadata": {},
   "source": [
    "##### 8. Regardless of your answer to number 7, fit at least one of each of the following models to attempt to solve the regression problem above:\n",
    "    - a multiple linear regression model\n",
    "    - a k-nearest neighbors model\n",
    "    - a decision tree\n",
    "    - a set of bagged decision trees\n",
    "    - a random forest\n",
    "    - an Adaboost model\n",
    "    \n",
    "> As always, be sure to do a train/test split! In order to compare modeling techniques, you should use the same train-test split on each. I recommend setting a random seed here.\n",
    "\n",
    "> You may find it helpful to set up a pipeline to try each modeling technique, but you are not required to do so!"
   ]
  },
  {
   "cell_type": "code",
   "execution_count": 84,
   "metadata": {
    "scrolled": true
   },
   "outputs": [
    {
     "data": {
      "image/png": "[encoded data removed]",
      "text/plain": [
       "<Figure size 720x360 with 2 Axes>"
      ]
     },
     "metadata": {
      "needs_background": "light"
     },
     "output_type": "display_data"
    }
   ],
   "source": [
    "# Plot show the high collinearity, need to remove to avoid data leakage\n",
    "\n",
    "plt.figure(figsize=(10,5))\n",
    "sns.heatmap(df.corr()[['inc','']].sort_values(by='inc'),annot=True)\n",
    "plt.yticks(rotation = 0);"
   ]
  },
  {
   "cell_type": "code",
   "execution_count": 45,
   "metadata": {
    "jupyter": {
     "outputs_hidden": true
    }
   },
   "outputs": [],
   "source": [
    "# remove the sq variables (age,inc)\n",
    "X = df.drop(columns=  ['e401k','p401k','pira','incsq','agesq','inc','fsize'])\n",
    "\n",
    "y= df['inc']\n",
    "\n",
    "# split\n",
    "X_train,X_test,y_train,y_test = train_test_split(X,y,random_state=42)\n"
   ]
  },
  {
   "cell_type": "code",
   "execution_count": 46,
   "metadata": {},
   "outputs": [
    {
     "data": {
      "text/plain": [
       "Index(['marr', 'male', 'age', 'nettfa'], dtype='object')"
      ]
     },
     "execution_count": 46,
     "metadata": {},
     "output_type": "execute_result"
    }
   ],
   "source": [
    "# Features of X\n",
    "X.columns"
   ]
  },
  {
   "cell_type": "markdown",
   "metadata": {},
   "source": [
    "### Linear regression model"
   ]
  },
  {
   "cell_type": "code",
   "execution_count": 47,
   "metadata": {},
   "outputs": [
    {
     "data": {
      "text/plain": [
       "((6956, 4), (2319, 4), (6956,), (2319,))"
      ]
     },
     "execution_count": 47,
     "metadata": {},
     "output_type": "execute_result"
    }
   ],
   "source": [
    "# check shape\n",
    "X_train.shape,X_test.shape,y_train.shape,y_test.shape"
   ]
  },
  {
   "cell_type": "code",
   "execution_count": 48,
   "metadata": {},
   "outputs": [],
   "source": [
    "lr = LinearRegression()\n",
    "lr.fit(X_train,y_train)\n",
    "lr_pred = lr.predict(X_test)"
   ]
  },
  {
   "cell_type": "code",
   "execution_count": 49,
   "metadata": {},
   "outputs": [
    {
     "name": "stdout",
     "output_type": "stream",
     "text": [
      "Train score: 0.27001793072702973\n",
      "Test score: 0.22367467220909265\n"
     ]
    }
   ],
   "source": [
    "grid_and_r_square(lr,X_train,X_test,y_train,y_test)"
   ]
  },
  {
   "cell_type": "markdown",
   "metadata": {},
   "source": [
    "### KNN "
   ]
  },
  {
   "cell_type": "code",
   "execution_count": 50,
   "metadata": {},
   "outputs": [
    {
     "name": "stdout",
     "output_type": "stream",
     "text": [
      "Fitting 5 folds for each of 184 candidates, totalling 920 fits\n"
     ]
    }
   ],
   "source": [
    "# Pipeline for knn\n",
    "knn_pipe = Pipeline([('ss',StandardScaler()),('knn',KNeighborsRegressor(n_jobs=-1))])\n",
    "\n",
    "# set parameters for KNN\n",
    "knn_param = {'knn__n_neighbors': np.arange(5,51),\n",
    "        'knn__weights':['uniform','distance'],\n",
    "        'knn__p':[1,2]}\n",
    "\n",
    "# Gridsearch for KNN\n",
    "grid_knn = GridSearchCV(knn_pipe,param_grid=knn_param,cv = 5,verbose=1)\n",
    "\n",
    "# Fit\n",
    "grid_knn.fit(X_train,y_train)\n",
    "\n",
    "\n",
    "# Predict\n",
    "grid_knn_pred = grid_knn.predict(X_test)"
   ]
  },
  {
   "cell_type": "code",
   "execution_count": 51,
   "metadata": {},
   "outputs": [
    {
     "name": "stdout",
     "output_type": "stream",
     "text": [
      "Train score: 0.403904300704532\n",
      "Test score: 0.3780502847206334\n",
      "best parameters:{'knn__n_neighbors': 40, 'knn__p': 2, 'knn__weights': 'uniform'}\n"
     ]
    }
   ],
   "source": [
    "grid_and_r_square(grid_knn,X_train,X_test,y_train,y_test,gridsearch = True)"
   ]
  },
  {
   "cell_type": "markdown",
   "metadata": {},
   "source": [
    "## Decision Tree"
   ]
  },
  {
   "cell_type": "code",
   "execution_count": 52,
   "metadata": {},
   "outputs": [
    {
     "name": "stdout",
     "output_type": "stream",
     "text": [
      "Fitting 5 folds for each of 1200 candidates, totalling 6000 fits\n"
     ]
    }
   ],
   "source": [
    "tree = DecisionTreeRegressor(random_state=42)\n",
    "\n",
    "tree_param = { 'splitter':['best',\"random\"],\n",
    "    'max_depth':[3,5,7,9,11,13],\n",
    "    'min_samples_split':[2,4,6,8,10],\n",
    "    'min_samples_leaf':[1,3,5,7,9],\n",
    "    'max_features':[None,'auto','sqrt','log2']\n",
    "}\n",
    "\n",
    "\n",
    "grid_tree = GridSearchCV(tree,param_grid=tree_param,cv=5,verbose=1)\n",
    "grid_tree.fit(X_train,y_train)\n",
    "grid_tree_pred = grid_tree.predict(X_test)\n",
    "# tree.fit(X_train,y_train)\n",
    "# tree_pred = tree.predict(X_test)"
   ]
  },
  {
   "cell_type": "code",
   "execution_count": 53,
   "metadata": {},
   "outputs": [
    {
     "name": "stdout",
     "output_type": "stream",
     "text": [
      "Train score: 0.420867291693667\n",
      "Test score: 0.37635985996723764\n",
      "best parameters:{'max_depth': 5, 'max_features': None, 'min_samples_leaf': 9, 'min_samples_split': 2, 'splitter': 'best'}\n"
     ]
    }
   ],
   "source": [
    "grid_and_r_square(grid_tree,X_train,X_test,y_train,y_test,gridsearch=True)"
   ]
  },
  {
   "cell_type": "markdown",
   "metadata": {},
   "source": [
    "## Bagging"
   ]
  },
  {
   "cell_type": "code",
   "execution_count": 54,
   "metadata": {},
   "outputs": [
    {
     "name": "stdout",
     "output_type": "stream",
     "text": [
      "Fitting 5 folds for each of 160 candidates, totalling 800 fits\n"
     ]
    }
   ],
   "source": [
    "bag = BaggingRegressor(random_state=42)\n",
    "\n",
    "bag_param = {'n_estimators':[100,110,120,125],\n",
    "    'max_samples':[40,45,50,55],\n",
    "    'max_features':[1,2,3,4,5],\n",
    "    'bootstrap':[True,False]}\n",
    "\n",
    "grid_bag = GridSearchCV(bag,param_grid=bag_param,cv=5,verbose= 1)\n",
    "grid_bag.fit(X_train,y_train)\n",
    "grid_bag_pred = grid_bag.predict(X_test)\n",
    "\n",
    "\n",
    "# bag.fit(X_train,y_train)\n",
    "# bag_pred = bag.predict(X_test)"
   ]
  },
  {
   "cell_type": "code",
   "execution_count": 55,
   "metadata": {},
   "outputs": [
    {
     "name": "stdout",
     "output_type": "stream",
     "text": [
      "Train score: 0.39444798227518907\n",
      "Test score: 0.37432797013674657\n",
      "best parameters:{'bootstrap': False, 'max_features': 4, 'max_samples': 55, 'n_estimators': 120}\n"
     ]
    }
   ],
   "source": [
    "grid_and_r_square(grid_bag,X_train,X_test,y_train,y_test,gridsearch=True)"
   ]
  },
  {
   "cell_type": "markdown",
   "metadata": {},
   "source": [
    "## Random Forest"
   ]
  },
  {
   "cell_type": "code",
   "execution_count": 56,
   "metadata": {},
   "outputs": [
    {
     "name": "stdout",
     "output_type": "stream",
     "text": [
      "Fitting 5 folds for each of 64 candidates, totalling 320 fits\n"
     ]
    }
   ],
   "source": [
    "rf = RandomForestRegressor(random_state=42)\n",
    "# rf.fit(X_train,y_train)\n",
    "# rf_pred = rf.predict(X_test)\n",
    "\n",
    "rf_param = {'n_estimators':[100,125,150,200],\n",
    "    'max_depth':[5,7,9,11],\n",
    "    'max_features':[3,5,7,9]}\n",
    "\n",
    "grid_rf = GridSearchCV(rf,param_grid=rf_param,cv=5,verbose=1)\n",
    "grid_rf.fit(X_train,y_train)\n",
    "grid_rf_pred = grid_rf.predict(X_test)\n",
    "\n"
   ]
  },
  {
   "cell_type": "code",
   "execution_count": 57,
   "metadata": {},
   "outputs": [
    {
     "name": "stdout",
     "output_type": "stream",
     "text": [
      "Train score: 0.4344253672625782\n",
      "Test score: 0.3916750354234231\n",
      "best parameters:{'max_depth': 5, 'max_features': 3, 'n_estimators': 150}\n"
     ]
    }
   ],
   "source": [
    "grid_and_r_square(grid_rf,X_train,X_test,y_train,y_test,gridsearch=True)"
   ]
  },
  {
   "cell_type": "markdown",
   "metadata": {},
   "source": [
    "## Adaboostregressor"
   ]
  },
  {
   "cell_type": "code",
   "execution_count": 58,
   "metadata": {},
   "outputs": [
    {
     "name": "stdout",
     "output_type": "stream",
     "text": [
      "Fitting 5 folds for each of 20 candidates, totalling 100 fits\n"
     ]
    }
   ],
   "source": [
    "ada = AdaBoostRegressor(random_state=42)\n",
    "\n",
    "# ada.fit(X_train,y_train)\n",
    "# ada_pred = ada.predict(X_test)\n",
    "ada_param = {'n_estimators':[5,10,25,50,75],\n",
    "    'learning_rate':[0.05,0.1,0.3,0.5]}\n",
    "\n",
    "grid_ada = GridSearchCV(ada,param_grid=ada_param,cv=5,verbose=1)\n",
    "grid_ada.fit(X_train,y_train)\n",
    "grid_ada_pred = grid_ada.predict(X_test)\n"
   ]
  },
  {
   "cell_type": "code",
   "execution_count": 59,
   "metadata": {
    "scrolled": true
   },
   "outputs": [
    {
     "name": "stdout",
     "output_type": "stream",
     "text": [
      "Train score: 0.36496092678982883\n",
      "Test score: 0.3249580492804687\n",
      "best parameters:{'learning_rate': 0.3, 'n_estimators': 5}\n"
     ]
    }
   ],
   "source": [
    "grid_and_r_square(grid_ada,X_train,X_test,y_train,y_test,gridsearch=True)"
   ]
  },
  {
   "cell_type": "markdown",
   "metadata": {},
   "source": [
    "##### 9. What is bootstrapping?"
   ]
  },
  {
   "cell_type": "markdown",
   "metadata": {
    "collapsed": true,
    "jupyter": {
     "outputs_hidden": true
    }
   },
   "source": [
    "- bootstrapping is the process of resampling the data by allowing the replacement and modelling on each sample. Then average all of answer in the end. Same as the concept of 'wisdom of crowd'"
   ]
  },
  {
   "cell_type": "markdown",
   "metadata": {},
   "source": [
    "##### 10. What is the difference between a decision tree and a set of bagged decision trees? Be specific and precise!"
   ]
  },
  {
   "cell_type": "markdown",
   "metadata": {
    "collapsed": true,
    "jupyter": {
     "outputs_hidden": true
    }
   },
   "source": [
    "- Decisiontree is like the slitting of probability of feature \n",
    "- Bagged decision trees is like the  reworking on decision tree but with resampling the data to create the different style of tree and combined for the result, using the concept of 'wisdom of crowd'."
   ]
  },
  {
   "cell_type": "markdown",
   "metadata": {},
   "source": [
    "##### 11. What is the difference between a set of bagged decision trees and a random forest? Be specific and precise!"
   ]
  },
  {
   "cell_type": "markdown",
   "metadata": {
    "collapsed": true,
    "jupyter": {
     "outputs_hidden": true
    }
   },
   "source": [
    "- Random forest and bagged decision trees both working on the familiar fundamentals. But the difference between  Random forests and bagged decision trees is on how features are selected. The Randomforest is creating the tree by selecting features by sqrt(all_features), but bagged decision tree will select all of the features to create each tree."
   ]
  },
  {
   "cell_type": "markdown",
   "metadata": {},
   "source": [
    "##### 12. Why might a random forest be superior to a set of bagged decision trees?\n",
    "> Hint: Consider the bias-variance tradeoff."
   ]
  },
  {
   "cell_type": "markdown",
   "metadata": {
    "jupyter": {
     "outputs_hidden": true
    }
   },
   "source": [
    "- The random forest is better in term of how the algorithm select the features to create new trees. Randomforest would decrease the collinearity in each tree, and mitigate the variance. While bagged decision tree only resampling the subset of data to create new trees with all the same featurs in each tree."
   ]
  },
  {
   "cell_type": "markdown",
   "metadata": {},
   "source": [
    "## Step 5: Evaluate the model. (Part 1: Regression Problem)\n",
    "\n",
    "##### 13. Using RMSE, evaluate each of the models you fit on both the training and testing data."
   ]
  },
  {
   "cell_type": "code",
   "execution_count": 60,
   "metadata": {
    "jupyter": {
     "outputs_hidden": true
    }
   },
   "outputs": [
    {
     "name": "stdout",
     "output_type": "stream",
     "text": [
      "RMSE: 21.514265197040356\n",
      "The predicting value is differ from actual value by 21.514265197040356\n",
      "MAE: 15.378081641735202\n",
      "The average differences between predicting value and actual value is 15.378081641735202\n"
     ]
    }
   ],
   "source": [
    "# Linear Regression\n",
    "regress_metric(y_test,lr_pred)"
   ]
  },
  {
   "cell_type": "code",
   "execution_count": 61,
   "metadata": {},
   "outputs": [
    {
     "name": "stdout",
     "output_type": "stream",
     "text": [
      "RMSE: 20.48656496549327\n",
      "The predicting value is differ from actual value by 20.48656496549327\n",
      "MAE: 14.975372425441968\n",
      "The average differences between predicting value and actual value is 14.975372425441968\n"
     ]
    }
   ],
   "source": [
    "lr_train_pred = lr.predict(X_train)\n",
    "regress_metric(y_train,lr_train_pred)"
   ]
  },
  {
   "cell_type": "markdown",
   "metadata": {},
   "source": [
    "---"
   ]
  },
  {
   "cell_type": "code",
   "execution_count": 62,
   "metadata": {},
   "outputs": [
    {
     "name": "stdout",
     "output_type": "stream",
     "text": [
      "RMSE: 19.25671827222593\n",
      "The predicting value is differ from actual value by 19.25671827222593\n",
      "MAE: 13.550284422164726\n",
      "The average differences between predicting value and actual value is 13.550284422164726\n"
     ]
    }
   ],
   "source": [
    "# KNN\n",
    "regress_metric(y_test,grid_knn_pred)"
   ]
  },
  {
   "cell_type": "code",
   "execution_count": 63,
   "metadata": {},
   "outputs": [
    {
     "name": "stdout",
     "output_type": "stream",
     "text": [
      "RMSE: 18.512754554131472\n",
      "The predicting value is differ from actual value by 18.512754554131472\n",
      "MAE: 13.313556828637147\n",
      "The average differences between predicting value and actual value is 13.313556828637147\n"
     ]
    }
   ],
   "source": [
    "knn_train_pred = grid_knn.predict(X_train)\n",
    "regress_metric(y_train,knn_train_pred)"
   ]
  },
  {
   "cell_type": "markdown",
   "metadata": {},
   "source": [
    "---"
   ]
  },
  {
   "cell_type": "code",
   "execution_count": 64,
   "metadata": {},
   "outputs": [
    {
     "name": "stdout",
     "output_type": "stream",
     "text": [
      "RMSE: 19.282869859557543\n",
      "The predicting value is differ from actual value by 19.282869859557543\n",
      "MAE: 13.7278840101182\n",
      "The average differences between predicting value and actual value is 13.7278840101182\n"
     ]
    }
   ],
   "source": [
    "# Decision tree\n",
    "regress_metric(y_test,grid_tree_pred)"
   ]
  },
  {
   "cell_type": "code",
   "execution_count": 65,
   "metadata": {},
   "outputs": [
    {
     "name": "stdout",
     "output_type": "stream",
     "text": [
      "RMSE: 18.24744636651534\n",
      "The predicting value is differ from actual value by 18.24744636651534\n",
      "MAE: 13.246269983571027\n",
      "The average differences between predicting value and actual value is 13.246269983571027\n"
     ]
    }
   ],
   "source": [
    "tree_train_pred = grid_tree.predict(X_train)\n",
    "regress_metric(y_train,tree_train_pred)"
   ]
  },
  {
   "cell_type": "markdown",
   "metadata": {},
   "source": [
    "---"
   ]
  },
  {
   "cell_type": "code",
   "execution_count": 66,
   "metadata": {},
   "outputs": [
    {
     "name": "stdout",
     "output_type": "stream",
     "text": [
      "RMSE: 19.314257195606093\n",
      "The predicting value is differ from actual value by 19.314257195606093\n",
      "MAE: 13.941820493747302\n",
      "The average differences between predicting value and actual value is 13.941820493747302\n"
     ]
    }
   ],
   "source": [
    "# Bagging\n",
    "regress_metric(y_test,grid_bag_pred)"
   ]
  },
  {
   "cell_type": "code",
   "execution_count": 67,
   "metadata": {},
   "outputs": [
    {
     "name": "stdout",
     "output_type": "stream",
     "text": [
      "RMSE: 18.6590177027721\n",
      "The predicting value is differ from actual value by 18.6590177027721\n",
      "MAE: 13.52429422021756\n",
      "The average differences between predicting value and actual value is 13.52429422021756\n"
     ]
    }
   ],
   "source": [
    "bag_train_pred = grid_bag.predict(X_train)\n",
    "regress_metric(y_train,bag_train_pred)"
   ]
  },
  {
   "cell_type": "markdown",
   "metadata": {},
   "source": [
    "---"
   ]
  },
  {
   "cell_type": "code",
   "execution_count": 69,
   "metadata": {},
   "outputs": [
    {
     "name": "stdout",
     "output_type": "stream",
     "text": [
      "RMSE: 19.044626499471573\n",
      "The predicting value is differ from actual value by 19.044626499471573\n",
      "MAE: 13.589041109616534\n",
      "The average differences between predicting value and actual value is 13.589041109616534\n"
     ]
    }
   ],
   "source": [
    "# Random forest\n",
    "regress_metric(y_test,grid_rf_pred)"
   ]
  },
  {
   "cell_type": "code",
   "execution_count": 71,
   "metadata": {},
   "outputs": [
    {
     "name": "stdout",
     "output_type": "stream",
     "text": [
      "RMSE: 18.032585915359892\n",
      "The predicting value is differ from actual value by 18.032585915359892\n",
      "MAE: 13.138227319824432\n",
      "The average differences between predicting value and actual value is 13.138227319824432\n"
     ]
    }
   ],
   "source": [
    "rd_train_pred = grid_rf.predict(X_train)\n",
    "regress_metric(y_train,rd_train_pred)"
   ]
  },
  {
   "cell_type": "markdown",
   "metadata": {},
   "source": [
    "---"
   ]
  },
  {
   "cell_type": "code",
   "execution_count": 72,
   "metadata": {
    "scrolled": true
   },
   "outputs": [
    {
     "name": "stdout",
     "output_type": "stream",
     "text": [
      "RMSE: 20.06180577437183\n",
      "The predicting value is differ from actual value by 20.06180577437183\n",
      "MAE: 14.690459722758662\n",
      "The average differences between predicting value and actual value is 14.690459722758662\n"
     ]
    }
   ],
   "source": [
    "# Adaboost\n",
    "regress_metric(y_test,grid_ada_pred)"
   ]
  },
  {
   "cell_type": "code",
   "execution_count": 73,
   "metadata": {
    "scrolled": true
   },
   "outputs": [
    {
     "name": "stdout",
     "output_type": "stream",
     "text": [
      "RMSE: 19.107913774180748\n",
      "The predicting value is differ from actual value by 19.107913774180748\n",
      "MAE: 14.193607499438503\n",
      "The average differences between predicting value and actual value is 14.193607499438503\n"
     ]
    }
   ],
   "source": [
    "ada_train_pred = grid_ada.predict(X_train)\n",
    "regress_metric(y_train,ada_train_pred)"
   ]
  },
  {
   "cell_type": "markdown",
   "metadata": {},
   "source": [
    "##### 14. Based on training RMSE and testing RMSE, is there evidence of overfitting in any of your models? Which ones?"
   ]
  },
  {
   "cell_type": "code",
   "execution_count": null,
   "metadata": {
    "jupyter": {
     "outputs_hidden": true
    }
   },
   "outputs": [],
   "source": [
    "# All model are seem slightly overfitted. The bagging is the the lowest overfitted model because \n",
    "# the lowest of difference between RMSE of training set and testing set. "
   ]
  },
  {
   "cell_type": "markdown",
   "metadata": {},
   "source": [
    "##### 15. Based on everything we've covered so far, if you had to pick just one model as your final model to use to answer the problem in front of you, which one model would you pick? Defend your choice."
   ]
  },
  {
   "cell_type": "code",
   "execution_count": null,
   "metadata": {
    "jupyter": {
     "outputs_hidden": true
    }
   },
   "outputs": [],
   "source": [
    "# I will pick random forest model. Since the low enough of RMSE which mean the closet to the actual value. \n",
    "# Also the differences between training and testing of RMSE in each model are not significantly different.\n",
    "# In addition, the testing score of randomforest is the highest among all of model. \n",
    "# This mean that this model working the best on unseen data.\n"
   ]
  },
  {
   "cell_type": "markdown",
   "metadata": {},
   "source": [
    "##### 16. Suppose you wanted to improve the performance of your final model. Brainstorm 2-3 things that, if you had more time, you would attempt."
   ]
  },
  {
   "cell_type": "code",
   "execution_count": null,
   "metadata": {
    "jupyter": {
     "outputs_hidden": true
    }
   },
   "outputs": [],
   "source": [
    "# 1.Adding more real data\n",
    "# 2.Finding interaction term\n",
    "# 3.Using Regularization"
   ]
  },
  {
   "cell_type": "markdown",
   "metadata": {},
   "source": [
    "## Step 4: Model the data. (Part 2: Classification Problem)\n",
    "\n",
    "Recall:\n",
    "- Problem: Predict whether or not one is eligible for a 401k.\n",
    "- When predicting `e401k`, you may use the entire dataframe if you wish.\n",
    "\n",
    "##### 17. While you're allowed to use every variable in your dataframe, mention at least one disadvantage of using `p401k` in your model."
   ]
  },
  {
   "cell_type": "code",
   "execution_count": 11,
   "metadata": {
    "jupyter": {
     "outputs_hidden": true
    }
   },
   "outputs": [],
   "source": [
    "X = df.drop(columns = 'e401k')\n",
    "y = df['e401k']"
   ]
  },
  {
   "cell_type": "markdown",
   "metadata": {},
   "source": [
    "##### 18. List all modeling tactics we've learned that could be used to solve a classification problem (as of Wednesday afternoon of Week 6). For each tactic, identify whether it is or is not appropriate for solving this specific classification problem and explain why or why not."
   ]
  },
  {
   "cell_type": "markdown",
   "metadata": {
    "jupyter": {
     "outputs_hidden": true
    }
   },
   "source": [
    "Logistic Regression:  An appropriate tactic, especially since its coefficients can be interpreted.\n",
    "KNearest Neighbors:  hard to interpret the coefficient. Nevertheless it can be used for Classification purposes.\n",
    "Decision Trees:  An appropriate tactic, as it can be used for Classification purposes due to  easy to set up, no assumption to agonize over, easy to visualize, easier to break down and explain than some other algorithms.\n",
    "\n",
    "Bagged Decision Trees:  An appropriate tactic, as it can be used for Classification purposes also use the concept of wisdom of the crowd' can be better at predicting than decision tree.\n",
    "\n",
    "Random Forest:  An appropriate tactic, as it can be used for Classification purposes and resampling like bagging but also the features. Which will reduce the correlation between tree, mitigate variance.\n",
    "\n",
    "\n"
   ]
  },
  {
   "cell_type": "markdown",
   "metadata": {},
   "source": [
    "##### 19. Regardless of your answer to number 18, fit at least one of each of the following models to attempt to solve the classification problem above:\n",
    "    - a logistic regression model\n",
    "    - a k-nearest neighbors model\n",
    "    - a decision tree\n",
    "    - a set of bagged decision trees\n",
    "    - a random forest\n",
    "    - an Adaboost model\n",
    "    \n",
    "> As always, be sure to do a train/test split! In order to compare modeling techniques, you should use the same train-test split on each. I recommend using a random seed here.\n",
    "\n",
    "> You may find it helpful to set up a pipeline to try each modeling technique, but you are not required to do so!"
   ]
  },
  {
   "cell_type": "code",
   "execution_count": 12,
   "metadata": {},
   "outputs": [
    {
     "data": {
      "text/plain": [
       "((6956, 10), (2319, 10), (6956,), (2319,))"
      ]
     },
     "execution_count": 12,
     "metadata": {},
     "output_type": "execute_result"
    }
   ],
   "source": [
    "X_train,X_test,y_train,y_test  = train_test_split(X,y,random_state=42)\n",
    "X_train.shape,X_test.shape,y_train.shape,y_test.shape"
   ]
  },
  {
   "cell_type": "code",
   "execution_count": 13,
   "metadata": {},
   "outputs": [
    {
     "data": {
      "text/plain": [
       "0    0.613195\n",
       "1    0.386805\n",
       "Name: e401k, dtype: float64"
      ]
     },
     "execution_count": 13,
     "metadata": {},
     "output_type": "execute_result"
    }
   ],
   "source": [
    "y_test.value_counts(normalize=True)"
   ]
  },
  {
   "cell_type": "code",
   "execution_count": 14,
   "metadata": {
    "jupyter": {
     "outputs_hidden": true
    }
   },
   "outputs": [
    {
     "name": "stdout",
     "output_type": "stream",
     "text": [
      "Fitting 5 folds for each of 72 candidates, totalling 360 fits\n"
     ]
    }
   ],
   "source": [
    "# Logistic Reg\n",
    "\n",
    "pipe_logleg = Pipeline([('ss',StandardScaler()),('logreg',LogisticRegression(random_state=42))])\n",
    "\n",
    "logreg_param = { 'logreg__penalty':['l1','l2'],\n",
    "    'logreg__C':[1,3,5,7,9,11],\n",
    "    'logreg__solver':['lbfgs' 'sag', 'saga'],\n",
    "    'logreg__max_iter':[100,150,200]}\n",
    "\n",
    "grid_logleg = GridSearchCV(pipe_logleg,param_grid=logreg_param,cv=5,verbose=1)\n",
    "grid_logleg.fit(X_train,y_train)\n",
    "grid_logleg_pred  = grid_logleg.predict(X_test)"
   ]
  },
  {
   "cell_type": "code",
   "execution_count": 15,
   "metadata": {},
   "outputs": [
    {
     "name": "stdout",
     "output_type": "stream",
     "text": [
      "Train score: 0.8834100057504313\n",
      "Test score: 0.8861578266494179\n",
      "best parameters:{'logreg__C': 1, 'logreg__max_iter': 100, 'logreg__penalty': 'l1', 'logreg__solver': 'saga'}\n"
     ]
    }
   ],
   "source": [
    "grid_and_r_square(grid_logleg,X_train,X_test,y_train,y_test,gridsearch=True)"
   ]
  },
  {
   "cell_type": "code",
   "execution_count": 16,
   "metadata": {},
   "outputs": [
    {
     "name": "stdout",
     "output_type": "stream",
     "text": [
      "Confusion matrix: <sklearn.metrics._plot.confusion_matrix.ConfusionMatrixDisplay object at 0x7fb8714b6730>\n",
      "Classification report               precision    recall  f1-score   support\n",
      "\n",
      "           0       0.84      1.00      0.92      1422\n",
      "           1       1.00      0.71      0.83       897\n",
      "\n",
      "    accuracy                           0.89      2319\n",
      "   macro avg       0.92      0.85      0.87      2319\n",
      "weighted avg       0.90      0.89      0.88      2319\n",
      "\n"
     ]
    },
    {
     "data": {
      "image/png": "[encoded data removed]",
      "text/plain": [
       "<Figure size 432x288 with 2 Axes>"
      ]
     },
     "metadata": {
      "needs_background": "light"
     },
     "output_type": "display_data"
    }
   ],
   "source": [
    "classifier_metrics(grid_logleg,X_test,y_test,grid_logleg_pred)"
   ]
  },
  {
   "cell_type": "code",
   "execution_count": 17,
   "metadata": {
    "scrolled": true
   },
   "outputs": [
    {
     "name": "stdout",
     "output_type": "stream",
     "text": [
      "Fitting 5 folds for each of 312 candidates, totalling 1560 fits\n"
     ]
    }
   ],
   "source": [
    "# KNN\n",
    "knn_pipe = Pipeline([('ss',StandardScaler()),('knn',KNeighborsClassifier())])\n",
    "\n",
    "# set parameters for KNN\n",
    "knn_param = {'knn__n_neighbors': np.arange(5,31),\n",
    "        'knn__weights':['uniform','distance'],\n",
    "        'knn__p':[1,2],\n",
    "        'knn__leaf_size':[30,40,50] }\n",
    "\n",
    "# Gridsearch for KNN\n",
    "grid_knn = GridSearchCV(knn_pipe,param_grid=knn_param,cv = 5,verbose=1)\n",
    "grid_knn.fit(X_train,y_train)\n",
    "grid_knn_pred = grid_knn.predict(X_test)"
   ]
  },
  {
   "cell_type": "code",
   "execution_count": 18,
   "metadata": {
    "scrolled": true
   },
   "outputs": [
    {
     "name": "stdout",
     "output_type": "stream",
     "text": [
      "Train score: 0.8832662449683726\n",
      "Test score: 0.8852953859422165\n",
      "best parameters:{'knn__leaf_size': 30, 'knn__n_neighbors': 24, 'knn__p': 1, 'knn__weights': 'uniform'}\n"
     ]
    }
   ],
   "source": [
    "grid_and_r_square(grid_knn,X_train,X_test,y_train,y_test,gridsearch=True)"
   ]
  },
  {
   "cell_type": "code",
   "execution_count": 19,
   "metadata": {},
   "outputs": [
    {
     "name": "stdout",
     "output_type": "stream",
     "text": [
      "Confusion matrix: <sklearn.metrics._plot.confusion_matrix.ConfusionMatrixDisplay object at 0x7fb875c9d0a0>\n",
      "Classification report               precision    recall  f1-score   support\n",
      "\n",
      "           0       0.84      1.00      0.91      1422\n",
      "           1       1.00      0.71      0.83       897\n",
      "\n",
      "    accuracy                           0.89      2319\n",
      "   macro avg       0.92      0.85      0.87      2319\n",
      "weighted avg       0.90      0.89      0.88      2319\n",
      "\n"
     ]
    },
    {
     "data": {
      "image/png": "[encoded data removed]",
      "text/plain": [
       "<Figure size 432x288 with 2 Axes>"
      ]
     },
     "metadata": {
      "needs_background": "light"
     },
     "output_type": "display_data"
    }
   ],
   "source": [
    "classifier_metrics(grid_knn,X_test,y_test,grid_knn_pred)"
   ]
  },
  {
   "cell_type": "code",
   "execution_count": 20,
   "metadata": {},
   "outputs": [
    {
     "name": "stdout",
     "output_type": "stream",
     "text": [
      "Fitting 5 folds for each of 1200 candidates, totalling 6000 fits\n"
     ]
    }
   ],
   "source": [
    "# Decisiontree\n",
    "tree = DecisionTreeClassifier(random_state=42)\n",
    "\n",
    "tree_param = { 'splitter':['best',\"random\"],\n",
    "    'max_depth':[3,5,7,9,11,13],\n",
    "    'min_samples_split':[2,4,6,8,10],\n",
    "    'min_samples_leaf':[1,3,5,7,9],\n",
    "    'max_features':[None,'auto','sqrt','log2']\n",
    "}\n",
    "\n",
    "\n",
    "grid_tree = GridSearchCV(tree,param_grid=tree_param,cv=5,verbose=1)\n",
    "grid_tree.fit(X_train,y_train)\n",
    "grid_tree_pred = grid_tree.predict(X_test)"
   ]
  },
  {
   "cell_type": "code",
   "execution_count": 21,
   "metadata": {},
   "outputs": [
    {
     "name": "stdout",
     "output_type": "stream",
     "text": [
      "Train score: 0.8847038527889591\n",
      "Test score: 0.8848641655886158\n",
      "best parameters:{'max_depth': 7, 'max_features': None, 'min_samples_leaf': 5, 'min_samples_split': 2, 'splitter': 'random'}\n"
     ]
    }
   ],
   "source": [
    "grid_and_r_square(grid_tree,X_train,X_test,y_train,y_test,gridsearch=True)"
   ]
  },
  {
   "cell_type": "code",
   "execution_count": 22,
   "metadata": {},
   "outputs": [
    {
     "name": "stdout",
     "output_type": "stream",
     "text": [
      "Confusion matrix: <sklearn.metrics._plot.confusion_matrix.ConfusionMatrixDisplay object at 0x7fb87584c8e0>\n",
      "Classification report               precision    recall  f1-score   support\n",
      "\n",
      "           0       0.84      1.00      0.91      1422\n",
      "           1       0.99      0.71      0.83       897\n",
      "\n",
      "    accuracy                           0.88      2319\n",
      "   macro avg       0.92      0.85      0.87      2319\n",
      "weighted avg       0.90      0.88      0.88      2319\n",
      "\n"
     ]
    },
    {
     "data": {
      "image/png": "[encoded data removed]",
      "text/plain": [
       "<Figure size 432x288 with 2 Axes>"
      ]
     },
     "metadata": {
      "needs_background": "light"
     },
     "output_type": "display_data"
    }
   ],
   "source": [
    "classifier_metrics(grid_tree,X_test,y_test,grid_tree_pred)"
   ]
  },
  {
   "cell_type": "code",
   "execution_count": 23,
   "metadata": {},
   "outputs": [
    {
     "name": "stdout",
     "output_type": "stream",
     "text": [
      "Fitting 5 folds for each of 160 candidates, totalling 800 fits\n"
     ]
    }
   ],
   "source": [
    "# Bagging\n",
    "bag = BaggingClassifier(random_state=42)\n",
    "\n",
    "bag_param = {'n_estimators':[10,20,30,40],\n",
    "    'max_samples':[40,45,50,55],\n",
    "    'max_features':[1,2,3,4,5],\n",
    "    'bootstrap':[True,False]}\n",
    "\n",
    "grid_bag = GridSearchCV(bag,param_grid=bag_param,cv=5,verbose= 1)\n",
    "grid_bag.fit(X_train,y_train)\n",
    "grid_bag_pred = grid_bag.predict(X_test)\n",
    "\n"
   ]
  },
  {
   "cell_type": "code",
   "execution_count": 24,
   "metadata": {},
   "outputs": [
    {
     "name": "stdout",
     "output_type": "stream",
     "text": [
      "Train score: 0.882691201840138\n",
      "Test score: 0.8865890470030185\n",
      "best parameters:{'bootstrap': False, 'max_features': 4, 'max_samples': 55, 'n_estimators': 40}\n"
     ]
    }
   ],
   "source": [
    "grid_and_r_square(grid_bag,X_train,X_test,y_train,y_test,gridsearch=True)"
   ]
  },
  {
   "cell_type": "code",
   "execution_count": 25,
   "metadata": {},
   "outputs": [
    {
     "name": "stdout",
     "output_type": "stream",
     "text": [
      "Confusion matrix: <sklearn.metrics._plot.confusion_matrix.ConfusionMatrixDisplay object at 0x7fb8759150a0>\n",
      "Classification report               precision    recall  f1-score   support\n",
      "\n",
      "           0       0.84      1.00      0.92      1422\n",
      "           1       1.00      0.71      0.83       897\n",
      "\n",
      "    accuracy                           0.89      2319\n",
      "   macro avg       0.92      0.85      0.87      2319\n",
      "weighted avg       0.90      0.89      0.88      2319\n",
      "\n"
     ]
    },
    {
     "data": {
      "image/png": "[encoded data removed]",
      "text/plain": [
       "<Figure size 432x288 with 2 Axes>"
      ]
     },
     "metadata": {
      "needs_background": "light"
     },
     "output_type": "display_data"
    }
   ],
   "source": [
    "classifier_metrics(grid_bag,X_test,y_test,grid_bag_pred)"
   ]
  },
  {
   "cell_type": "code",
   "execution_count": 26,
   "metadata": {},
   "outputs": [
    {
     "name": "stdout",
     "output_type": "stream",
     "text": [
      "Fitting 5 folds for each of 64 candidates, totalling 320 fits\n"
     ]
    }
   ],
   "source": [
    "# RandomForest\n",
    "rf = RandomForestClassifier(random_state=42)\n",
    "\n",
    "rf_param = {'n_estimators':[100,125,150,200],\n",
    "    'max_depth':[5,7,9,11],\n",
    "    'max_features':[3,5,7,9]}\n",
    "\n",
    "grid_rf = GridSearchCV(rf,param_grid=rf_param,cv=5,verbose=1)\n",
    "grid_rf.fit(X_train,y_train)\n",
    "grid_rf_pred = grid_rf.predict(X_test)\n"
   ]
  },
  {
   "cell_type": "code",
   "execution_count": 27,
   "metadata": {},
   "outputs": [
    {
     "name": "stdout",
     "output_type": "stream",
     "text": [
      "Train score: 0.8834100057504313\n",
      "Test score: 0.8861578266494179\n",
      "best parameters:{'max_depth': 5, 'max_features': 3, 'n_estimators': 100}\n"
     ]
    }
   ],
   "source": [
    "grid_and_r_square(grid_rf,X_train,X_test,y_train,y_test,gridsearch=True)"
   ]
  },
  {
   "cell_type": "code",
   "execution_count": 28,
   "metadata": {},
   "outputs": [
    {
     "name": "stdout",
     "output_type": "stream",
     "text": [
      "Confusion matrix: <sklearn.metrics._plot.confusion_matrix.ConfusionMatrixDisplay object at 0x7fb8761f99a0>\n",
      "Classification report               precision    recall  f1-score   support\n",
      "\n",
      "           0       0.84      1.00      0.92      1422\n",
      "           1       1.00      0.71      0.83       897\n",
      "\n",
      "    accuracy                           0.89      2319\n",
      "   macro avg       0.92      0.85      0.87      2319\n",
      "weighted avg       0.90      0.89      0.88      2319\n",
      "\n"
     ]
    },
    {
     "data": {
      "image/png": "[encoded data removed]",
      "text/plain": [
       "<Figure size 432x288 with 2 Axes>"
      ]
     },
     "metadata": {
      "needs_background": "light"
     },
     "output_type": "display_data"
    }
   ],
   "source": [
    "classifier_metrics(grid_rf,X_test,y_test,grid_rf_pred)"
   ]
  },
  {
   "cell_type": "code",
   "execution_count": 29,
   "metadata": {
    "scrolled": true
   },
   "outputs": [
    {
     "name": "stdout",
     "output_type": "stream",
     "text": [
      "Fitting 5 folds for each of 15 candidates, totalling 75 fits\n"
     ]
    }
   ],
   "source": [
    "# Adaboost\n",
    "ada = AdaBoostClassifier(random_state=42)\n",
    "\n",
    "# ada.fit(X_train,y_train)\n",
    "# ada_pred = ada.predict(X_test)\n",
    "ada_param = {'n_estimators':[5,10,25,50,75],\n",
    "    'learning_rate':[0.1,0.3,0.5]}\n",
    "\n",
    "grid_ada = GridSearchCV(ada,param_grid=ada_param,cv=5,verbose=1)\n",
    "grid_ada.fit(X_train,y_train)\n",
    "grid_ada_pred = grid_ada.predict(X_test)\n"
   ]
  },
  {
   "cell_type": "code",
   "execution_count": 30,
   "metadata": {},
   "outputs": [
    {
     "name": "stdout",
     "output_type": "stream",
     "text": [
      "Train score: 0.8834100057504313\n",
      "Test score: 0.8861578266494179\n",
      "best parameters:{'learning_rate': 0.1, 'n_estimators': 5}\n"
     ]
    }
   ],
   "source": [
    "grid_and_r_square(grid_ada,X_train,X_test,y_train,y_test,gridsearch=True)"
   ]
  },
  {
   "cell_type": "code",
   "execution_count": 31,
   "metadata": {
    "scrolled": true
   },
   "outputs": [
    {
     "name": "stdout",
     "output_type": "stream",
     "text": [
      "Confusion matrix: <sklearn.metrics._plot.confusion_matrix.ConfusionMatrixDisplay object at 0x7fb8760f9b50>\n",
      "Classification report               precision    recall  f1-score   support\n",
      "\n",
      "           0       0.84      1.00      0.92      1422\n",
      "           1       1.00      0.71      0.83       897\n",
      "\n",
      "    accuracy                           0.89      2319\n",
      "   macro avg       0.92      0.85      0.87      2319\n",
      "weighted avg       0.90      0.89      0.88      2319\n",
      "\n"
     ]
    },
    {
     "data": {
      "image/png": "[encoded data removed]",
      "text/plain": [
       "<Figure size 432x288 with 2 Axes>"
      ]
     },
     "metadata": {
      "needs_background": "light"
     },
     "output_type": "display_data"
    }
   ],
   "source": [
    "classifier_metrics(grid_ada,X_test,y_test,grid_ada_pred)"
   ]
  },
  {
   "cell_type": "markdown",
   "metadata": {},
   "source": [
    "## Step 5: Evaluate the model. (Part 2: Classfication Problem)\n",
    "\n",
    "##### 20. Suppose our \"positive\" class is that someone is eligible for a 401(k). What are our false positives? What are our false negatives?"
   ]
  },
  {
   "cell_type": "code",
   "execution_count": 32,
   "metadata": {
    "jupyter": {
     "outputs_hidden": true
    }
   },
   "outputs": [],
   "source": [
    "# False negative is people who actually get 401(k), but the prediction show that they are not suitable. "
   ]
  },
  {
   "cell_type": "markdown",
   "metadata": {},
   "source": [
    "##### 21. In this specific case, would we rather minimize false positives or minimize false negatives? Defend your choice."
   ]
  },
  {
   "cell_type": "code",
   "execution_count": null,
   "metadata": {
    "jupyter": {
     "outputs_hidden": true
    }
   },
   "outputs": [],
   "source": [
    "# False negative is more impact to the company. \n",
    "# The employer who decide fail on giving someone 401K will lost their money before the condition were met."
   ]
  },
  {
   "cell_type": "markdown",
   "metadata": {},
   "source": [
    "##### 22. Suppose we wanted to optimize for the answer you provided in problem 21. Which metric would we optimize in this case?"
   ]
  },
  {
   "cell_type": "code",
   "execution_count": null,
   "metadata": {
    "jupyter": {
     "outputs_hidden": true
    }
   },
   "outputs": [],
   "source": [
    "# Recall, because recall is tp/(tp+fn). The less of fn, the more of recall score."
   ]
  },
  {
   "cell_type": "markdown",
   "metadata": {},
   "source": [
    "##### 23. Suppose that instead of optimizing for the metric in problem 21, we wanted to balance our false positives and false negatives using `f1-score`. Why might [f1-score](https://en.wikipedia.org/wiki/F1_score) be an appropriate metric to use here?"
   ]
  },
  {
   "cell_type": "code",
   "execution_count": null,
   "metadata": {
    "jupyter": {
     "outputs_hidden": true
    }
   },
   "outputs": [],
   "source": [
    "# Precision is How much correct of positive case we catch? tp /(tp+fp)\n",
    "# However Recall is How much of predicting correct on positive case over all of positive case tp/(tp+fn)\n",
    "\n",
    "# There is a link between two metric which is the different divider  - fp & fn, which are the component in F1 score.\n",
    "\n",
    "# So here is F-1 score come to the play, it will keeps the balance between precision and recall.\n",
    "# if there is perfectly balanced scenario of fn an fp, F1 score will tend toward to 1.But if there is imbalanced between\n",
    "# recall and precision, whether due to imbalanced classes, etc. it will tend the F1- score toward zero.\n",
    " "
   ]
  },
  {
   "cell_type": "code",
   "execution_count": 33,
   "metadata": {},
   "outputs": [
    {
     "data": {
      "text/plain": [
       "0    0.613195\n",
       "1    0.386805\n",
       "Name: e401k, dtype: float64"
      ]
     },
     "execution_count": 33,
     "metadata": {},
     "output_type": "execute_result"
    }
   ],
   "source": [
    "y_test.value_counts(normalize=True)\n",
    "# slightly imbalanced classes"
   ]
  },
  {
   "cell_type": "markdown",
   "metadata": {},
   "source": [
    "##### 24. Using f1-score, evaluate each of the models you fit on both the training and testing data."
   ]
  },
  {
   "cell_type": "code",
   "execution_count": 34,
   "metadata": {},
   "outputs": [],
   "source": [
    "def f1_diff(y_train,y_test,train_pred,test_pred):\n",
    "    print(f'Train:{metrics.classification_report(y_train,train_pred)}')\n",
    "    print(f'Test :{metrics.classification_report(y_test,test_pred)}')"
   ]
  },
  {
   "cell_type": "code",
   "execution_count": 35,
   "metadata": {},
   "outputs": [
    {
     "name": "stdout",
     "output_type": "stream",
     "text": [
      "Train:              precision    recall  f1-score   support\n",
      "\n",
      "           0       0.84      1.00      0.91      4216\n",
      "           1       1.00      0.70      0.83      2740\n",
      "\n",
      "    accuracy                           0.88      6956\n",
      "   macro avg       0.92      0.85      0.87      6956\n",
      "weighted avg       0.90      0.88      0.88      6956\n",
      "\n",
      "Test :              precision    recall  f1-score   support\n",
      "\n",
      "           0       0.84      1.00      0.92      1422\n",
      "           1       1.00      0.71      0.83       897\n",
      "\n",
      "    accuracy                           0.89      2319\n",
      "   macro avg       0.92      0.85      0.87      2319\n",
      "weighted avg       0.90      0.89      0.88      2319\n",
      "\n"
     ]
    }
   ],
   "source": [
    "# logistic\n",
    "logleg_train = grid_logleg.predict(X_train)\n",
    "f1_diff(y_train,y_test,logleg_train,grid_logleg_pred)"
   ]
  },
  {
   "cell_type": "code",
   "execution_count": 36,
   "metadata": {},
   "outputs": [
    {
     "name": "stdout",
     "output_type": "stream",
     "text": [
      "Train:              precision    recall  f1-score   support\n",
      "\n",
      "           0       0.84      1.00      0.91      4216\n",
      "           1       1.00      0.71      0.83      2740\n",
      "\n",
      "    accuracy                           0.88      6956\n",
      "   macro avg       0.92      0.85      0.87      6956\n",
      "weighted avg       0.90      0.88      0.88      6956\n",
      "\n",
      "Test :              precision    recall  f1-score   support\n",
      "\n",
      "           0       0.84      1.00      0.91      1422\n",
      "           1       1.00      0.71      0.83       897\n",
      "\n",
      "    accuracy                           0.89      2319\n",
      "   macro avg       0.92      0.85      0.87      2319\n",
      "weighted avg       0.90      0.89      0.88      2319\n",
      "\n"
     ]
    }
   ],
   "source": [
    "# KNN\n",
    "knn_train = grid_knn.predict(X_train)\n",
    "f1_diff(y_train,y_test,knn_train,grid_knn_pred)"
   ]
  },
  {
   "cell_type": "code",
   "execution_count": 37,
   "metadata": {},
   "outputs": [
    {
     "name": "stdout",
     "output_type": "stream",
     "text": [
      "Train:              precision    recall  f1-score   support\n",
      "\n",
      "           0       0.84      1.00      0.91      4216\n",
      "           1       1.00      0.71      0.83      2740\n",
      "\n",
      "    accuracy                           0.88      6956\n",
      "   macro avg       0.92      0.85      0.87      6956\n",
      "weighted avg       0.90      0.88      0.88      6956\n",
      "\n",
      "Test :              precision    recall  f1-score   support\n",
      "\n",
      "           0       0.84      1.00      0.91      1422\n",
      "           1       0.99      0.71      0.83       897\n",
      "\n",
      "    accuracy                           0.88      2319\n",
      "   macro avg       0.92      0.85      0.87      2319\n",
      "weighted avg       0.90      0.88      0.88      2319\n",
      "\n"
     ]
    }
   ],
   "source": [
    "# tree\n",
    "tree_train = grid_tree.predict(X_train)\n",
    "f1_diff(y_train,y_test,tree_train,grid_tree_pred)"
   ]
  },
  {
   "cell_type": "code",
   "execution_count": 38,
   "metadata": {},
   "outputs": [
    {
     "name": "stdout",
     "output_type": "stream",
     "text": [
      "Train:              precision    recall  f1-score   support\n",
      "\n",
      "           0       0.84      1.00      0.91      4216\n",
      "           1       0.99      0.71      0.83      2740\n",
      "\n",
      "    accuracy                           0.88      6956\n",
      "   macro avg       0.92      0.85      0.87      6956\n",
      "weighted avg       0.90      0.88      0.88      6956\n",
      "\n",
      "Test :              precision    recall  f1-score   support\n",
      "\n",
      "           0       0.84      1.00      0.92      1422\n",
      "           1       1.00      0.71      0.83       897\n",
      "\n",
      "    accuracy                           0.89      2319\n",
      "   macro avg       0.92      0.85      0.87      2319\n",
      "weighted avg       0.90      0.89      0.88      2319\n",
      "\n"
     ]
    }
   ],
   "source": [
    "# Bag\n",
    "bag_train = grid_bag.predict(X_train)\n",
    "f1_diff(y_train,y_test,bag_train,grid_bag_pred)"
   ]
  },
  {
   "cell_type": "code",
   "execution_count": 39,
   "metadata": {},
   "outputs": [
    {
     "name": "stdout",
     "output_type": "stream",
     "text": [
      "Train:              precision    recall  f1-score   support\n",
      "\n",
      "           0       0.84      1.00      0.91      4216\n",
      "           1       1.00      0.70      0.83      2740\n",
      "\n",
      "    accuracy                           0.88      6956\n",
      "   macro avg       0.92      0.85      0.87      6956\n",
      "weighted avg       0.90      0.88      0.88      6956\n",
      "\n",
      "Test :              precision    recall  f1-score   support\n",
      "\n",
      "           0       0.84      1.00      0.92      1422\n",
      "           1       1.00      0.71      0.83       897\n",
      "\n",
      "    accuracy                           0.89      2319\n",
      "   macro avg       0.92      0.85      0.87      2319\n",
      "weighted avg       0.90      0.89      0.88      2319\n",
      "\n"
     ]
    }
   ],
   "source": [
    "# randomforest\n",
    "rf_train = grid_rf.predict(X_train)\n",
    "f1_diff(y_train,y_test,rf_train,grid_rf_pred)"
   ]
  },
  {
   "cell_type": "code",
   "execution_count": 40,
   "metadata": {},
   "outputs": [
    {
     "name": "stdout",
     "output_type": "stream",
     "text": [
      "Train:              precision    recall  f1-score   support\n",
      "\n",
      "           0       0.84      1.00      0.91      4216\n",
      "           1       1.00      0.70      0.83      2740\n",
      "\n",
      "    accuracy                           0.88      6956\n",
      "   macro avg       0.92      0.85      0.87      6956\n",
      "weighted avg       0.90      0.88      0.88      6956\n",
      "\n",
      "Test :              precision    recall  f1-score   support\n",
      "\n",
      "           0       0.84      1.00      0.92      1422\n",
      "           1       1.00      0.71      0.83       897\n",
      "\n",
      "    accuracy                           0.89      2319\n",
      "   macro avg       0.92      0.85      0.87      2319\n",
      "weighted avg       0.90      0.89      0.88      2319\n",
      "\n"
     ]
    }
   ],
   "source": [
    "# ADA\n",
    "ada_train = grid_ada.predict(X_train)\n",
    "f1_diff(y_train,y_test,ada_train,grid_ada_pred)"
   ]
  },
  {
   "cell_type": "markdown",
   "metadata": {},
   "source": [
    "##### 25. Based on training f1-score and testing f1-score, is there evidence of overfitting in any of your models? Which ones?"
   ]
  },
  {
   "cell_type": "code",
   "execution_count": null,
   "metadata": {
    "jupyter": {
     "outputs_hidden": true
    }
   },
   "outputs": [],
   "source": [
    "# There is no overfitting evidence in all of the models."
   ]
  },
  {
   "cell_type": "markdown",
   "metadata": {},
   "source": [
    "##### 26. Based on everything we've covered so far, if you had to pick just one model as your final model to use to answer the problem in front of you, which one model would you pick? Defend your choice."
   ]
  },
  {
   "cell_type": "code",
   "execution_count": null,
   "metadata": {
    "jupyter": {
     "outputs_hidden": true
    }
   },
   "outputs": [],
   "source": [
    "# All of the model give the same F1-score . So, I would go with logistic regression, because the ability of interpretable. \n",
    "# logistic regression is parametic model that has coefficient to interpret"
   ]
  },
  {
   "cell_type": "markdown",
   "metadata": {},
   "source": [
    "##### 27. Suppose you wanted to improve the performance of your final model. Brainstorm 2-3 things that, if you had more time, you would attempt."
   ]
  },
  {
   "cell_type": "code",
   "execution_count": null,
   "metadata": {
    "jupyter": {
     "outputs_hidden": true
    }
   },
   "outputs": [],
   "source": [
    "# 1. make the data more balanced to predict well, as can see from recall with 80% correct on eligible 401K \n",
    "# by gathering data or SMOTE\n",
    "# 2. use more power ful estimator , voting classifier, gradient boosting ,etc."
   ]
  },
  {
   "cell_type": "markdown",
   "metadata": {},
   "source": [
    "## Step 6: Answer the problem.\n",
    "\n",
    "##### BONUS: Briefly summarize your answers to the regression and classification problems. Be sure to include any limitations or hesitations in your answer.\n",
    "\n",
    "- Regression: What features best predict one's income?\n",
    "- Classification: Predict whether or not one is eligible for a 401k."
   ]
  },
  {
   "cell_type": "markdown",
   "metadata": {
    "jupyter": {
     "outputs_hidden": true
    }
   },
   "source": [
    "- Regression : The Random forest model is the great estimator in this scenario that give the prediction incomes far from the actual incomes only 18.03 dollars, but there is evidence of slightly overfitting in this model. Thus, this estimator may not work great if the data changed or adding features.\n",
    "\n",
    "\n",
    "- Classification : All models give the same f1 score. So, the criteria of choosing is on how easy to explain things by using that model. Thus, logistic regression seem to be the great estimator for predicting this case and present to the employers. Nevertheless, there will be some challenge on tuning hyperparameter that could improve the accuracy and could lead to distinguish the best model rather than this answer."
   ]
  },
  {
   "cell_type": "code",
   "execution_count": null,
   "metadata": {},
   "outputs": [],
   "source": []
  }
 ],
 "metadata": {
  "kernelspec": {
   "display_name": "Python 3 (ipykernel)",
   "language": "python",
   "name": "python3"
  },
  "language_info": {
   "codemirror_mode": {
    "name": "ipython",
    "version": 3
   },
   "file_extension": ".py",
   "mimetype": "text/x-python",
   "name": "python",
   "nbconvert_exporter": "python",
   "pygments_lexer": "ipython3",
   "version": "3.9.12"
  }
 },
 "nbformat": 4,
 "nbformat_minor": 4
}
