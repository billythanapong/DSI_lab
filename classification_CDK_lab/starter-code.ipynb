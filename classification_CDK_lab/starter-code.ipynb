{
 "cells": [
  {
   "cell_type": "markdown",
   "metadata": {},
   "source": [
    "## Week 4, Lab 2: Predicting Chronic Kidney Disease in Patients\n",
    "> Author: Matt Brems\n",
    "\n",
    "We can sketch out the data science process as follows:\n",
    "1. Define the problem.\n",
    "2. Obtain the data.\n",
    "3. Explore the data.\n",
    "4. Model the data.\n",
    "5. Evaluate the model.\n",
    "6. Answer the problem.\n",
    "\n",
    "In this lab, we're going to focus on steps exploring data, building models and evaluating the models we build.\n",
    "\n",
    "There are three links you may find important:\n",
    "- [A set of chronic kidney disease (CKD) data and other biological factors](./chronic_kidney_disease_full.csv).\n",
    "- [The CKD data dictionary](./chronic_kidney_disease_header.txt).\n",
    "- [An article comparing the use of k-nearest neighbors and support vector machines on predicting CKD](./chronic_kidney_disease.pdf)."
   ]
  },
  {
   "cell_type": "markdown",
   "metadata": {},
   "source": [
    "## Step 1: Define the problem.\n",
    "\n",
    "Suppose you're working for Mayo Clinic, widely recognized to be the top hospital in the United States. In your work, you've overheard nurses and doctors discuss test results, then arrive at a conclusion as to whether or not someone has developed a particular disease or condition. For example, you might overhear something like:\n",
    "\n",
    "> **Nurse**: Male 57 year-old patient presents with severe chest pain. FDP _(short for fibrin degradation product)_ was elevated at 13. We did an echo _(echocardiogram)_ and it was inconclusive.\n",
    "\n",
    "> **Doctor**: What was his interarm BP? _(blood pressure)_\n",
    "\n",
    "> **Nurse**: Systolic was 140 on the right; 110 on the left.\n",
    "\n",
    "> **Doctor**: It's an aortic dissection! Get to the OR _(operating room)_ now!\n",
    "\n",
    "> _(intense music playing)_\n",
    "\n",
    "In this fictitious  scenario, you might imagine the doctor going through a series of steps like a [flowchart](https://en.wikipedia.org/wiki/Flowchart), or a series of if-this-then-that steps to diagnose a patient. The first steps made the doctor ask what the interarm blood pressure was. Because interarm blood pressure took on the values it took on, the doctor diagnosed the patient with an aortic dissection.\n",
    "\n",
    "Your goal, as a research biostatistical data scientist at the nation's top hospital, is to develop a medical test that can improve upon our current diagnosis system for [chronic kidney disease (CKD)](https://www.mayoclinic.org/diseases-conditions/chronic-kidney-disease/symptoms-causes/syc-20354521).\n",
    "\n",
    "**Real-world problem**: Develop a medical diagnosis test that is better than our current diagnosis system for CKD.\n",
    "\n",
    "**Data science problem**: Develop a medical diagnosis test that reduces both the number of false positives and the number of false negatives."
   ]
  },
  {
   "cell_type": "code",
   "execution_count": 1,
   "metadata": {},
   "outputs": [],
   "source": [
    "# library imports\n",
    "import pandas as pd\n",
    "import matplotlib.pyplot as plt\n",
    "import seaborn as sns\n",
    "import numpy as np    \n",
    "import warnings\n",
    "warnings.filterwarnings(action='ignore')\n",
    "\n",
    "from sklearn.neighbors import KNeighborsClassifier\n",
    "from sklearn.linear_model import LogisticRegression\n",
    "from sklearn.model_selection import train_test_split,cross_val_score\n",
    "from sklearn.preprocessing import StandardScaler\n",
    "from sklearn.metrics import confusion_matrix,plot_confusion_matrix,classification_report,plot_roc_curve\n",
    "from sklearn import metrics"
   ]
  },
  {
   "cell_type": "markdown",
   "metadata": {},
   "source": [
    "---\n",
    "\n",
    "## Step 2: Obtain the data.\n",
    "\n",
    "### 1. Read in the data."
   ]
  },
  {
   "cell_type": "code",
   "execution_count": 2,
   "metadata": {},
   "outputs": [],
   "source": [
    "df = pd.read_csv('./chronic_kidney_disease_full.csv')"
   ]
  },
  {
   "cell_type": "code",
   "execution_count": 3,
   "metadata": {},
   "outputs": [
    {
     "data": {
      "text/plain": [
       "Index(['age', 'bp', 'sg', 'al', 'su', 'rbc', 'pc', 'pcc', 'ba', 'bgr', 'bu',\n",
       "       'sc', 'sod', 'pot', 'hemo', 'pcv', 'wbcc', 'rbcc', 'htn', 'dm', 'cad',\n",
       "       'appet', 'pe', 'ane', 'class'],\n",
       "      dtype='object')"
      ]
     },
     "execution_count": 3,
     "metadata": {},
     "output_type": "execute_result"
    }
   ],
   "source": [
    "# The features\n",
    "\n",
    "df.columns"
   ]
  },
  {
   "cell_type": "code",
   "execution_count": 4,
   "metadata": {},
   "outputs": [
    {
     "data": {
      "text/html": [
       "<div>\n",
       "<style scoped>\n",
       "    .dataframe tbody tr th:only-of-type {\n",
       "        vertical-align: middle;\n",
       "    }\n",
       "\n",
       "    .dataframe tbody tr th {\n",
       "        vertical-align: top;\n",
       "    }\n",
       "\n",
       "    .dataframe thead th {\n",
       "        text-align: right;\n",
       "    }\n",
       "</style>\n",
       "<table border=\"1\" class=\"dataframe\">\n",
       "  <thead>\n",
       "    <tr style=\"text-align: right;\">\n",
       "      <th></th>\n",
       "      <th>age</th>\n",
       "      <th>bp</th>\n",
       "      <th>sg</th>\n",
       "      <th>al</th>\n",
       "      <th>su</th>\n",
       "      <th>rbc</th>\n",
       "      <th>pc</th>\n",
       "      <th>pcc</th>\n",
       "      <th>ba</th>\n",
       "      <th>bgr</th>\n",
       "      <th>...</th>\n",
       "      <th>pcv</th>\n",
       "      <th>wbcc</th>\n",
       "      <th>rbcc</th>\n",
       "      <th>htn</th>\n",
       "      <th>dm</th>\n",
       "      <th>cad</th>\n",
       "      <th>appet</th>\n",
       "      <th>pe</th>\n",
       "      <th>ane</th>\n",
       "      <th>class</th>\n",
       "    </tr>\n",
       "  </thead>\n",
       "  <tbody>\n",
       "    <tr>\n",
       "      <th>0</th>\n",
       "      <td>48.0</td>\n",
       "      <td>80.0</td>\n",
       "      <td>1.020</td>\n",
       "      <td>1.0</td>\n",
       "      <td>0.0</td>\n",
       "      <td>NaN</td>\n",
       "      <td>normal</td>\n",
       "      <td>notpresent</td>\n",
       "      <td>notpresent</td>\n",
       "      <td>121.0</td>\n",
       "      <td>...</td>\n",
       "      <td>44.0</td>\n",
       "      <td>7800.0</td>\n",
       "      <td>5.2</td>\n",
       "      <td>yes</td>\n",
       "      <td>yes</td>\n",
       "      <td>no</td>\n",
       "      <td>good</td>\n",
       "      <td>no</td>\n",
       "      <td>no</td>\n",
       "      <td>ckd</td>\n",
       "    </tr>\n",
       "    <tr>\n",
       "      <th>1</th>\n",
       "      <td>7.0</td>\n",
       "      <td>50.0</td>\n",
       "      <td>1.020</td>\n",
       "      <td>4.0</td>\n",
       "      <td>0.0</td>\n",
       "      <td>NaN</td>\n",
       "      <td>normal</td>\n",
       "      <td>notpresent</td>\n",
       "      <td>notpresent</td>\n",
       "      <td>NaN</td>\n",
       "      <td>...</td>\n",
       "      <td>38.0</td>\n",
       "      <td>6000.0</td>\n",
       "      <td>NaN</td>\n",
       "      <td>no</td>\n",
       "      <td>no</td>\n",
       "      <td>no</td>\n",
       "      <td>good</td>\n",
       "      <td>no</td>\n",
       "      <td>no</td>\n",
       "      <td>ckd</td>\n",
       "    </tr>\n",
       "    <tr>\n",
       "      <th>2</th>\n",
       "      <td>62.0</td>\n",
       "      <td>80.0</td>\n",
       "      <td>1.010</td>\n",
       "      <td>2.0</td>\n",
       "      <td>3.0</td>\n",
       "      <td>normal</td>\n",
       "      <td>normal</td>\n",
       "      <td>notpresent</td>\n",
       "      <td>notpresent</td>\n",
       "      <td>423.0</td>\n",
       "      <td>...</td>\n",
       "      <td>31.0</td>\n",
       "      <td>7500.0</td>\n",
       "      <td>NaN</td>\n",
       "      <td>no</td>\n",
       "      <td>yes</td>\n",
       "      <td>no</td>\n",
       "      <td>poor</td>\n",
       "      <td>no</td>\n",
       "      <td>yes</td>\n",
       "      <td>ckd</td>\n",
       "    </tr>\n",
       "    <tr>\n",
       "      <th>3</th>\n",
       "      <td>48.0</td>\n",
       "      <td>70.0</td>\n",
       "      <td>1.005</td>\n",
       "      <td>4.0</td>\n",
       "      <td>0.0</td>\n",
       "      <td>normal</td>\n",
       "      <td>abnormal</td>\n",
       "      <td>present</td>\n",
       "      <td>notpresent</td>\n",
       "      <td>117.0</td>\n",
       "      <td>...</td>\n",
       "      <td>32.0</td>\n",
       "      <td>6700.0</td>\n",
       "      <td>3.9</td>\n",
       "      <td>yes</td>\n",
       "      <td>no</td>\n",
       "      <td>no</td>\n",
       "      <td>poor</td>\n",
       "      <td>yes</td>\n",
       "      <td>yes</td>\n",
       "      <td>ckd</td>\n",
       "    </tr>\n",
       "    <tr>\n",
       "      <th>4</th>\n",
       "      <td>51.0</td>\n",
       "      <td>80.0</td>\n",
       "      <td>1.010</td>\n",
       "      <td>2.0</td>\n",
       "      <td>0.0</td>\n",
       "      <td>normal</td>\n",
       "      <td>normal</td>\n",
       "      <td>notpresent</td>\n",
       "      <td>notpresent</td>\n",
       "      <td>106.0</td>\n",
       "      <td>...</td>\n",
       "      <td>35.0</td>\n",
       "      <td>7300.0</td>\n",
       "      <td>4.6</td>\n",
       "      <td>no</td>\n",
       "      <td>no</td>\n",
       "      <td>no</td>\n",
       "      <td>good</td>\n",
       "      <td>no</td>\n",
       "      <td>no</td>\n",
       "      <td>ckd</td>\n",
       "    </tr>\n",
       "  </tbody>\n",
       "</table>\n",
       "<p>5 rows × 25 columns</p>\n",
       "</div>"
      ],
      "text/plain": [
       "    age    bp     sg   al   su     rbc        pc         pcc          ba  \\\n",
       "0  48.0  80.0  1.020  1.0  0.0     NaN    normal  notpresent  notpresent   \n",
       "1   7.0  50.0  1.020  4.0  0.0     NaN    normal  notpresent  notpresent   \n",
       "2  62.0  80.0  1.010  2.0  3.0  normal    normal  notpresent  notpresent   \n",
       "3  48.0  70.0  1.005  4.0  0.0  normal  abnormal     present  notpresent   \n",
       "4  51.0  80.0  1.010  2.0  0.0  normal    normal  notpresent  notpresent   \n",
       "\n",
       "     bgr  ...   pcv    wbcc  rbcc  htn   dm  cad  appet   pe  ane class  \n",
       "0  121.0  ...  44.0  7800.0   5.2  yes  yes   no   good   no   no   ckd  \n",
       "1    NaN  ...  38.0  6000.0   NaN   no   no   no   good   no   no   ckd  \n",
       "2  423.0  ...  31.0  7500.0   NaN   no  yes   no   poor   no  yes   ckd  \n",
       "3  117.0  ...  32.0  6700.0   3.9  yes   no   no   poor  yes  yes   ckd  \n",
       "4  106.0  ...  35.0  7300.0   4.6   no   no   no   good   no   no   ckd  \n",
       "\n",
       "[5 rows x 25 columns]"
      ]
     },
     "execution_count": 4,
     "metadata": {},
     "output_type": "execute_result"
    }
   ],
   "source": [
    "df.head()"
   ]
  },
  {
   "cell_type": "code",
   "execution_count": 5,
   "metadata": {},
   "outputs": [
    {
     "data": {
      "text/plain": [
       "(400, 25)"
      ]
     },
     "execution_count": 5,
     "metadata": {},
     "output_type": "execute_result"
    }
   ],
   "source": [
    "df.shape"
   ]
  },
  {
   "cell_type": "code",
   "execution_count": 6,
   "metadata": {},
   "outputs": [],
   "source": [
    "# create dummy variable for all of object type variable. \n",
    "df_dummy = pd.get_dummies(df,drop_first=True)"
   ]
  },
  {
   "cell_type": "code",
   "execution_count": 7,
   "metadata": {
    "scrolled": true
   },
   "outputs": [
    {
     "data": {
      "text/html": [
       "<div>\n",
       "<style scoped>\n",
       "    .dataframe tbody tr th:only-of-type {\n",
       "        vertical-align: middle;\n",
       "    }\n",
       "\n",
       "    .dataframe tbody tr th {\n",
       "        vertical-align: top;\n",
       "    }\n",
       "\n",
       "    .dataframe thead th {\n",
       "        text-align: right;\n",
       "    }\n",
       "</style>\n",
       "<table border=\"1\" class=\"dataframe\">\n",
       "  <thead>\n",
       "    <tr style=\"text-align: right;\">\n",
       "      <th></th>\n",
       "      <th>age</th>\n",
       "      <th>bp</th>\n",
       "      <th>sg</th>\n",
       "      <th>al</th>\n",
       "      <th>su</th>\n",
       "      <th>bgr</th>\n",
       "      <th>bu</th>\n",
       "      <th>sc</th>\n",
       "      <th>sod</th>\n",
       "      <th>pot</th>\n",
       "      <th>...</th>\n",
       "      <th>pc_normal</th>\n",
       "      <th>pcc_present</th>\n",
       "      <th>ba_present</th>\n",
       "      <th>htn_yes</th>\n",
       "      <th>dm_yes</th>\n",
       "      <th>cad_yes</th>\n",
       "      <th>appet_poor</th>\n",
       "      <th>pe_yes</th>\n",
       "      <th>ane_yes</th>\n",
       "      <th>class_notckd</th>\n",
       "    </tr>\n",
       "  </thead>\n",
       "  <tbody>\n",
       "    <tr>\n",
       "      <th>0</th>\n",
       "      <td>48.0</td>\n",
       "      <td>80.0</td>\n",
       "      <td>1.020</td>\n",
       "      <td>1.0</td>\n",
       "      <td>0.0</td>\n",
       "      <td>121.0</td>\n",
       "      <td>36.0</td>\n",
       "      <td>1.2</td>\n",
       "      <td>NaN</td>\n",
       "      <td>NaN</td>\n",
       "      <td>...</td>\n",
       "      <td>1</td>\n",
       "      <td>0</td>\n",
       "      <td>0</td>\n",
       "      <td>1</td>\n",
       "      <td>1</td>\n",
       "      <td>0</td>\n",
       "      <td>0</td>\n",
       "      <td>0</td>\n",
       "      <td>0</td>\n",
       "      <td>0</td>\n",
       "    </tr>\n",
       "    <tr>\n",
       "      <th>1</th>\n",
       "      <td>7.0</td>\n",
       "      <td>50.0</td>\n",
       "      <td>1.020</td>\n",
       "      <td>4.0</td>\n",
       "      <td>0.0</td>\n",
       "      <td>NaN</td>\n",
       "      <td>18.0</td>\n",
       "      <td>0.8</td>\n",
       "      <td>NaN</td>\n",
       "      <td>NaN</td>\n",
       "      <td>...</td>\n",
       "      <td>1</td>\n",
       "      <td>0</td>\n",
       "      <td>0</td>\n",
       "      <td>0</td>\n",
       "      <td>0</td>\n",
       "      <td>0</td>\n",
       "      <td>0</td>\n",
       "      <td>0</td>\n",
       "      <td>0</td>\n",
       "      <td>0</td>\n",
       "    </tr>\n",
       "    <tr>\n",
       "      <th>2</th>\n",
       "      <td>62.0</td>\n",
       "      <td>80.0</td>\n",
       "      <td>1.010</td>\n",
       "      <td>2.0</td>\n",
       "      <td>3.0</td>\n",
       "      <td>423.0</td>\n",
       "      <td>53.0</td>\n",
       "      <td>1.8</td>\n",
       "      <td>NaN</td>\n",
       "      <td>NaN</td>\n",
       "      <td>...</td>\n",
       "      <td>1</td>\n",
       "      <td>0</td>\n",
       "      <td>0</td>\n",
       "      <td>0</td>\n",
       "      <td>1</td>\n",
       "      <td>0</td>\n",
       "      <td>1</td>\n",
       "      <td>0</td>\n",
       "      <td>1</td>\n",
       "      <td>0</td>\n",
       "    </tr>\n",
       "    <tr>\n",
       "      <th>3</th>\n",
       "      <td>48.0</td>\n",
       "      <td>70.0</td>\n",
       "      <td>1.005</td>\n",
       "      <td>4.0</td>\n",
       "      <td>0.0</td>\n",
       "      <td>117.0</td>\n",
       "      <td>56.0</td>\n",
       "      <td>3.8</td>\n",
       "      <td>111.0</td>\n",
       "      <td>2.5</td>\n",
       "      <td>...</td>\n",
       "      <td>0</td>\n",
       "      <td>1</td>\n",
       "      <td>0</td>\n",
       "      <td>1</td>\n",
       "      <td>0</td>\n",
       "      <td>0</td>\n",
       "      <td>1</td>\n",
       "      <td>1</td>\n",
       "      <td>1</td>\n",
       "      <td>0</td>\n",
       "    </tr>\n",
       "    <tr>\n",
       "      <th>4</th>\n",
       "      <td>51.0</td>\n",
       "      <td>80.0</td>\n",
       "      <td>1.010</td>\n",
       "      <td>2.0</td>\n",
       "      <td>0.0</td>\n",
       "      <td>106.0</td>\n",
       "      <td>26.0</td>\n",
       "      <td>1.4</td>\n",
       "      <td>NaN</td>\n",
       "      <td>NaN</td>\n",
       "      <td>...</td>\n",
       "      <td>1</td>\n",
       "      <td>0</td>\n",
       "      <td>0</td>\n",
       "      <td>0</td>\n",
       "      <td>0</td>\n",
       "      <td>0</td>\n",
       "      <td>0</td>\n",
       "      <td>0</td>\n",
       "      <td>0</td>\n",
       "      <td>0</td>\n",
       "    </tr>\n",
       "  </tbody>\n",
       "</table>\n",
       "<p>5 rows × 25 columns</p>\n",
       "</div>"
      ],
      "text/plain": [
       "    age    bp     sg   al   su    bgr    bu   sc    sod  pot  ...  pc_normal  \\\n",
       "0  48.0  80.0  1.020  1.0  0.0  121.0  36.0  1.2    NaN  NaN  ...          1   \n",
       "1   7.0  50.0  1.020  4.0  0.0    NaN  18.0  0.8    NaN  NaN  ...          1   \n",
       "2  62.0  80.0  1.010  2.0  3.0  423.0  53.0  1.8    NaN  NaN  ...          1   \n",
       "3  48.0  70.0  1.005  4.0  0.0  117.0  56.0  3.8  111.0  2.5  ...          0   \n",
       "4  51.0  80.0  1.010  2.0  0.0  106.0  26.0  1.4    NaN  NaN  ...          1   \n",
       "\n",
       "   pcc_present  ba_present  htn_yes  dm_yes  cad_yes  appet_poor  pe_yes  \\\n",
       "0            0           0        1       1        0           0       0   \n",
       "1            0           0        0       0        0           0       0   \n",
       "2            0           0        0       1        0           1       0   \n",
       "3            1           0        1       0        0           1       1   \n",
       "4            0           0        0       0        0           0       0   \n",
       "\n",
       "   ane_yes  class_notckd  \n",
       "0        0             0  \n",
       "1        0             0  \n",
       "2        1             0  \n",
       "3        1             0  \n",
       "4        0             0  \n",
       "\n",
       "[5 rows x 25 columns]"
      ]
     },
     "execution_count": 7,
     "metadata": {},
     "output_type": "execute_result"
    }
   ],
   "source": [
    "df_dummy.head()"
   ]
  },
  {
   "cell_type": "code",
   "execution_count": 8,
   "metadata": {},
   "outputs": [
    {
     "data": {
      "text/plain": [
       "(400, 25)"
      ]
     },
     "execution_count": 8,
     "metadata": {},
     "output_type": "execute_result"
    }
   ],
   "source": [
    "df_dummy.shape"
   ]
  },
  {
   "cell_type": "code",
   "execution_count": 9,
   "metadata": {
    "scrolled": true
   },
   "outputs": [
    {
     "data": {
      "text/plain": [
       "0    0.625\n",
       "1    0.375\n",
       "Name: class_notckd, dtype: float64"
      ]
     },
     "execution_count": 9,
     "metadata": {},
     "output_type": "execute_result"
    }
   ],
   "source": [
    "# The majority class of this data is people who are CKD, which is the baseline.\n",
    "df_dummy['class_notckd'].value_counts(normalize=True)"
   ]
  },
  {
   "cell_type": "markdown",
   "metadata": {},
   "source": [
    "## Feature engineering"
   ]
  },
  {
   "cell_type": "code",
   "execution_count": 10,
   "metadata": {},
   "outputs": [],
   "source": [
    "# Seeking the median difference values between the target classes in each features.\n",
    "\n",
    "class_feature = df_dummy.groupby('class_notckd').median().T\n",
    "class_feature['diff'] = abs(class_feature[0]-class_feature[1])"
   ]
  },
  {
   "cell_type": "code",
   "execution_count": 11,
   "metadata": {},
   "outputs": [
    {
     "data": {
      "text/html": [
       "<div>\n",
       "<style scoped>\n",
       "    .dataframe tbody tr th:only-of-type {\n",
       "        vertical-align: middle;\n",
       "    }\n",
       "\n",
       "    .dataframe tbody tr th {\n",
       "        vertical-align: top;\n",
       "    }\n",
       "\n",
       "    .dataframe thead th {\n",
       "        text-align: right;\n",
       "    }\n",
       "</style>\n",
       "<table border=\"1\" class=\"dataframe\">\n",
       "  <thead>\n",
       "    <tr style=\"text-align: right;\">\n",
       "      <th>class_notckd</th>\n",
       "      <th>0</th>\n",
       "      <th>1</th>\n",
       "      <th>diff</th>\n",
       "    </tr>\n",
       "  </thead>\n",
       "  <tbody>\n",
       "    <tr>\n",
       "      <th>wbcc</th>\n",
       "      <td>8800.00</td>\n",
       "      <td>7500.0</td>\n",
       "      <td>1300.00</td>\n",
       "    </tr>\n",
       "    <tr>\n",
       "      <th>bgr</th>\n",
       "      <td>143.50</td>\n",
       "      <td>107.5</td>\n",
       "      <td>36.00</td>\n",
       "    </tr>\n",
       "    <tr>\n",
       "      <th>bu</th>\n",
       "      <td>53.00</td>\n",
       "      <td>33.0</td>\n",
       "      <td>20.00</td>\n",
       "    </tr>\n",
       "    <tr>\n",
       "      <th>age</th>\n",
       "      <td>59.00</td>\n",
       "      <td>46.0</td>\n",
       "      <td>13.00</td>\n",
       "    </tr>\n",
       "    <tr>\n",
       "      <th>pcv</th>\n",
       "      <td>33.00</td>\n",
       "      <td>46.0</td>\n",
       "      <td>13.00</td>\n",
       "    </tr>\n",
       "    <tr>\n",
       "      <th>bp</th>\n",
       "      <td>80.00</td>\n",
       "      <td>70.0</td>\n",
       "      <td>10.00</td>\n",
       "    </tr>\n",
       "    <tr>\n",
       "      <th>sod</th>\n",
       "      <td>136.00</td>\n",
       "      <td>141.0</td>\n",
       "      <td>5.00</td>\n",
       "    </tr>\n",
       "    <tr>\n",
       "      <th>hemo</th>\n",
       "      <td>10.90</td>\n",
       "      <td>15.0</td>\n",
       "      <td>4.10</td>\n",
       "    </tr>\n",
       "    <tr>\n",
       "      <th>al</th>\n",
       "      <td>2.00</td>\n",
       "      <td>0.0</td>\n",
       "      <td>2.00</td>\n",
       "    </tr>\n",
       "    <tr>\n",
       "      <th>rbcc</th>\n",
       "      <td>3.90</td>\n",
       "      <td>5.3</td>\n",
       "      <td>1.40</td>\n",
       "    </tr>\n",
       "    <tr>\n",
       "      <th>sc</th>\n",
       "      <td>2.25</td>\n",
       "      <td>0.9</td>\n",
       "      <td>1.35</td>\n",
       "    </tr>\n",
       "    <tr>\n",
       "      <th>rbc_normal</th>\n",
       "      <td>0.00</td>\n",
       "      <td>1.0</td>\n",
       "      <td>1.00</td>\n",
       "    </tr>\n",
       "    <tr>\n",
       "      <th>pc_normal</th>\n",
       "      <td>0.00</td>\n",
       "      <td>1.0</td>\n",
       "      <td>1.00</td>\n",
       "    </tr>\n",
       "    <tr>\n",
       "      <th>htn_yes</th>\n",
       "      <td>1.00</td>\n",
       "      <td>0.0</td>\n",
       "      <td>1.00</td>\n",
       "    </tr>\n",
       "    <tr>\n",
       "      <th>dm_yes</th>\n",
       "      <td>1.00</td>\n",
       "      <td>0.0</td>\n",
       "      <td>1.00</td>\n",
       "    </tr>\n",
       "  </tbody>\n",
       "</table>\n",
       "</div>"
      ],
      "text/plain": [
       "class_notckd        0       1     diff\n",
       "wbcc          8800.00  7500.0  1300.00\n",
       "bgr            143.50   107.5    36.00\n",
       "bu              53.00    33.0    20.00\n",
       "age             59.00    46.0    13.00\n",
       "pcv             33.00    46.0    13.00\n",
       "bp              80.00    70.0    10.00\n",
       "sod            136.00   141.0     5.00\n",
       "hemo            10.90    15.0     4.10\n",
       "al               2.00     0.0     2.00\n",
       "rbcc             3.90     5.3     1.40\n",
       "sc               2.25     0.9     1.35\n",
       "rbc_normal       0.00     1.0     1.00\n",
       "pc_normal        0.00     1.0     1.00\n",
       "htn_yes          1.00     0.0     1.00\n",
       "dm_yes           1.00     0.0     1.00"
      ]
     },
     "execution_count": 11,
     "metadata": {},
     "output_type": "execute_result"
    }
   ],
   "source": [
    "# Sort only the median difference equal or more than 1\n",
    "class_feature[class_feature['diff'] >=1 ].sort_values(by='diff',ascending=False)"
   ]
  },
  {
   "cell_type": "code",
   "execution_count": 12,
   "metadata": {},
   "outputs": [
    {
     "data": {
      "text/plain": [
       "Index(['wbcc', 'bgr', 'bu', 'age', 'pcv', 'bp', 'sod', 'hemo', 'al', 'rbcc',\n",
       "       'sc', 'rbc_normal', 'pc_normal', 'htn_yes', 'dm_yes'],\n",
       "      dtype='object')"
      ]
     },
     "execution_count": 12,
     "metadata": {},
     "output_type": "execute_result"
    }
   ],
   "source": [
    "# List of features that have median difference equal or more than 1\n",
    "class_feature[class_feature['diff'] >=1 ].sort_values(by='diff',ascending=False).index"
   ]
  },
  {
   "cell_type": "code",
   "execution_count": 13,
   "metadata": {},
   "outputs": [
    {
     "data": {
      "text/html": [
       "<div>\n",
       "<style scoped>\n",
       "    .dataframe tbody tr th:only-of-type {\n",
       "        vertical-align: middle;\n",
       "    }\n",
       "\n",
       "    .dataframe tbody tr th {\n",
       "        vertical-align: top;\n",
       "    }\n",
       "\n",
       "    .dataframe thead th {\n",
       "        text-align: right;\n",
       "    }\n",
       "</style>\n",
       "<table border=\"1\" class=\"dataframe\">\n",
       "  <thead>\n",
       "    <tr style=\"text-align: right;\">\n",
       "      <th></th>\n",
       "      <th>class_notckd</th>\n",
       "    </tr>\n",
       "  </thead>\n",
       "  <tbody>\n",
       "    <tr>\n",
       "      <th>class_notckd</th>\n",
       "      <td>1.000000</td>\n",
       "    </tr>\n",
       "    <tr>\n",
       "      <th>hemo</th>\n",
       "      <td>0.768919</td>\n",
       "    </tr>\n",
       "    <tr>\n",
       "      <th>pcv</th>\n",
       "      <td>0.741427</td>\n",
       "    </tr>\n",
       "    <tr>\n",
       "      <th>sg</th>\n",
       "      <td>0.732163</td>\n",
       "    </tr>\n",
       "    <tr>\n",
       "      <th>rbcc</th>\n",
       "      <td>0.699089</td>\n",
       "    </tr>\n",
       "    <tr>\n",
       "      <th>rbc_normal</th>\n",
       "      <td>0.677781</td>\n",
       "    </tr>\n",
       "    <tr>\n",
       "      <th>pc_normal</th>\n",
       "      <td>0.474244</td>\n",
       "    </tr>\n",
       "    <tr>\n",
       "      <th>sod</th>\n",
       "      <td>0.375674</td>\n",
       "    </tr>\n",
       "    <tr>\n",
       "      <th>pot</th>\n",
       "      <td>-0.084541</td>\n",
       "    </tr>\n",
       "    <tr>\n",
       "      <th>ba_present</th>\n",
       "      <td>-0.186871</td>\n",
       "    </tr>\n",
       "    <tr>\n",
       "      <th>age</th>\n",
       "      <td>-0.227268</td>\n",
       "    </tr>\n",
       "    <tr>\n",
       "      <th>wbcc</th>\n",
       "      <td>-0.231919</td>\n",
       "    </tr>\n",
       "    <tr>\n",
       "      <th>cad_yes</th>\n",
       "      <td>-0.236088</td>\n",
       "    </tr>\n",
       "    <tr>\n",
       "      <th>pcc_present</th>\n",
       "      <td>-0.265313</td>\n",
       "    </tr>\n",
       "    <tr>\n",
       "      <th>bp</th>\n",
       "      <td>-0.294077</td>\n",
       "    </tr>\n",
       "    <tr>\n",
       "      <th>sc</th>\n",
       "      <td>-0.299969</td>\n",
       "    </tr>\n",
       "    <tr>\n",
       "      <th>ane_yes</th>\n",
       "      <td>-0.325396</td>\n",
       "    </tr>\n",
       "    <tr>\n",
       "      <th>su</th>\n",
       "      <td>-0.344070</td>\n",
       "    </tr>\n",
       "    <tr>\n",
       "      <th>pe_yes</th>\n",
       "      <td>-0.375154</td>\n",
       "    </tr>\n",
       "    <tr>\n",
       "      <th>bu</th>\n",
       "      <td>-0.380605</td>\n",
       "    </tr>\n",
       "    <tr>\n",
       "      <th>appet_poor</th>\n",
       "      <td>-0.393341</td>\n",
       "    </tr>\n",
       "    <tr>\n",
       "      <th>bgr</th>\n",
       "      <td>-0.419672</td>\n",
       "    </tr>\n",
       "    <tr>\n",
       "      <th>dm_yes</th>\n",
       "      <td>-0.559060</td>\n",
       "    </tr>\n",
       "    <tr>\n",
       "      <th>htn_yes</th>\n",
       "      <td>-0.590438</td>\n",
       "    </tr>\n",
       "    <tr>\n",
       "      <th>al</th>\n",
       "      <td>-0.627090</td>\n",
       "    </tr>\n",
       "  </tbody>\n",
       "</table>\n",
       "</div>"
      ],
      "text/plain": [
       "              class_notckd\n",
       "class_notckd      1.000000\n",
       "hemo              0.768919\n",
       "pcv               0.741427\n",
       "sg                0.732163\n",
       "rbcc              0.699089\n",
       "rbc_normal        0.677781\n",
       "pc_normal         0.474244\n",
       "sod               0.375674\n",
       "pot              -0.084541\n",
       "ba_present       -0.186871\n",
       "age              -0.227268\n",
       "wbcc             -0.231919\n",
       "cad_yes          -0.236088\n",
       "pcc_present      -0.265313\n",
       "bp               -0.294077\n",
       "sc               -0.299969\n",
       "ane_yes          -0.325396\n",
       "su               -0.344070\n",
       "pe_yes           -0.375154\n",
       "bu               -0.380605\n",
       "appet_poor       -0.393341\n",
       "bgr              -0.419672\n",
       "dm_yes           -0.559060\n",
       "htn_yes          -0.590438\n",
       "al               -0.627090"
      ]
     },
     "execution_count": 13,
     "metadata": {},
     "output_type": "execute_result"
    }
   ],
   "source": [
    "# Seeking the correlation of all features\n",
    "df_dummy.corr()[['class_notckd']].sort_values(by='class_notckd',ascending=False)"
   ]
  },
  {
   "cell_type": "code",
   "execution_count": 14,
   "metadata": {
    "scrolled": true
   },
   "outputs": [
    {
     "data": {
      "image/png": "[encoded data removed]",
      "text/plain": [
       "<Figure size 1440x720 with 25 Axes>"
      ]
     },
     "metadata": {
      "needs_background": "light"
     },
     "output_type": "display_data"
    }
   ],
   "source": [
    "# Seeking in the overview sight. \n",
    "# Not seeing much different.\n",
    "fig ,ax = plt.subplots(figsize=(20,10))\n",
    "df_dummy.drop(columns='wbcc').boxplot(by='class_notckd',ax = ax);"
   ]
  },
  {
   "cell_type": "code",
   "execution_count": 15,
   "metadata": {
    "scrolled": true
   },
   "outputs": [
    {
     "data": {
      "text/plain": [
       "<AxesSubplot: xlabel='class_notckd', ylabel='al'>"
      ]
     },
     "execution_count": 15,
     "metadata": {},
     "output_type": "execute_result"
    },
    {
     "data": {
      "image/png": "[encoded data removed]",
      "text/plain": [
       "<Figure size 432x288 with 1 Axes>"
      ]
     },
     "metadata": {
      "needs_background": "light"
     },
     "output_type": "display_data"
    }
   ],
   "source": [
    "# Scope in 'albumin' feature, we see significant difference\n",
    "sns.boxplot(df_dummy['class_notckd'],df_dummy['al'])"
   ]
  },
  {
   "cell_type": "markdown",
   "metadata": {},
   "source": [
    "### 2. Check out the data dictionary. What are a few features or relationships you might be interested in checking out?"
   ]
  },
  {
   "cell_type": "markdown",
   "metadata": {},
   "source": [
    "### Feature selection from correlation and median differences"
   ]
  },
  {
   "cell_type": "markdown",
   "metadata": {},
   "source": [
    "- From correlation : \n",
    "'hemo', 'pcv', 'sg', 'rbcc', 'rbc_normal', 'pc_normal','bgr','dm_yes', 'htn_yes', 'al','e_yes','sod','bu','appet_poor'\n",
    "- From mean diff :\n",
    "'wbcc', 'bgr', 'bu', 'age', 'pcv', 'bp', 'sod', 'hemo', 'al', 'rbcc','sc', 'rbc_normal', 'pc_normal', 'htn_yes', 'dm_yes'\n",
    "\n",
    "#### the intersect\n",
    "- `'hemo','pcv','rbcc','rbc_normal','pc_normal','dm_yes','htn_yes','al','sod','bu'`"
   ]
  },
  {
   "cell_type": "markdown",
   "metadata": {},
   "source": [
    "Answer:\n",
    "'hemo','pcv','rbcc','rbc_normal','pc_normal','dm_yes','htn_yes','al','sod','bu'\n",
    "\n",
    "al : chronic kidney disease (CKD) patients with a low serum albumin have an increased risk for reaching kidney failue"
   ]
  },
  {
   "cell_type": "markdown",
   "metadata": {},
   "source": [
    "---\n",
    "\n",
    "## Step 3: Explore the data.\n",
    "\n",
    "### 3. How much of the data is missing from each column?"
   ]
  },
  {
   "cell_type": "code",
   "execution_count": 16,
   "metadata": {},
   "outputs": [
    {
     "data": {
      "text/plain": [
       "class      0\n",
       "pe         1\n",
       "appet      1\n",
       "ane        1\n",
       "cad        2\n",
       "dm         2\n",
       "htn        2\n",
       "pcc        4\n",
       "ba         4\n",
       "age        9\n",
       "bp        12\n",
       "sc        17\n",
       "bu        19\n",
       "bgr       44\n",
       "al        46\n",
       "sg        47\n",
       "su        49\n",
       "hemo      52\n",
       "pc        65\n",
       "pcv       71\n",
       "sod       87\n",
       "pot       88\n",
       "wbcc     106\n",
       "rbcc     131\n",
       "rbc      152\n",
       "dtype: int64"
      ]
     },
     "execution_count": 16,
     "metadata": {},
     "output_type": "execute_result"
    }
   ],
   "source": [
    "# The original data\n",
    "df.isnull().sum().sort_values()"
   ]
  },
  {
   "cell_type": "code",
   "execution_count": 17,
   "metadata": {},
   "outputs": [
    {
     "data": {
      "text/plain": [
       "rbc_normal        0\n",
       "pc_normal         0\n",
       "dm_yes            0\n",
       "htn_yes           0\n",
       "class_notckd      0\n",
       "bu               19\n",
       "al               46\n",
       "hemo             52\n",
       "pcv              71\n",
       "sod              87\n",
       "rbcc            131\n",
       "dtype: int64"
      ]
     },
     "execution_count": 17,
     "metadata": {},
     "output_type": "execute_result"
    }
   ],
   "source": [
    "# The selected features data\n",
    "df_dummy[['hemo','pcv','rbcc','rbc_normal','pc_normal','dm_yes','htn_yes','al','sod','bu','class_notckd']].isnull().sum().sort_values()"
   ]
  },
  {
   "cell_type": "code",
   "execution_count": 18,
   "metadata": {
    "scrolled": true
   },
   "outputs": [
    {
     "data": {
      "image/png": "[encoded data removed]",
      "text/plain": [
       "<Figure size 1080x360 with 10 Axes>"
      ]
     },
     "metadata": {
      "needs_background": "light"
     },
     "output_type": "display_data"
    }
   ],
   "source": [
    "# Visualization the distribution in each features.\n",
    "# Find the optimal value to fill the missing values in each feature.\n",
    "\n",
    "fig,ax = plt.subplots(2,5,figsize=(15,5))\n",
    "for col,item in zip(['hemo','pcv','rbcc','rbc_normal','pc_normal','dm_yes','htn_yes','al','sod','bu'],ax.ravel()):\n",
    "    item.hist(df_dummy[col])\n",
    "    item.axvline(df_dummy[col].mean() ,color='r') # mean\n",
    "    item.axvline(df_dummy[col].median() ,color='b') #median\n",
    "    "
   ]
  },
  {
   "cell_type": "code",
   "execution_count": 19,
   "metadata": {},
   "outputs": [],
   "source": [
    "for col in ['hemo','pcv','rbcc','rbc_normal','pc_normal','dm_yes','htn_yes','al','sod','bu']:\n",
    "    df_dummy[col].fillna(df_dummy[col].median(),inplace=True)\n",
    "    \n",
    "# All features may use median to fill the missing values."
   ]
  },
  {
   "cell_type": "code",
   "execution_count": 119,
   "metadata": {},
   "outputs": [
    {
     "name": "stdout",
     "output_type": "stream",
     "text": [
      "-------------------- people with NON - CKD --------------------\n",
      "    count  mean       std  min  25%  50%  75%  max\n",
      "al  250.0  1.44  1.407952  0.0  0.0  1.0  3.0  5.0\n",
      "\n",
      "\n",
      "-------------------- people with CKD --------------------\n",
      "    count  mean  std  min  25%  50%  75%  max\n",
      "al  150.0   0.0  0.0  0.0  0.0  0.0  0.0  0.0\n"
     ]
    }
   ],
   "source": [
    "print('-------------------- people with NON - CKD --------------------')\n",
    "print(df_dummy[df_dummy.class_notckd==0][['al']].describe().T)\n",
    "print('\\n\\n-------------------- people with CKD --------------------')\n",
    "print(df_dummy[df_dummy.class_notckd==1][['al']].describe().T)\n",
    "\n",
    "\n",
    "# As you can see the al feature has significant difference of mean between NON-CKD and CKD person."
   ]
  },
  {
   "cell_type": "markdown",
   "metadata": {},
   "source": [
    "### 4. Suppose that I dropped every row that contained at least one missing value. (In the context of analysis with missing data, we call this a \"complete case analysis,\" because we keep only the complete cases!) How many rows would remain in our dataframe? What are at least two downsides to doing this?"
   ]
  },
  {
   "cell_type": "markdown",
   "metadata": {},
   "source": [
    "Answer: The data will remain 158 rows. \n",
    "\n",
    "1. The first downside of doing this is the sample size of training the model will decreased, so it would make the reliability of the model low .\n",
    "\n",
    "2. The Second downside is it will cause the higher of imbalance scenario"
   ]
  },
  {
   "cell_type": "markdown",
   "metadata": {},
   "source": [
    "### 5. Thinking critically about how our data were gathered, it's likely that these records were gathered by doctors and nurses. Brainstorm three potential areas (in addition to the missing data we've already discussed) where this data might be inaccurate or imprecise."
   ]
  },
  {
   "cell_type": "code",
   "execution_count": 20,
   "metadata": {},
   "outputs": [
    {
     "data": {
      "text/plain": [
       "class   rbc     \n",
       "ckd     NaN         143\n",
       "        normal       60\n",
       "        abnormal     47\n",
       "notckd  normal      141\n",
       "        NaN           9\n",
       "Name: rbc, dtype: int64"
      ]
     },
     "execution_count": 20,
     "metadata": {},
     "output_type": "execute_result"
    }
   ],
   "source": [
    "df.groupby('class')['rbc'].value_counts(dropna=False)"
   ]
  },
  {
   "cell_type": "markdown",
   "metadata": {},
   "source": [
    "Answer: \n",
    "- Assume that doctors and nurses are professional and experienced\n",
    "1. The higher of missing values mean not important to diagnose the disease, so the patients that have shown obvious symptom of CKD doctors might not searching a lot of  things. That make some of data loss.\n",
    "2. The doctors prefer to use the urine test before blood test. As you can see from above the NaN values of rbc in CKD patients loss much than notckd patients. This mean that doctor has diagnose the patient to be ckd before testing the number of blood cell.\n",
    "3. It's the privilege of patients. Some process need to working on patients body e.g. measuring the blood cell.\n",
    "\n"
   ]
  },
  {
   "cell_type": "markdown",
   "metadata": {},
   "source": [
    "---\n",
    "\n",
    "## Step 4: Model the data.\n",
    "\n",
    "### 6. Suppose that I want to construct a model where no person who has chronic kidney disease (CKD) will ever be told that they do not have CKD. What (very simple, no machine learning needed) model can I create that will never tell a person with CKD that they do not have CKD?\n",
    "\n",
    "> Hint: Don't think about `statsmodels` or `scikit-learn` here."
   ]
  },
  {
   "cell_type": "markdown",
   "metadata": {},
   "source": [
    "Answer: \n",
    "\n",
    "For the classification problem, we need to defin what we want to observe. \n",
    "- Let person with CKD = 1 (positive), and person without CKD = 0 (negative)\n",
    "\n",
    "From the confusion matrix to evaluate the model, if we want the model to predict 100% correct (person with CKD, will\n",
    "always be told to be CKD). This mean we would like to the number of predicting false in person who has CKD, which state as False negative 'FN' in confusion matrix.\n",
    "\n",
    "Everything has tradeoff, when reducing the 'FN' by adjusting the thresehold or optimization the model there will be increased in opposite term which is Fasle positive 'FP'.\n",
    "\n",
    "Thus, if the increasing of 'FP' mean that the model predicting a lot of false in positive case, in other word is the model tell every suspected person to be CKD, no matter the person is CKD or not. "
   ]
  },
  {
   "cell_type": "markdown",
   "metadata": {},
   "source": [
    "### 7. In problem 6, what common classification metric did we optimize for? Did we minimize false positives or negatives?"
   ]
  },
  {
   "cell_type": "markdown",
   "metadata": {},
   "source": [
    "Answer: Confusion matrix, we minimize the false negative"
   ]
  },
  {
   "cell_type": "markdown",
   "metadata": {},
   "source": [
    "### 8. Thinking ethically, what is at least one disadvantage to the model you described in problem 6?"
   ]
  },
  {
   "cell_type": "markdown",
   "metadata": {},
   "source": [
    "Answer: The disvantage is the person who got wrong CKD result will got an high anxiety and may cause in health effect in the long term."
   ]
  },
  {
   "cell_type": "markdown",
   "metadata": {},
   "source": [
    "### 9. Suppose that I want to construct a model where a person who does not have CKD will ever be told that they do have CKD. What (very simple, no machine learning needed) model can I create that will accomplish this?"
   ]
  },
  {
   "cell_type": "markdown",
   "metadata": {},
   "source": [
    "Answer: This model is conversely from the problem6. The model tend to reduce False positive, in other word is we want to tell all of people who don't have CKD 100% corrected. So, the reducing in False positive will increase the False negative."
   ]
  },
  {
   "cell_type": "markdown",
   "metadata": {},
   "source": [
    "### 10. In problem 9, what common classification metric did we optimize for? Did we minimize false positives or negatives?"
   ]
  },
  {
   "cell_type": "markdown",
   "metadata": {},
   "source": [
    "Answer: confusion matrix, we minimize false positive (maximizing specificity)"
   ]
  },
  {
   "cell_type": "markdown",
   "metadata": {},
   "source": [
    "### 11. Thinking ethically, what is at least one disadvantage to the model you described in problem 9?"
   ]
  },
  {
   "cell_type": "markdown",
   "metadata": {},
   "source": [
    "Answer: The disadvantage is there will be increased of number of person who has CKD but didn't diagnose and treat by doctors and that will lead to death of a bunch of people."
   ]
  },
  {
   "cell_type": "markdown",
   "metadata": {},
   "source": [
    "### 12. Construct a logistic regression model in `sklearn` predicting class from the other variables. You may scale, select/drop, and engineer features as you wish - build a good model! Make sure, however, that you include at least one categorical/dummy feature and at least one quantitative feature.\n",
    "\n",
    "> Hint: Remember to do a train/test split!"
   ]
  },
  {
   "cell_type": "code",
   "execution_count": 126,
   "metadata": {},
   "outputs": [
    {
     "name": "stdout",
     "output_type": "stream",
     "text": [
      "Train: 0.99\n",
      "Test: 0.98\n"
     ]
    }
   ],
   "source": [
    "# Set X,y\n",
    "X_full = df_dummy[['hemo','pcv','rbcc','rbc_normal','pc_normal','dm_yes','htn_yes','sod']]\n",
    "y_full = df_dummy['class_notckd']\n",
    "\n",
    "# split data \n",
    "X_full_train,X_full_test,y_full_train,y_full_test = train_test_split(X_full,y_full,random_state=42)\n",
    "\n",
    "# Instantiate\n",
    "logreg_full = LogisticRegression(penalty = 'none')\n",
    "# Fit\n",
    "logreg_full.fit(X_full_train,y_full_train)\n",
    "# Predict\n",
    "preds_full = logreg_full.predict(X_full_test)\n",
    "\n",
    "print(f'Train: {logreg_full.score(X_full_train,y_full_train)}')\n",
    "print(f'Test: {logreg_full.score(X_full_test,y_full_test)}')\n",
    "# Very great accuracy model"
   ]
  },
  {
   "cell_type": "code",
   "execution_count": 129,
   "metadata": {},
   "outputs": [],
   "source": [
    "# Let's see what if take out 2 correlated coefficients"
   ]
  },
  {
   "cell_type": "code",
   "execution_count": 130,
   "metadata": {},
   "outputs": [],
   "source": [
    "# Set X,y and split\n",
    "X = df_dummy[['hemo','pcv','rbcc','rbc_normal','pc_normal','dm_yes']]\n",
    "y = df_dummy['class_notckd']\n",
    "X_train,X_test,y_train,y_test = train_test_split(X,y,random_state=42)"
   ]
  },
  {
   "cell_type": "code",
   "execution_count": 131,
   "metadata": {},
   "outputs": [
    {
     "data": {
      "text/plain": [
       "((300, 6), (100, 6), (300,), (100,))"
      ]
     },
     "execution_count": 131,
     "metadata": {},
     "output_type": "execute_result"
    }
   ],
   "source": [
    "# check shape\n",
    "X_train.shape,X_test.shape,y_train.shape,y_test.shape"
   ]
  },
  {
   "cell_type": "code",
   "execution_count": 132,
   "metadata": {},
   "outputs": [
    {
     "name": "stdout",
     "output_type": "stream",
     "text": [
      "Train: 0.9866666666666667\n",
      "Test: 0.98\n"
     ]
    }
   ],
   "source": [
    "# Instantiate\n",
    "logreg = LogisticRegression(penalty = 'none')\n",
    "# Fit\n",
    "logreg.fit(X_train,y_train)\n",
    "# Predict\n",
    "preds = logreg.predict(X_test)\n",
    "# Score\n",
    "print(f'Train: {logreg.score(X_train,y_train)}')\n",
    "print(f'Test: {logreg.score(X_test,y_test)}')\n",
    "\n",
    "# lower the variance of the model a bit."
   ]
  },
  {
   "cell_type": "markdown",
   "metadata": {},
   "source": [
    "---\n",
    "\n",
    "## Step 5: Evaluate the model.\n",
    "\n",
    "### 13. Based on your logistic regression model constructed in problem 12, interpret the coefficient of one of your quantitative features."
   ]
  },
  {
   "cell_type": "code",
   "execution_count": 133,
   "metadata": {},
   "outputs": [],
   "source": [
    "logreg_coef = pd.DataFrame(logreg_full.coef_,columns=logreg_full.feature_names_in_).T"
   ]
  },
  {
   "cell_type": "code",
   "execution_count": 263,
   "metadata": {},
   "outputs": [
    {
     "data": {
      "text/html": [
       "<div>\n",
       "<style scoped>\n",
       "    .dataframe tbody tr th:only-of-type {\n",
       "        vertical-align: middle;\n",
       "    }\n",
       "\n",
       "    .dataframe tbody tr th {\n",
       "        vertical-align: top;\n",
       "    }\n",
       "\n",
       "    .dataframe thead th {\n",
       "        text-align: right;\n",
       "    }\n",
       "</style>\n",
       "<table border=\"1\" class=\"dataframe\">\n",
       "  <thead>\n",
       "    <tr style=\"text-align: right;\">\n",
       "      <th></th>\n",
       "      <th>coefficient</th>\n",
       "    </tr>\n",
       "  </thead>\n",
       "  <tbody>\n",
       "    <tr>\n",
       "      <th>hemo</th>\n",
       "      <td>29.48</td>\n",
       "    </tr>\n",
       "    <tr>\n",
       "      <th>pcv</th>\n",
       "      <td>1.06</td>\n",
       "    </tr>\n",
       "    <tr>\n",
       "      <th>rbcc</th>\n",
       "      <td>19.32</td>\n",
       "    </tr>\n",
       "    <tr>\n",
       "      <th>rbc_normal</th>\n",
       "      <td>19551.21</td>\n",
       "    </tr>\n",
       "    <tr>\n",
       "      <th>pc_normal</th>\n",
       "      <td>2.93</td>\n",
       "    </tr>\n",
       "    <tr>\n",
       "      <th>dm_yes</th>\n",
       "      <td>0.00</td>\n",
       "    </tr>\n",
       "    <tr>\n",
       "      <th>htn_yes</th>\n",
       "      <td>0.00</td>\n",
       "    </tr>\n",
       "    <tr>\n",
       "      <th>sod</th>\n",
       "      <td>1.04</td>\n",
       "    </tr>\n",
       "  </tbody>\n",
       "</table>\n",
       "</div>"
      ],
      "text/plain": [
       "            coefficient\n",
       "hemo              29.48\n",
       "pcv                1.06\n",
       "rbcc              19.32\n",
       "rbc_normal     19551.21\n",
       "pc_normal          2.93\n",
       "dm_yes             0.00\n",
       "htn_yes            0.00\n",
       "sod                1.04"
      ]
     },
     "execution_count": 263,
     "metadata": {},
     "output_type": "execute_result"
    }
   ],
   "source": [
    "logreg_coef.rename(columns={0:'coefficient'},inplace=True)\n",
    "logreg_coef.sort_values(by='coefficient')\n",
    "# take exponent to make it easy to interpret\n",
    "np.exp(logreg_coef).round(2)"
   ]
  },
  {
   "cell_type": "markdown",
   "metadata": {},
   "source": [
    "- hemo : The higher in hemoglobin may indicate to the higher rate not to be CKD.\n",
    "- As hemo increased by 1, the person is about 178.2 times as likely to not being CKD."
   ]
  },
  {
   "cell_type": "markdown",
   "metadata": {},
   "source": [
    "### 14. Based on your logistic regression model constructed in problem 12, interpret the coefficient of one of your categorical/dummy features."
   ]
  },
  {
   "cell_type": "markdown",
   "metadata": {
    "collapsed": true
   },
   "source": [
    "- htn_yes : The higher of hypertension, the higher rate to be CDK. The coefficient said that if the person with no hypertension will lead to not being CDK.\n",
    "    \n",
    "When your blood pressure decreases it indicates that there is a change in blood flow throughout the body. \n",
    "A change in blood flow can cause a serious problems with the kidneys because there is a dramatic decrease in blood flow to the kidneys."
   ]
  },
  {
   "cell_type": "markdown",
   "metadata": {},
   "source": [
    "### 15. Despite being a relatively simple model, logistic regression is very widely used in the real world. Why do you think that's the case? Name at least two advantages to using logistic regression as a modeling technique."
   ]
  },
  {
   "cell_type": "markdown",
   "metadata": {},
   "source": [
    "Answer:\n",
    "\n",
    "1. logistic regression is parametic model, which has coefficient to explain the scenarios that happen with the target variable\n",
    "2. logistic regression has no assumption like LINEM, so it is easy to use."
   ]
  },
  {
   "cell_type": "markdown",
   "metadata": {},
   "source": [
    "### 16. Does it make sense to generate a confusion matrix on our training data or our test data? Why? Generate it on the proper data.\n",
    "\n",
    "> Hint: Once you've generated your predicted $y$ values and you have your observed $y$ values, then it will be easy to [generate a confusion matrix using sklearn](http://scikit-learn.org/stable/modules/generated/sklearn.metrics.confusion_matrix.html)."
   ]
  },
  {
   "cell_type": "markdown",
   "metadata": {},
   "source": [
    "- We have to generate the confusion matrix on test data, because the purpose of doing this is to evaluate the model. So, we want to see the performance of model working on 'Unseen data' which is test data."
   ]
  },
  {
   "cell_type": "code",
   "execution_count": 192,
   "metadata": {},
   "outputs": [
    {
     "name": "stdout",
     "output_type": "stream",
     "text": [
      "              precision    recall  f1-score   support\n",
      "\n",
      "           0       0.98      0.98      0.98        65\n",
      "           1       0.97      0.97      0.97        35\n",
      "\n",
      "    accuracy                           0.98       100\n",
      "   macro avg       0.98      0.98      0.98       100\n",
      "weighted avg       0.98      0.98      0.98       100\n",
      "\n"
     ]
    },
    {
     "data": {
      "image/png": "[encoded data removed]",
      "text/plain": [
       "<Figure size 432x288 with 2 Axes>"
      ]
     },
     "metadata": {
      "needs_background": "light"
     },
     "output_type": "display_data"
    }
   ],
   "source": [
    "plot_confusion_matrix(logreg_full,X_full_test,y_full_test,display_labels=['CKD','NOT-CKD'],cmap='bone')\n",
    "print(metrics.classification_report(y_full_test,preds_full))"
   ]
  },
  {
   "cell_type": "code",
   "execution_count": 138,
   "metadata": {},
   "outputs": [
    {
     "name": "stdout",
     "output_type": "stream",
     "text": [
      "              precision    recall  f1-score   support\n",
      "\n",
      "           0       0.98      0.98      0.98        65\n",
      "           1       0.97      0.97      0.97        35\n",
      "\n",
      "    accuracy                           0.98       100\n",
      "   macro avg       0.98      0.98      0.98       100\n",
      "weighted avg       0.98      0.98      0.98       100\n",
      "\n"
     ]
    },
    {
     "data": {
      "image/png": "[encoded data removed]",
      "text/plain": [
       "<Figure size 432x288 with 2 Axes>"
      ]
     },
     "metadata": {
      "needs_background": "light"
     },
     "output_type": "display_data"
    }
   ],
   "source": [
    "plot_confusion_matrix(logreg,X_test,y_test,display_labels=['CKD','NOT-CKD'],cmap='bone')\n",
    "print(metrics.classification_report(y_test,preds))"
   ]
  },
  {
   "cell_type": "code",
   "execution_count": null,
   "metadata": {},
   "outputs": [],
   "source": [
    "# Two model are perform equally."
   ]
  },
  {
   "cell_type": "markdown",
   "metadata": {},
   "source": [
    "### 17. In this hospital case, we want to predict CKD. Do we want to optimize for sensitivity, specificity, or something else? Why? (If you don't think there's one clear answer, that's okay! There rarely is. Be sure to defend your conclusion!)"
   ]
  },
  {
   "cell_type": "markdown",
   "metadata": {},
   "source": [
    "Answer: In this model, we need to optimize sensitivity. Because, we want to predict all of the person with CKD. \n",
    "So the increase in sensitity will less on the False negative which mean lower on predicting fail CKD person.\n"
   ]
  },
  {
   "cell_type": "markdown",
   "metadata": {},
   "source": [
    "### 18 (BONUS). Write a function that will create an ROC curve for you, then plot the ROC curve.\n",
    "\n",
    "Here's a strategy you might consider:\n",
    "1. In order to even begin, you'll need some fit model. Use your logistic regression model from problem 12.\n",
    "2. We want to look at all values of your \"threshold\" - that is, anything where .predict() gives you above your threshold falls in the \"positive class,\" and anything that is below your threshold falls in the \"negative class.\" Start the threshold at 0.\n",
    "3. At this value of your threshold, calculate the sensitivity and specificity. Store these values.\n",
    "4. Increment your threshold by some \"step.\" Maybe set your step to be 0.01, or even smaller.\n",
    "5. At this value of your threshold, calculate the sensitivity and specificity. Store these values.\n",
    "6. Repeat steps 3 and 4 until you get to the threshold of 1.\n",
    "7. Plot the values of sensitivity and 1 - specificity."
   ]
  },
  {
   "cell_type": "code",
   "execution_count": 139,
   "metadata": {},
   "outputs": [],
   "source": [
    "# Predict the prob. from test data - first model\n",
    "prob_pred_full = logreg_full.predict_proba(X_full_test)\n",
    "\n",
    "# Predict the prob. from test data - second model\n",
    "prob_pred = logreg.predict_proba(X_test)"
   ]
  },
  {
   "cell_type": "code",
   "execution_count": 140,
   "metadata": {},
   "outputs": [],
   "source": [
    "# create data frame prob class with the column of CKD and non CKD\n",
    "prob_class = pd.DataFrame(data = prob_pred_full,columns=['prob_CKD_full','prob_NOT_CKD_full'])"
   ]
  },
  {
   "cell_type": "code",
   "execution_count": 141,
   "metadata": {},
   "outputs": [],
   "source": [
    "prob_class[['prob_CKD','prob_NOT_CKD']] = prob_pred"
   ]
  },
  {
   "cell_type": "code",
   "execution_count": 142,
   "metadata": {},
   "outputs": [],
   "source": [
    "# create new column of real results of patient \n",
    "prob_class['true_not_ckd'] = y_full_test"
   ]
  },
  {
   "cell_type": "code",
   "execution_count": 143,
   "metadata": {},
   "outputs": [],
   "source": [
    "# 1 are missing. fill missing values in new column\n",
    "prob_class['true_not_ckd'].fillna(1,inplace=True)"
   ]
  },
  {
   "cell_type": "code",
   "execution_count": 144,
   "metadata": {},
   "outputs": [
    {
     "data": {
      "text/html": [
       "<div>\n",
       "<style scoped>\n",
       "    .dataframe tbody tr th:only-of-type {\n",
       "        vertical-align: middle;\n",
       "    }\n",
       "\n",
       "    .dataframe tbody tr th {\n",
       "        vertical-align: top;\n",
       "    }\n",
       "\n",
       "    .dataframe thead th {\n",
       "        text-align: right;\n",
       "    }\n",
       "</style>\n",
       "<table border=\"1\" class=\"dataframe\">\n",
       "  <thead>\n",
       "    <tr style=\"text-align: right;\">\n",
       "      <th></th>\n",
       "      <th>prob_CKD_full</th>\n",
       "      <th>prob_NOT_CKD_full</th>\n",
       "      <th>prob_CKD</th>\n",
       "      <th>prob_NOT_CKD</th>\n",
       "      <th>true_not_ckd</th>\n",
       "    </tr>\n",
       "  </thead>\n",
       "  <tbody>\n",
       "    <tr>\n",
       "      <th>0</th>\n",
       "      <td>0.999999</td>\n",
       "      <td>1.315330e-06</td>\n",
       "      <td>1.000000</td>\n",
       "      <td>4.149877e-07</td>\n",
       "      <td>0.0</td>\n",
       "    </tr>\n",
       "    <tr>\n",
       "      <th>1</th>\n",
       "      <td>0.998368</td>\n",
       "      <td>1.632097e-03</td>\n",
       "      <td>0.990268</td>\n",
       "      <td>9.732362e-03</td>\n",
       "      <td>1.0</td>\n",
       "    </tr>\n",
       "    <tr>\n",
       "      <th>2</th>\n",
       "      <td>1.000000</td>\n",
       "      <td>3.096551e-46</td>\n",
       "      <td>1.000000</td>\n",
       "      <td>5.630384e-11</td>\n",
       "      <td>1.0</td>\n",
       "    </tr>\n",
       "    <tr>\n",
       "      <th>3</th>\n",
       "      <td>1.000000</td>\n",
       "      <td>5.937326e-83</td>\n",
       "      <td>1.000000</td>\n",
       "      <td>1.561445e-37</td>\n",
       "      <td>0.0</td>\n",
       "    </tr>\n",
       "    <tr>\n",
       "      <th>4</th>\n",
       "      <td>1.000000</td>\n",
       "      <td>1.746812e-85</td>\n",
       "      <td>1.000000</td>\n",
       "      <td>2.031644e-38</td>\n",
       "      <td>1.0</td>\n",
       "    </tr>\n",
       "  </tbody>\n",
       "</table>\n",
       "</div>"
      ],
      "text/plain": [
       "   prob_CKD_full  prob_NOT_CKD_full  prob_CKD  prob_NOT_CKD  true_not_ckd\n",
       "0       0.999999       1.315330e-06  1.000000  4.149877e-07           0.0\n",
       "1       0.998368       1.632097e-03  0.990268  9.732362e-03           1.0\n",
       "2       1.000000       3.096551e-46  1.000000  5.630384e-11           1.0\n",
       "3       1.000000       5.937326e-83  1.000000  1.561445e-37           0.0\n",
       "4       1.000000       1.746812e-85  1.000000  2.031644e-38           1.0"
      ]
     },
     "execution_count": 144,
     "metadata": {},
     "output_type": "execute_result"
    }
   ],
   "source": [
    "prob_class.head()"
   ]
  },
  {
   "cell_type": "code",
   "execution_count": 145,
   "metadata": {},
   "outputs": [],
   "source": [
    "# set threshold at 0\n",
    "# if the prob. of predicting is more than 0 it will result in not CKD\n",
    "thres_full  = [1 if x > 0 else 0 for x in prob_class['prob_NOT_CKD_full'] ]"
   ]
  },
  {
   "cell_type": "code",
   "execution_count": 146,
   "metadata": {},
   "outputs": [
    {
     "data": {
      "text/plain": [
       "array([[ 0, 65],\n",
       "       [ 0, 35]])"
      ]
     },
     "execution_count": 146,
     "metadata": {},
     "output_type": "execute_result"
    }
   ],
   "source": [
    "cm_full = confusion_matrix(y_full_test,thres_full)\n",
    "cm_full"
   ]
  },
  {
   "cell_type": "code",
   "execution_count": 147,
   "metadata": {},
   "outputs": [],
   "source": [
    "tn_full, fp_full, fn_full, tp_full = cm_full.ravel()"
   ]
  },
  {
   "cell_type": "code",
   "execution_count": 148,
   "metadata": {},
   "outputs": [
    {
     "name": "stdout",
     "output_type": "stream",
     "text": [
      "0.0\n",
      "1.0\n",
      "0.0\n"
     ]
    }
   ],
   "source": [
    "# specificity = tn / tn+fp\n",
    "print(tn_full / (tn_full+fp_full))\n",
    "# sensitivity = tp / tp+fn\n",
    "print(tp_full / (tp_full+fn_full))\n",
    "# 1-sensitivity\n",
    "print(1-(tp_full / (tp_full+fn_full)))"
   ]
  },
  {
   "cell_type": "code",
   "execution_count": 149,
   "metadata": {},
   "outputs": [
    {
     "data": {
      "image/png": "[encoded data removed]",
      "text/plain": [
       "<Figure size 432x288 with 1 Axes>"
      ]
     },
     "metadata": {
      "needs_background": "light"
     },
     "output_type": "display_data"
    }
   ],
   "source": [
    "# First model\n",
    "\n",
    "# observe the sensitivity and specificity from threshold 0 - 1 step by 0.00001\n",
    "sensitivity_full = []\n",
    "specificity_full = []\n",
    "\n",
    "for i in np.arange(0,1.0001,0.00001):\n",
    "#     adjust threshold\n",
    "    thres_full  = [1 if x >= i else 0 for x in prob_class['prob_NOT_CKD_full']]\n",
    "    cm_full = confusion_matrix(y_full_test,thres_full)\n",
    "    tn_full, fp_full, fn_full, tp_full = cm_full.ravel()\n",
    "    sensitivity_full.append((tn_full / (tn_full+fp_full)).round(2))                 \n",
    "    specificity_full.append((tp_full / (tp_full+fn_full)).round(2))\n",
    "# new list : 1 - sensitivity\n",
    "sen_1_full  = [1-x for x in sensitivity_full] \n",
    "# Plot ROC curve\n",
    "plt.plot(sen_1_full,specificity_full)\n",
    "# Plot baseline\n",
    "plt.plot([0,1], [0,1], label='baseline', linestyle='--')\n",
    "plt.xlabel('False Positive rate (1-Sensitivity)')\n",
    "plt.ylabel('True Positive rate (Specificity)');\n"
   ]
  },
  {
   "cell_type": "code",
   "execution_count": 150,
   "metadata": {},
   "outputs": [
    {
     "data": {
      "image/png": "[encoded data removed]",
      "text/plain": [
       "<Figure size 432x288 with 1 Axes>"
      ]
     },
     "metadata": {
      "needs_background": "light"
     },
     "output_type": "display_data"
    }
   ],
   "source": [
    "# Second model\n",
    "\n",
    "# observe the sensitivity and specificity from threshold 0 - 1 step by 0.0001\n",
    "sensitivity = []\n",
    "specificity = []\n",
    "for j in np.arange(0,1.0001,0.0001):\n",
    "    thres  = [1 if x >= j else 0 for x in prob_class['prob_NOT_CKD']]\n",
    "    cm = confusion_matrix(y_test,thres)\n",
    "    tn, fp, fn, tp = cm.ravel()\n",
    "    sensitivity.append((tn / (tn+fp)).round(2))                 \n",
    "    specificity.append((tp / (tp+fn)).round(2))\n",
    "# new list : 1 - sensitivity\n",
    "sen_1  = [1-x for x in sensitivity] \n",
    "# Plot ROC curve\n",
    "plt.plot(sen_1,specificity)\n",
    "# Plot baseline\n",
    "plt.plot([0,1], [0,1], label='baseline', linestyle='--')\n",
    "plt.legend(['LogisticRegression','baseline'])\n",
    "plt.xlabel('False Positive rate (1-Sensitivity)')\n",
    "plt.ylabel('True Positive rate (Specificity)');"
   ]
  },
  {
   "cell_type": "code",
   "execution_count": 151,
   "metadata": {},
   "outputs": [],
   "source": [
    "# From AUC values of both models.\n",
    "# Both models are perfectly able to distinguish between all the Positive and the Negative result correctly."
   ]
  },
  {
   "cell_type": "markdown",
   "metadata": {},
   "source": [
    "### 19. Suppose you're speaking with the biostatistics lead at Mayo Clinic, who asks you \"Why are unbalanced classes generally a problem? Are they a problem in this particular CKD analysis?\" How would you respond?"
   ]
  },
  {
   "cell_type": "markdown",
   "metadata": {},
   "source": [
    "Answer: The unbalanced class may cause the model fails to predict the wanted values.It is more challenging for a model to learn low quantity of minority class and to differentiate the minority class from the majority class.\n",
    "\n",
    "For this particular analysis has no problem in modeling because the ratio of classes is around 65:35, which is slightly unbalanced. However, by the quality of features in data and the obvious difference sign between not CKD and CKD can eliminate the unbalanced classes problem and cause the model more effective."
   ]
  },
  {
   "cell_type": "markdown",
   "metadata": {},
   "source": [
    "### 20. Suppose you're speaking with a doctor at Mayo Clinic who, despite being very smart, doesn't know much about data science or statistics. How would you explain why unbalanced classes are generally a problem to this doctor?"
   ]
  },
  {
   "cell_type": "markdown",
   "metadata": {},
   "source": [
    "Answer:let imagine that the model is student that going to take an exam. If we give the student two topics to read for exam but the exam contain of 20 topics. So, how could student(model) pass(predict minority correct) the exam(unseen data) with only giving them 2 topics(train data) to read out of 20 topics(test data). "
   ]
  },
  {
   "cell_type": "markdown",
   "metadata": {},
   "source": [
    "### 21. Let's create very unbalanced classes just for the sake of this example! Generate very unbalanced classes by [bootstrapping](http://stattrek.com/statistics/dictionary.aspx?definition=sampling_with_replacement) (a.k.a. random sampling with replacement) the majority class.\n",
    "\n",
    "1. The majority class are those individuals with CKD.\n",
    "2. Generate a random sample of size 200,000 of individuals who have CKD **with replacement**. (Consider setting a random seed for this part!)\n",
    "3. Create a new dataframe with the original data plus this random sample of data.\n",
    "4. Now we should have a dataset with around 200,000 observations, of which only about 0.00075% are non-CKD individuals."
   ]
  },
  {
   "cell_type": "code",
   "execution_count": 152,
   "metadata": {
    "scrolled": true
   },
   "outputs": [],
   "source": [
    "# get 200,000 samples of CKD person \n",
    "CKD_df = df_dummy[df_dummy['class_notckd'] == 0].sample(n=200_000,replace=True,random_state=42)"
   ]
  },
  {
   "cell_type": "code",
   "execution_count": 153,
   "metadata": {},
   "outputs": [],
   "source": [
    "# concat original df to CKD_df by adding to last row.\n",
    "un_df = pd.concat([df_dummy,CKD_df],axis=0)"
   ]
  },
  {
   "cell_type": "code",
   "execution_count": 154,
   "metadata": {},
   "outputs": [
    {
     "data": {
      "text/plain": [
       "0    0.999251\n",
       "1    0.000749\n",
       "Name: class_notckd, dtype: float64"
      ]
     },
     "execution_count": 154,
     "metadata": {},
     "output_type": "execute_result"
    }
   ],
   "source": [
    "un_df['class_notckd'].value_counts(normalize=True)"
   ]
  },
  {
   "cell_type": "code",
   "execution_count": 155,
   "metadata": {},
   "outputs": [
    {
     "data": {
      "text/plain": [
       "0    200250\n",
       "1       150\n",
       "Name: class_notckd, dtype: int64"
      ]
     },
     "execution_count": 155,
     "metadata": {},
     "output_type": "execute_result"
    }
   ],
   "source": [
    "un_df['class_notckd'].value_counts()"
   ]
  },
  {
   "cell_type": "markdown",
   "metadata": {},
   "source": [
    "### 22. Build a logistic regression model on the unbalanced class data and evaluate its performance using whatever method(s) you see fit. How would you describe the impact of unbalanced classes on logistic regression as a classifier?\n",
    "> Be sure to look at how well it performs on non-CKD data."
   ]
  },
  {
   "cell_type": "code",
   "execution_count": 173,
   "metadata": {},
   "outputs": [],
   "source": [
    "# remove ['al'] feature from X, because this feature are powerful to distinguish the differences of CKD and not-CKD\n",
    "# So, remove this out to see the impact of unbalanced.\n",
    "\n",
    "X_un = un_df[['hemo','pcv','rbcc','rbc_normal','pc_normal','dm_yes','htn_yes','sod']]\n",
    "y_un = un_df['class_notckd']"
   ]
  },
  {
   "cell_type": "code",
   "execution_count": 174,
   "metadata": {},
   "outputs": [
    {
     "data": {
      "text/plain": [
       "0    200250\n",
       "1       150\n",
       "Name: class_notckd, dtype: int64"
      ]
     },
     "execution_count": 174,
     "metadata": {},
     "output_type": "execute_result"
    }
   ],
   "source": [
    "y_un.value_counts()"
   ]
  },
  {
   "cell_type": "code",
   "execution_count": 175,
   "metadata": {},
   "outputs": [],
   "source": [
    "X_un_train,X_un_test,y_un_train,y_un_test  = train_test_split(X_un,y_un,random_state=42)"
   ]
  },
  {
   "cell_type": "code",
   "execution_count": 176,
   "metadata": {},
   "outputs": [
    {
     "data": {
      "text/plain": [
       "((150300, 8), (50100, 8), (150300,), (50100,))"
      ]
     },
     "execution_count": 176,
     "metadata": {},
     "output_type": "execute_result"
    }
   ],
   "source": [
    "X_un_train.shape,X_un_test.shape,y_un_train.shape,y_un_test.shape"
   ]
  },
  {
   "cell_type": "code",
   "execution_count": 177,
   "metadata": {},
   "outputs": [
    {
     "data": {
      "text/plain": [
       "0    50051\n",
       "1       49\n",
       "Name: class_notckd, dtype: int64"
      ]
     },
     "execution_count": 177,
     "metadata": {},
     "output_type": "execute_result"
    }
   ],
   "source": [
    "y_un_test.value_counts()"
   ]
  },
  {
   "cell_type": "code",
   "execution_count": 267,
   "metadata": {},
   "outputs": [
    {
     "name": "stdout",
     "output_type": "stream",
     "text": [
      "Train: 0.9998735861610113\n",
      "Test: 0.9996806387225549\n"
     ]
    }
   ],
   "source": [
    "logreg_un = LogisticRegression(penalty='none')\n",
    "logreg_un.fit(X_un_train,y_un_train)\n",
    "pred_un = logreg_un.predict(X_un_test)\n",
    "\n",
    "print(f'Train: {logreg_un.score(X_un_train,y_un_train)}')\n",
    "print(f'Test: {logreg_un.score(X_un_test,y_un_test)}')\n",
    "# very low variance, also in sweet spot."
   ]
  },
  {
   "cell_type": "code",
   "execution_count": 182,
   "metadata": {},
   "outputs": [
    {
     "data": {
      "text/plain": [
       "array([[50051,     0],\n",
       "       [   16,    33]])"
      ]
     },
     "execution_count": 182,
     "metadata": {},
     "output_type": "execute_result"
    }
   ],
   "source": [
    "confusion_matrix(y_un_test,pred_un)"
   ]
  },
  {
   "cell_type": "code",
   "execution_count": 190,
   "metadata": {},
   "outputs": [
    {
     "name": "stdout",
     "output_type": "stream",
     "text": [
      "Unbalanced model\n",
      "\n",
      "              precision    recall  f1-score   support\n",
      "\n",
      "           0       1.00      1.00      1.00     50051\n",
      "           1       1.00      0.67      0.80        49\n",
      "\n",
      "    accuracy                           1.00     50100\n",
      "   macro avg       1.00      0.84      0.90     50100\n",
      "weighted avg       1.00      1.00      1.00     50100\n",
      "\n",
      "\n",
      "\n",
      " --------------------------------------------------------\n",
      " \n",
      "Original Model\n",
      "\n",
      "              precision    recall  f1-score   support\n",
      "\n",
      "           0       0.98      0.98      0.98        65\n",
      "           1       0.97      0.97      0.97        35\n",
      "\n",
      "    accuracy                           0.98       100\n",
      "   macro avg       0.98      0.98      0.98       100\n",
      "weighted avg       0.98      0.98      0.98       100\n",
      "\n"
     ]
    }
   ],
   "source": [
    "print('Unbalanced model\\n')\n",
    "print(classification_report(y_un_test,pred_un))\n",
    "print('\\n\\n --------------------------------------------------------\\n \\nOriginal Model\\n')\n",
    "\n",
    "print(classification_report(y_full_test,preds_full))\n",
    "\n",
    "\n",
    "# As you can see from the recall score(How much positive case that model can get (correct)?) , \n",
    "# the model with severe unbalanced classes data cause the recall score to get down from 0.97 --> 0.67 which mean the \n",
    "# same model loss the ability of prediction Not-CKD by aorund 44%. However the unbalanced classes model are train well \n",
    "# with the CKD person so it correct all of the prediction for CKD person."
   ]
  },
  {
   "cell_type": "markdown",
   "metadata": {},
   "source": [
    "---\n",
    "\n",
    "## Step 6: Answer the problem.\n",
    "\n",
    "At this step, you would generally answer the problem! In this situation, you would likely present your model to doctors or administrators at the hospital and show how your model results in reduced false positives/false negatives. Next steps would be to find a way to roll this model and its conclusions out across the hospital so that the outcomes of patients with CKD (and without CKD!) can be improved!"
   ]
  },
  {
   "cell_type": "code",
   "execution_count": 257,
   "metadata": {},
   "outputs": [],
   "source": [
    "# Set X,y\n",
    "X_full = df_dummy[['hemo','pcv','rbcc','rbc_normal','pc_normal','dm_yes','htn_yes','sod','al']]\n",
    "y_full = df_dummy['class_notckd']\n",
    "\n",
    "# split data \n",
    "X_full_train,X_full_test,y_full_train,y_full_test = train_test_split(X_full,y_full,random_state=42)\n",
    "\n",
    "# Instantiate\n",
    "logreg_full = LogisticRegression(penalty = 'none')\n",
    "# Fit\n",
    "logreg_full.fit(X_full_train,y_full_train)\n",
    "# Predict\n",
    "preds_full = logreg_full.predict(X_full_test)\n"
   ]
  },
  {
   "cell_type": "code",
   "execution_count": 266,
   "metadata": {},
   "outputs": [],
   "source": [
    "# Create dataframe for changing name and plotting result\n",
    "tn, fp, fn, tp = confusion_matrix(y_full_test,preds_full).ravel()\n",
    "result = pd.Series(data=[tn, fp, fn, tp],index=['CORRECT PREDICT AS CKD', 'ACTUALLY CKD',\\\n",
    "                                                'ACTUALLY NOT_CKD', 'CORRECT PREDICT AS NOT_CKD'])\n",
    "result = result.sort_values()"
   ]
  },
  {
   "cell_type": "code",
   "execution_count": 259,
   "metadata": {},
   "outputs": [
    {
     "data": {
      "image/png": "[encoded data removed]",
      "text/plain": [
       "<Figure size 432x288 with 1 Axes>"
      ]
     },
     "metadata": {
      "needs_background": "light"
     },
     "output_type": "display_data"
    }
   ],
   "source": [
    "# Plot bar horizontal\n",
    "plt.barh(result.index, result.values,color = ['red','red','green','green'],)\n",
    "plt.axhline(1.5,color='black',linestyle = '--',alpha= 0.5)\n",
    "plt.title('The CKD prediction result from 100 patients data')\n",
    "plt.text(x= 75, y = 2.3, s = '99% correct',size=18,color = 'green')\n",
    "plt.text(x = 15 , y= 0.5 , s = '1% wrong' , size =14 ,color = 'red');\n"
   ]
  },
  {
   "cell_type": "markdown",
   "metadata": {},
   "source": [
    "### From the prediction result from the final model, I would suggest to use this model. Because of the accuracy of the model is 99% that predict correct and also this model can reduce the number of predicting preson with CKD at 100% accuration. Eventhough there will be one person to predict wrong, but this would not cost much negative effect to the hospital which need highest reliability to predict the CKD disease."
   ]
  },
  {
   "cell_type": "code",
   "execution_count": null,
   "metadata": {},
   "outputs": [],
   "source": []
  }
 ],
 "metadata": {
  "kernelspec": {
   "display_name": "Python 3 (ipykernel)",
   "language": "python",
   "name": "python3"
  },
  "language_info": {
   "codemirror_mode": {
    "name": "ipython",
    "version": 3
   },
   "file_extension": ".py",
   "mimetype": "text/x-python",
   "name": "python",
   "nbconvert_exporter": "python",
   "pygments_lexer": "ipython3",
   "version": "3.9.12"
  }
 },
 "nbformat": 4,
 "nbformat_minor": 2
}
